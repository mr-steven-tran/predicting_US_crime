{
 "cells": [
  {
   "cell_type": "markdown",
   "id": "ed97945c-c988-45b2-957d-e19cfbdb5f05",
   "metadata": {},
   "source": [
    "# **Predicting U.S. Crime Rates**\n",
    "\n",
    "## **CPI Data Retrieval**\n",
    "\n",
    "In this notebook, we will access the [BLS Public Data API](https://www.bls.gov/developers/) to pull CPI data over time. \n",
    "\n",
    "Since there is no CPI series for states (just metropolitan areas), we'll use the average annualized national CPI as a broad measure for how expensive things are in every state.\n",
    "\n",
    "**NOTE**: The code cells in this notebook will look very familiar compared to those in the [Unemployment Rate Retrieval notebook](unemployment_rates_retrieval.ipynb). The data both come from the BLS and use the same API.\n",
    "\n",
    "\n",
    "---"
   ]
  },
  {
   "cell_type": "code",
   "execution_count": 1,
   "id": "fd1ac017-0703-4a8a-8ae2-6e676f7c2025",
   "metadata": {
    "execution": {
     "iopub.execute_input": "2021-12-03T03:53:24.491591Z",
     "iopub.status.busy": "2021-12-03T03:53:24.479104Z",
     "iopub.status.idle": "2021-12-03T03:53:26.899900Z",
     "shell.execute_reply": "2021-12-03T03:53:26.898877Z",
     "shell.execute_reply.started": "2021-12-03T03:53:24.483504Z"
    },
    "tags": []
   },
   "outputs": [],
   "source": [
    "import requests\n",
    "import pandas as pd\n",
    "import numpy as np\n",
    "import matplotlib.pyplot as plt\n",
    "import seaborn as sns\n",
    "import json\n",
    "\n",
    "import time\n",
    "from datetime import date\n",
    "\n",
    "end_year = int(date.today().strftime(\"%Y\"))-1"
   ]
  },
  {
   "cell_type": "markdown",
   "id": "dd56196c-36a8-4c34-bcc0-9b682beffc6b",
   "metadata": {},
   "source": [
    "---\n",
    "\n",
    "Unfortunately, per the [BLS Public Data API docs](https://www.bls.gov/developers/api_signature_v2.htm#multiple), the number of years of data is limited to 20 per call.\n",
    "\n",
    "The below function will be the API calling code. The call will need to be made multiple times due to the following restrictions:\n",
    "* Only 20 years of data can be requested per call\n",
    "    * We'll have to start from 1979 (which coincides with the FBI data's start) and get CPI data in 20-year increments. In 2021, at least 3 calls will need to be made per batch of data requests."
   ]
  },
  {
   "cell_type": "code",
   "execution_count": 2,
   "id": "eedbb07e-9d38-4699-b82e-5cffe10224ee",
   "metadata": {
    "execution": {
     "iopub.execute_input": "2021-12-03T03:53:34.748862Z",
     "iopub.status.busy": "2021-12-03T03:53:34.748862Z",
     "iopub.status.idle": "2021-12-03T03:53:34.764834Z",
     "shell.execute_reply": "2021-12-03T03:53:34.763837Z",
     "shell.execute_reply.started": "2021-12-03T03:53:34.748862Z"
    },
    "tags": []
   },
   "outputs": [],
   "source": [
    "headers = {'Content-type': 'application/json'} #does not change between API calls\n",
    "\n",
    "def request_unemployment_data(year_range,series_ids):\n",
    "    data = json.dumps({\"seriesid\": series_ids,\n",
    "                   \"startyear\":year_range[0], \n",
    "                   \"endyear\":year_range[1],\n",
    "                   \"catalog\": True,\n",
    "                   \"annualaverage\": True,\n",
    "                   \"registrationkey\":\"\" ### YOUR API KEY HERE\n",
    "                  })\n",
    "    \n",
    "    #make the request\n",
    "    p = requests.post('https://api.bls.gov/publicAPI/v2/timeseries/data/', data=data, headers=headers)\n",
    "    \n",
    "    series_id_results = False\n",
    "    \n",
    "    df = pd.DataFrame(p.json()['Results']['series'][0]['data'])\n",
    "    #make string unemployment values into floats:\n",
    "    df['value'] = df['value'].astype('float')\n",
    "    #get averages by year:\n",
    "    df = pd.DataFrame(df.groupby('year')['value'].mean()).reset_index()\n",
    "\n",
    "    return df"
   ]
  },
  {
   "cell_type": "markdown",
   "id": "d468e7b5-e6d4-4984-950a-12dde0c8d8e7",
   "metadata": {},
   "source": [
    "The cell below will run the API call for as many times as required to get national average CPI from 1979 to the most recent complete year."
   ]
  },
  {
   "cell_type": "code",
   "execution_count": 3,
   "id": "bba25b4f-e3b4-4fe4-aa6e-3448e2ed2f2d",
   "metadata": {
    "execution": {
     "iopub.execute_input": "2021-12-03T03:53:36.549279Z",
     "iopub.status.busy": "2021-12-03T03:53:36.549279Z",
     "iopub.status.idle": "2021-12-03T03:53:36.556279Z",
     "shell.execute_reply": "2021-12-03T03:53:36.556279Z",
     "shell.execute_reply.started": "2021-12-03T03:53:36.549279Z"
    },
    "tags": []
   },
   "outputs": [],
   "source": [
    "def define_year_ranges(end_year,start_year=1979):\n",
    "    #how many years between 1979 and end year:\n",
    "    years = end_year - start_year\n",
    "    #how many splits needed:\n",
    "    splits = (years // 20) + (0 if years%20==0 else 1)\n",
    "    result = []\n",
    "    last_year = start_year\n",
    "    for i in range(splits):\n",
    "        new_last_year = last_year + min(19,end_year-last_year)\n",
    "        result.append((last_year,new_last_year))\n",
    "        last_year = new_last_year+1\n",
    "    return result"
   ]
  },
  {
   "cell_type": "markdown",
   "id": "cf3585fc-183e-4f12-bc9d-644db82b7000",
   "metadata": {},
   "source": [
    "The `series_id` argument we're using is the BLS series_id for **[Seasonally Adjusted CPI for All Urban Consumers](https://beta.bls.gov/dataViewer/view/timeseries/CUSR0000SA0)**. "
   ]
  },
  {
   "cell_type": "code",
   "execution_count": 4,
   "id": "90a3e2f5-fe9c-4dc6-af85-f5ff243d7502",
   "metadata": {
    "execution": {
     "iopub.execute_input": "2021-12-01T07:28:24.036713Z",
     "iopub.status.busy": "2021-12-01T07:28:24.036713Z",
     "iopub.status.idle": "2021-12-01T07:28:27.092304Z",
     "shell.execute_reply": "2021-12-01T07:28:27.092304Z",
     "shell.execute_reply.started": "2021-12-01T07:28:24.036713Z"
    },
    "tags": []
   },
   "outputs": [],
   "source": [
    "national_cpi = False\n",
    "for date_range in define_year_ranges(2020):\n",
    "    if national_cpi is False:\n",
    "        national_cpi = request_unemployment_data(date_range,[\"CUSR0000SA0\"])\n",
    "    else:\n",
    "        national_cpi = national_cpi.append(request_unemployment_data(date_range,[\"CUSR0000SA0\"]),\n",
    "                                                       ignore_index=True)"
   ]
  },
  {
   "cell_type": "code",
   "execution_count": 5,
   "id": "39b2de99-66b8-4f2f-a827-773174552570",
   "metadata": {
    "execution": {
     "iopub.execute_input": "2021-12-01T07:28:27.092304Z",
     "iopub.status.busy": "2021-12-01T07:28:27.092304Z",
     "iopub.status.idle": "2021-12-01T07:28:27.114777Z",
     "shell.execute_reply": "2021-12-01T07:28:27.113955Z",
     "shell.execute_reply.started": "2021-12-01T07:28:27.092304Z"
    },
    "tags": []
   },
   "outputs": [
    {
     "data": {
      "text/plain": [
       "(42, 2)"
      ]
     },
     "execution_count": 5,
     "metadata": {},
     "output_type": "execute_result"
    }
   ],
   "source": [
    "national_cpi.shape"
   ]
  },
  {
   "cell_type": "code",
   "execution_count": 6,
   "id": "9d100911-4c22-4b92-bcc4-30f900766d2b",
   "metadata": {
    "execution": {
     "iopub.execute_input": "2021-12-01T07:28:27.116097Z",
     "iopub.status.busy": "2021-12-01T07:28:27.116097Z",
     "iopub.status.idle": "2021-12-01T07:28:27.141015Z",
     "shell.execute_reply": "2021-12-01T07:28:27.141015Z",
     "shell.execute_reply.started": "2021-12-01T07:28:27.116097Z"
    },
    "tags": []
   },
   "outputs": [],
   "source": [
    "national_cpi.rename(columns={'value': 'avg_CPI'}, inplace=True)"
   ]
  },
  {
   "cell_type": "code",
   "execution_count": 7,
   "id": "2c885958-1341-47b1-8cfe-25fc3cd4ccdb",
   "metadata": {
    "execution": {
     "iopub.execute_input": "2021-12-01T07:28:27.141015Z",
     "iopub.status.busy": "2021-12-01T07:28:27.141015Z",
     "iopub.status.idle": "2021-12-01T07:28:27.157368Z",
     "shell.execute_reply": "2021-12-01T07:28:27.156357Z",
     "shell.execute_reply.started": "2021-12-01T07:28:27.141015Z"
    },
    "tags": []
   },
   "outputs": [
    {
     "data": {
      "text/plain": [
       "Index(['year', 'avg_CPI'], dtype='object')"
      ]
     },
     "execution_count": 7,
     "metadata": {},
     "output_type": "execute_result"
    }
   ],
   "source": [
    "national_cpi.columns"
   ]
  },
  {
   "cell_type": "code",
   "execution_count": 8,
   "id": "9d1971a6-4a11-49ec-9b55-e3c17a4e4f61",
   "metadata": {
    "execution": {
     "iopub.execute_input": "2021-12-01T07:28:27.157368Z",
     "iopub.status.busy": "2021-12-01T07:28:27.157368Z",
     "iopub.status.idle": "2021-12-01T07:28:27.173004Z",
     "shell.execute_reply": "2021-12-01T07:28:27.173004Z",
     "shell.execute_reply.started": "2021-12-01T07:28:27.157368Z"
    },
    "tags": []
   },
   "outputs": [],
   "source": [
    "national_cpi = national_cpi.sort_values(by=['year'])"
   ]
  },
  {
   "cell_type": "code",
   "execution_count": 9,
   "id": "ad1f89b6-364b-4624-b54b-68797360cd38",
   "metadata": {
    "execution": {
     "iopub.execute_input": "2021-12-01T07:28:27.173004Z",
     "iopub.status.busy": "2021-12-01T07:28:27.173004Z",
     "iopub.status.idle": "2021-12-01T07:28:27.214466Z",
     "shell.execute_reply": "2021-12-01T07:28:27.214466Z",
     "shell.execute_reply.started": "2021-12-01T07:28:27.173004Z"
    },
    "tags": []
   },
   "outputs": [
    {
     "data": {
      "text/html": [
       "<div>\n",
       "<style scoped>\n",
       "    .dataframe tbody tr th:only-of-type {\n",
       "        vertical-align: middle;\n",
       "    }\n",
       "\n",
       "    .dataframe tbody tr th {\n",
       "        vertical-align: top;\n",
       "    }\n",
       "\n",
       "    .dataframe thead th {\n",
       "        text-align: right;\n",
       "    }\n",
       "</style>\n",
       "<table border=\"1\" class=\"dataframe\">\n",
       "  <thead>\n",
       "    <tr style=\"text-align: right;\">\n",
       "      <th></th>\n",
       "      <th>year</th>\n",
       "      <th>avg_CPI</th>\n",
       "    </tr>\n",
       "  </thead>\n",
       "  <tbody>\n",
       "    <tr>\n",
       "      <th>0</th>\n",
       "      <td>1979</td>\n",
       "      <td>72.583333</td>\n",
       "    </tr>\n",
       "    <tr>\n",
       "      <th>1</th>\n",
       "      <td>1980</td>\n",
       "      <td>82.383333</td>\n",
       "    </tr>\n",
       "    <tr>\n",
       "      <th>2</th>\n",
       "      <td>1981</td>\n",
       "      <td>90.933333</td>\n",
       "    </tr>\n",
       "    <tr>\n",
       "      <th>3</th>\n",
       "      <td>1982</td>\n",
       "      <td>96.533333</td>\n",
       "    </tr>\n",
       "    <tr>\n",
       "      <th>4</th>\n",
       "      <td>1983</td>\n",
       "      <td>99.583333</td>\n",
       "    </tr>\n",
       "  </tbody>\n",
       "</table>\n",
       "</div>"
      ],
      "text/plain": [
       "   year    avg_CPI\n",
       "0  1979  72.583333\n",
       "1  1980  82.383333\n",
       "2  1981  90.933333\n",
       "3  1982  96.533333\n",
       "4  1983  99.583333"
      ]
     },
     "execution_count": 9,
     "metadata": {},
     "output_type": "execute_result"
    }
   ],
   "source": [
    "national_cpi.head()"
   ]
  },
  {
   "cell_type": "markdown",
   "id": "42c21608-947b-4bf0-af95-5f137d770c30",
   "metadata": {},
   "source": [
    "---\n",
    "\n",
    "Write to a .csv:"
   ]
  },
  {
   "cell_type": "code",
   "execution_count": 10,
   "id": "82ac998d-432a-4dcd-9034-882123b1dc45",
   "metadata": {
    "execution": {
     "iopub.execute_input": "2021-12-01T07:28:27.214466Z",
     "iopub.status.busy": "2021-12-01T07:28:27.214466Z",
     "iopub.status.idle": "2021-12-01T07:28:27.241181Z",
     "shell.execute_reply": "2021-12-01T07:28:27.241181Z",
     "shell.execute_reply.started": "2021-12-01T07:28:27.214466Z"
    },
    "tags": []
   },
   "outputs": [],
   "source": [
    "national_cpi.to_csv('../data/bls_cpi.csv',index=False)"
   ]
  }
 ],
 "metadata": {
  "kernelspec": {
   "display_name": "Python 3",
   "language": "python",
   "name": "python3"
  },
  "language_info": {
   "codemirror_mode": {
    "name": "ipython",
    "version": 3
   },
   "file_extension": ".py",
   "mimetype": "text/x-python",
   "name": "python",
   "nbconvert_exporter": "python",
   "pygments_lexer": "ipython3",
   "version": "3.8.8"
  }
 },
 "nbformat": 4,
 "nbformat_minor": 5
}
