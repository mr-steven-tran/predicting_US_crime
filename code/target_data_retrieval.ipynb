{
 "cells": [
  {
   "cell_type": "markdown",
   "id": "7b1c889d-8f55-48f5-8f35-59c7f2dbb6d7",
   "metadata": {},
   "source": [
    "# **Predicting U.S. Crime Rates**\n",
    "\n",
    "## **Target Data Retrieval**\n",
    "\n",
    "In this notebook, we will access the [FBI Crime Database](https://crime-data-explorer.fr.cloud.gov/pages/docApi) to retrieve count of crime incidents by state by year.\n",
    "\n",
    "We'll also do a little bit of data pre-processing here.\n",
    "\n",
    "---"
   ]
  },
  {
   "cell_type": "code",
   "execution_count": 1,
   "id": "3811a299-ea73-4954-84a3-d7d2164408b5",
   "metadata": {
    "execution": {
     "iopub.execute_input": "2021-12-03T04:04:04.865458Z",
     "iopub.status.busy": "2021-12-03T04:04:04.865458Z",
     "iopub.status.idle": "2021-12-03T04:04:06.253762Z",
     "shell.execute_reply": "2021-12-03T04:04:06.253762Z",
     "shell.execute_reply.started": "2021-12-03T04:04:04.865458Z"
    },
    "tags": []
   },
   "outputs": [],
   "source": [
    "import requests\n",
    "import pandas as pd\n",
    "import numpy as np\n",
    "import matplotlib.pyplot as plt\n",
    "import seaborn as sns\n",
    "\n",
    "import time\n",
    "from datetime import date"
   ]
  },
  {
   "cell_type": "code",
   "execution_count": 2,
   "id": "553ea744-0ed1-4de7-b30a-10290e1e420f",
   "metadata": {
    "execution": {
     "iopub.execute_input": "2021-12-03T04:04:06.253762Z",
     "iopub.status.busy": "2021-12-03T04:04:06.253762Z",
     "iopub.status.idle": "2021-12-03T04:04:06.269190Z",
     "shell.execute_reply": "2021-12-03T04:04:06.269190Z",
     "shell.execute_reply.started": "2021-12-03T04:04:06.253762Z"
    },
    "tags": []
   },
   "outputs": [],
   "source": [
    "#api call function\n",
    "#note that we pass a start year of 1960, but the data for most states starts in 1979.\n",
    "def get_crime_data(state):\n",
    "    \"\"\"Returns a dataframe of fbi ucr crime estimates by state\"\"\"\n",
    "    end_year = int(date.today().strftime(\"%Y\"))\n",
    "    baseurl = 'https://api.usa.gov/crime/fbi/sapi/'\n",
    "    endpoint = f'api/estimates/states/{state}/1960/{end_year}?api_key='\n",
    "    apikey = '' ### YOUR API KEY HERE\n",
    "    res = requests.get(baseurl + endpoint + apikey)\n",
    "    \n",
    "    #must return a dataframe\n",
    "    df = pd.DataFrame(res.json()['results']).iloc[:,1:].sort_values('year')\n",
    "    return df\n",
    "\n",
    "#all the states' abbreviations. taken from https://gist.github.com/rogerallen/1583593\n",
    "us_state_to_abbrev = {\n",
    "    \"Alabama\": \"AL\",\n",
    "    \"Alaska\": \"AK\",\n",
    "    \"Arizona\": \"AZ\",\n",
    "    \"Arkansas\": \"AR\",\n",
    "    \"California\": \"CA\",\n",
    "    \"Colorado\": \"CO\",\n",
    "    \"Connecticut\": \"CT\",\n",
    "    \"Delaware\": \"DE\",\n",
    "    \"Florida\": \"FL\",\n",
    "    \"Georgia\": \"GA\",\n",
    "    \"Hawaii\": \"HI\",\n",
    "    \"Idaho\": \"ID\",\n",
    "    \"Illinois\": \"IL\",\n",
    "    \"Indiana\": \"IN\",\n",
    "    \"Iowa\": \"IA\",\n",
    "    \"Kansas\": \"KS\",\n",
    "    \"Kentucky\": \"KY\",\n",
    "    \"Louisiana\": \"LA\",\n",
    "    \"Maine\": \"ME\",\n",
    "    \"Maryland\": \"MD\",\n",
    "    \"Massachusetts\": \"MA\",\n",
    "    \"Michigan\": \"MI\",\n",
    "    \"Minnesota\": \"MN\",\n",
    "    \"Mississippi\": \"MS\",\n",
    "    \"Missouri\": \"MO\",\n",
    "    \"Montana\": \"MT\",\n",
    "    \"Nebraska\": \"NE\",\n",
    "    \"Nevada\": \"NV\",\n",
    "    \"New Hampshire\": \"NH\",\n",
    "    \"New Jersey\": \"NJ\",\n",
    "    \"New Mexico\": \"NM\",\n",
    "    \"New York\": \"NY\",\n",
    "    \"North Carolina\": \"NC\",\n",
    "    \"North Dakota\": \"ND\",\n",
    "    \"Ohio\": \"OH\",\n",
    "    \"Oklahoma\": \"OK\",\n",
    "    \"Oregon\": \"OR\",\n",
    "    \"Pennsylvania\": \"PA\",\n",
    "    \"Rhode Island\": \"RI\",\n",
    "    \"South Carolina\": \"SC\",\n",
    "    \"South Dakota\": \"SD\",\n",
    "    \"Tennessee\": \"TN\",\n",
    "    \"Texas\": \"TX\",\n",
    "    \"Utah\": \"UT\",\n",
    "    \"Vermont\": \"VT\",\n",
    "    \"Virginia\": \"VA\",\n",
    "    \"Washington\": \"WA\",\n",
    "    \"West Virginia\": \"WV\",\n",
    "    \"Wisconsin\": \"WI\",\n",
    "    \"Wyoming\": \"WY\",\n",
    "    \"District of Columbia\": \"DC\",\n",
    "}"
   ]
  },
  {
   "cell_type": "markdown",
   "id": "5c8f9162-aba4-4d82-a7e8-a12fa8c0fae4",
   "metadata": {},
   "source": [
    "Run the loop below to get crime data for all 50 states (+ DC)."
   ]
  },
  {
   "cell_type": "code",
   "execution_count": 3,
   "id": "0c2b801b-c756-4dea-8a45-303a67e65af2",
   "metadata": {
    "execution": {
     "iopub.execute_input": "2021-12-03T04:04:06.269190Z",
     "iopub.status.busy": "2021-12-03T04:04:06.269190Z",
     "iopub.status.idle": "2021-12-03T04:07:01.293995Z",
     "shell.execute_reply": "2021-12-03T04:07:01.293995Z",
     "shell.execute_reply.started": "2021-12-03T04:04:06.269190Z"
    },
    "tags": []
   },
   "outputs": [
    {
     "name": "stdout",
     "output_type": "stream",
     "text": [
      "==========================================================[ All Done ]//\n"
     ]
    }
   ],
   "source": [
    "state_crimes = False\n",
    "for full_state, state in us_state_to_abbrev.items():\n",
    "    if state_crimes is False:\n",
    "        state_crimes = get_crime_data(state)\n",
    "    else:\n",
    "        state_crimes = state_crimes.append(get_crime_data(state),ignore_index=True)\n",
    "    print(f'Crime data for {full_state} retrieved =======================//',end='\\r')\n",
    "    time.sleep(3)\n",
    "    \n",
    "print('\\r==========================================================[ All Done ]//')  "
   ]
  },
  {
   "cell_type": "markdown",
   "id": "9dd32ce7-28eb-45d0-9144-1f2dddf48483",
   "metadata": {},
   "source": [
    "At this point, we have crime data, but to deal with some missing values we will have to do some processing. Upon inspecting the data types and null counts, it appears that for some years, counts for the `rape` offense may have been revised. "
   ]
  },
  {
   "cell_type": "code",
   "execution_count": 4,
   "id": "261fa8de-9663-40c1-862d-01358eb5443a",
   "metadata": {
    "execution": {
     "iopub.execute_input": "2021-12-03T04:07:01.293995Z",
     "iopub.status.busy": "2021-12-03T04:07:01.293995Z",
     "iopub.status.idle": "2021-12-03T04:07:01.309314Z",
     "shell.execute_reply": "2021-12-03T04:07:01.309314Z",
     "shell.execute_reply.started": "2021-12-03T04:07:01.293995Z"
    },
    "tags": []
   },
   "outputs": [
    {
     "name": "stdout",
     "output_type": "stream",
     "text": [
      "<class 'pandas.core.frame.DataFrame'>\n",
      "RangeIndex: 2142 entries, 0 to 2141\n",
      "Data columns (total 14 columns):\n",
      " #   Column               Non-Null Count  Dtype  \n",
      "---  ------               --------------  -----  \n",
      " 0   state_abbr           2142 non-null   object \n",
      " 1   year                 2142 non-null   int64  \n",
      " 2   population           2142 non-null   int64  \n",
      " 3   violent_crime        2142 non-null   int64  \n",
      " 4   homicide             2142 non-null   int64  \n",
      " 5   rape_legacy          1938 non-null   float64\n",
      " 6   rape_revised         408 non-null    float64\n",
      " 7   robbery              2142 non-null   int64  \n",
      " 8   aggravated_assault   2142 non-null   int64  \n",
      " 9   property_crime       2142 non-null   int64  \n",
      " 10  burglary             2142 non-null   int64  \n",
      " 11  larceny              2142 non-null   int64  \n",
      " 12  motor_vehicle_theft  2142 non-null   int64  \n",
      " 13  arson                2142 non-null   int64  \n",
      "dtypes: float64(2), int64(11), object(1)\n",
      "memory usage: 234.4+ KB\n"
     ]
    }
   ],
   "source": [
    "state_crimes.info()"
   ]
  },
  {
   "cell_type": "markdown",
   "id": "7a73e093-a69d-409d-9059-51a0290c712e",
   "metadata": {},
   "source": [
    "To deal with this, for years where a `rape_revised` count is non-missing, we'll use that count. Otherwise, we'll use the `rape_legacy` count. We'll store this in a variable named `rape`, and then discard the `rape_legacy` and `rape_revised` columns."
   ]
  },
  {
   "cell_type": "code",
   "execution_count": 5,
   "id": "e4f03c07-a06c-4a98-98aa-28bd7ef2174a",
   "metadata": {
    "execution": {
     "iopub.execute_input": "2021-12-03T04:07:01.309314Z",
     "iopub.status.busy": "2021-12-03T04:07:01.309314Z",
     "iopub.status.idle": "2021-12-03T04:07:01.331600Z",
     "shell.execute_reply": "2021-12-03T04:07:01.331600Z",
     "shell.execute_reply.started": "2021-12-03T04:07:01.309314Z"
    },
    "tags": []
   },
   "outputs": [],
   "source": [
    "state_crimes['rape'] = [state_crimes['rape_legacy'][i] if x else state_crimes['rape_revised'][i] for i,x in enumerate(np.isnan(state_crimes['rape_revised']))]\n",
    "state_crimes['rape'] = state_crimes['rape'].astype('int64')"
   ]
  },
  {
   "cell_type": "code",
   "execution_count": 6,
   "id": "ad1833ac-03bf-4250-9e1e-a7d4b09f3d1c",
   "metadata": {
    "execution": {
     "iopub.execute_input": "2021-12-03T04:07:01.331600Z",
     "iopub.status.busy": "2021-12-03T04:07:01.331600Z",
     "iopub.status.idle": "2021-12-03T04:07:01.347120Z",
     "shell.execute_reply": "2021-12-03T04:07:01.347120Z",
     "shell.execute_reply.started": "2021-12-03T04:07:01.331600Z"
    },
    "tags": []
   },
   "outputs": [
    {
     "name": "stdout",
     "output_type": "stream",
     "text": [
      "<class 'pandas.core.frame.DataFrame'>\n",
      "RangeIndex: 2142 entries, 0 to 2141\n",
      "Data columns (total 15 columns):\n",
      " #   Column               Non-Null Count  Dtype  \n",
      "---  ------               --------------  -----  \n",
      " 0   state_abbr           2142 non-null   object \n",
      " 1   year                 2142 non-null   int64  \n",
      " 2   population           2142 non-null   int64  \n",
      " 3   violent_crime        2142 non-null   int64  \n",
      " 4   homicide             2142 non-null   int64  \n",
      " 5   rape_legacy          1938 non-null   float64\n",
      " 6   rape_revised         408 non-null    float64\n",
      " 7   robbery              2142 non-null   int64  \n",
      " 8   aggravated_assault   2142 non-null   int64  \n",
      " 9   property_crime       2142 non-null   int64  \n",
      " 10  burglary             2142 non-null   int64  \n",
      " 11  larceny              2142 non-null   int64  \n",
      " 12  motor_vehicle_theft  2142 non-null   int64  \n",
      " 13  arson                2142 non-null   int64  \n",
      " 14  rape                 2142 non-null   int64  \n",
      "dtypes: float64(2), int64(12), object(1)\n",
      "memory usage: 251.1+ KB\n"
     ]
    }
   ],
   "source": [
    "#the new column counts should match all the other no-nulls columns:\n",
    "state_crimes.info()"
   ]
  },
  {
   "cell_type": "code",
   "execution_count": 7,
   "id": "b7c240fa-9ed8-48c4-bd87-b1564c9f57fa",
   "metadata": {
    "execution": {
     "iopub.execute_input": "2021-12-03T04:07:01.347120Z",
     "iopub.status.busy": "2021-12-03T04:07:01.347120Z",
     "iopub.status.idle": "2021-12-03T04:07:01.362979Z",
     "shell.execute_reply": "2021-12-03T04:07:01.362979Z",
     "shell.execute_reply.started": "2021-12-03T04:07:01.347120Z"
    },
    "tags": []
   },
   "outputs": [],
   "source": [
    "#remove the original fields:\n",
    "state_crimes.drop(columns=['rape_legacy','rape_revised'],inplace=True)\n",
    "\n",
    "#rearrange the column names after the old fields are dropped:\n",
    "fixed_cols = ['state_abbr', 'year', 'population',\n",
    "       'violent_crime', 'homicide',  'rape', 'robbery',\n",
    "       'aggravated_assault', 'property_crime', 'burglary', 'larceny',\n",
    "       'motor_vehicle_theft', 'arson']\n",
    "\n",
    "state_crimes = state_crimes[fixed_cols]"
   ]
  },
  {
   "cell_type": "markdown",
   "id": "5218ace5-c06f-47a6-a908-53d234bcc3a7",
   "metadata": {},
   "source": [
    "Lastly, we'll also add a set of calculated rate fields, which are defined as **incidents per thousand population**. Each offense will have a 'per thousand population field denoted by a `_1000` in the field name."
   ]
  },
  {
   "cell_type": "code",
   "execution_count": 8,
   "id": "cd7a6366-139b-4baa-b473-7bb8f46a6d06",
   "metadata": {
    "execution": {
     "iopub.execute_input": "2021-12-03T04:07:01.362979Z",
     "iopub.status.busy": "2021-12-03T04:07:01.362979Z",
     "iopub.status.idle": "2021-12-03T04:07:01.394305Z",
     "shell.execute_reply": "2021-12-03T04:07:01.394305Z",
     "shell.execute_reply.started": "2021-12-03T04:07:01.362979Z"
    },
    "tags": []
   },
   "outputs": [],
   "source": [
    "for offense in state_crimes.columns[3:]:\n",
    "    state_crimes[offense + '_1000'] = state_crimes[offense]/(state_crimes['population']/1000)"
   ]
  },
  {
   "cell_type": "code",
   "execution_count": 9,
   "id": "909691fa-e62d-4102-b3ad-a53c56f64b22",
   "metadata": {
    "execution": {
     "iopub.execute_input": "2021-12-03T04:07:01.394305Z",
     "iopub.status.busy": "2021-12-03T04:07:01.394305Z",
     "iopub.status.idle": "2021-12-03T04:07:01.409619Z",
     "shell.execute_reply": "2021-12-03T04:07:01.409619Z",
     "shell.execute_reply.started": "2021-12-03T04:07:01.394305Z"
    },
    "tags": []
   },
   "outputs": [
    {
     "name": "stdout",
     "output_type": "stream",
     "text": [
      "<class 'pandas.core.frame.DataFrame'>\n",
      "RangeIndex: 2142 entries, 0 to 2141\n",
      "Data columns (total 23 columns):\n",
      " #   Column                    Non-Null Count  Dtype  \n",
      "---  ------                    --------------  -----  \n",
      " 0   state_abbr                2142 non-null   object \n",
      " 1   year                      2142 non-null   int64  \n",
      " 2   population                2142 non-null   int64  \n",
      " 3   violent_crime             2142 non-null   int64  \n",
      " 4   homicide                  2142 non-null   int64  \n",
      " 5   rape                      2142 non-null   int64  \n",
      " 6   robbery                   2142 non-null   int64  \n",
      " 7   aggravated_assault        2142 non-null   int64  \n",
      " 8   property_crime            2142 non-null   int64  \n",
      " 9   burglary                  2142 non-null   int64  \n",
      " 10  larceny                   2142 non-null   int64  \n",
      " 11  motor_vehicle_theft       2142 non-null   int64  \n",
      " 12  arson                     2142 non-null   int64  \n",
      " 13  violent_crime_1000        2142 non-null   float64\n",
      " 14  homicide_1000             2142 non-null   float64\n",
      " 15  rape_1000                 2142 non-null   float64\n",
      " 16  robbery_1000              2142 non-null   float64\n",
      " 17  aggravated_assault_1000   2142 non-null   float64\n",
      " 18  property_crime_1000       2142 non-null   float64\n",
      " 19  burglary_1000             2142 non-null   float64\n",
      " 20  larceny_1000              2142 non-null   float64\n",
      " 21  motor_vehicle_theft_1000  2142 non-null   float64\n",
      " 22  arson_1000                2142 non-null   float64\n",
      "dtypes: float64(10), int64(12), object(1)\n",
      "memory usage: 385.0+ KB\n"
     ]
    }
   ],
   "source": [
    "state_crimes.info()"
   ]
  },
  {
   "cell_type": "markdown",
   "id": "f13ee2e7-2e62-42b6-8787-5c3a1f8df33b",
   "metadata": {},
   "source": [
    "---\n",
    "\n",
    "With collection, some pre-processing, and field calculations complete, save the dataset to a file:"
   ]
  },
  {
   "cell_type": "code",
   "execution_count": 10,
   "id": "b6a4f421-d352-4ee6-8ed4-c333bb805997",
   "metadata": {
    "execution": {
     "iopub.execute_input": "2021-12-03T04:07:01.409619Z",
     "iopub.status.busy": "2021-12-03T04:07:01.409619Z",
     "iopub.status.idle": "2021-12-03T04:07:01.463267Z",
     "shell.execute_reply": "2021-12-03T04:07:01.463267Z",
     "shell.execute_reply.started": "2021-12-03T04:07:01.409619Z"
    },
    "tags": []
   },
   "outputs": [],
   "source": [
    "state_crimes.to_csv('../data/crimes_by_state.csv',index=False)"
   ]
  },
  {
   "cell_type": "markdown",
   "id": "96e29d88-103f-4c12-b33c-e1a3438f3ed4",
   "metadata": {},
   "source": [
    "---\n",
    "\n",
    "Repeat the above steps with all the states' criminal offense counts combined to get a **National** dataset:"
   ]
  },
  {
   "cell_type": "code",
   "execution_count": 11,
   "id": "f1343245-df4f-40af-a45b-599f1ecaa5f0",
   "metadata": {
    "execution": {
     "iopub.execute_input": "2021-12-03T04:07:01.463267Z",
     "iopub.status.busy": "2021-12-03T04:07:01.463267Z",
     "iopub.status.idle": "2021-12-03T04:07:01.478642Z",
     "shell.execute_reply": "2021-12-03T04:07:01.478642Z",
     "shell.execute_reply.started": "2021-12-03T04:07:01.463267Z"
    },
    "tags": []
   },
   "outputs": [],
   "source": [
    "offense_counts = ['population'] + list(state_crimes.columns[3:13])\n",
    "us_crimes = state_crimes.copy()\n",
    "us_crimes = us_crimes.groupby('year')[offense_counts].sum()"
   ]
  },
  {
   "cell_type": "code",
   "execution_count": 12,
   "id": "328cfe9a-66e9-41ef-9a6a-696791ccf610",
   "metadata": {
    "execution": {
     "iopub.execute_input": "2021-12-03T04:07:01.478642Z",
     "iopub.status.busy": "2021-12-03T04:07:01.478642Z",
     "iopub.status.idle": "2021-12-03T04:07:01.494301Z",
     "shell.execute_reply": "2021-12-03T04:07:01.494301Z",
     "shell.execute_reply.started": "2021-12-03T04:07:01.478642Z"
    },
    "tags": []
   },
   "outputs": [
    {
     "data": {
      "text/html": [
       "<div>\n",
       "<style scoped>\n",
       "    .dataframe tbody tr th:only-of-type {\n",
       "        vertical-align: middle;\n",
       "    }\n",
       "\n",
       "    .dataframe tbody tr th {\n",
       "        vertical-align: top;\n",
       "    }\n",
       "\n",
       "    .dataframe thead th {\n",
       "        text-align: right;\n",
       "    }\n",
       "</style>\n",
       "<table border=\"1\" class=\"dataframe\">\n",
       "  <thead>\n",
       "    <tr style=\"text-align: right;\">\n",
       "      <th></th>\n",
       "      <th>population</th>\n",
       "      <th>violent_crime</th>\n",
       "      <th>homicide</th>\n",
       "      <th>rape</th>\n",
       "      <th>robbery</th>\n",
       "      <th>aggravated_assault</th>\n",
       "      <th>property_crime</th>\n",
       "      <th>burglary</th>\n",
       "      <th>larceny</th>\n",
       "      <th>motor_vehicle_theft</th>\n",
       "      <th>arson</th>\n",
       "    </tr>\n",
       "    <tr>\n",
       "      <th>year</th>\n",
       "      <th></th>\n",
       "      <th></th>\n",
       "      <th></th>\n",
       "      <th></th>\n",
       "      <th></th>\n",
       "      <th></th>\n",
       "      <th></th>\n",
       "      <th></th>\n",
       "      <th></th>\n",
       "      <th></th>\n",
       "      <th></th>\n",
       "    </tr>\n",
       "  </thead>\n",
       "  <tbody>\n",
       "    <tr>\n",
       "      <th>1979</th>\n",
       "      <td>220097000</td>\n",
       "      <td>1207653</td>\n",
       "      <td>21456</td>\n",
       "      <td>76360</td>\n",
       "      <td>480499</td>\n",
       "      <td>629338</td>\n",
       "      <td>11040763</td>\n",
       "      <td>3327712</td>\n",
       "      <td>6600307</td>\n",
       "      <td>1112744</td>\n",
       "      <td>97747</td>\n",
       "    </tr>\n",
       "    <tr>\n",
       "      <th>1980</th>\n",
       "      <td>225389264</td>\n",
       "      <td>1344053</td>\n",
       "      <td>23044</td>\n",
       "      <td>82946</td>\n",
       "      <td>565616</td>\n",
       "      <td>672447</td>\n",
       "      <td>12062840</td>\n",
       "      <td>3795130</td>\n",
       "      <td>7136056</td>\n",
       "      <td>1131654</td>\n",
       "      <td>140117</td>\n",
       "    </tr>\n",
       "    <tr>\n",
       "      <th>1981</th>\n",
       "      <td>229146000</td>\n",
       "      <td>1361239</td>\n",
       "      <td>22516</td>\n",
       "      <td>82446</td>\n",
       "      <td>592629</td>\n",
       "      <td>663648</td>\n",
       "      <td>12060886</td>\n",
       "      <td>3779610</td>\n",
       "      <td>7193495</td>\n",
       "      <td>1087781</td>\n",
       "      <td>124102</td>\n",
       "    </tr>\n",
       "  </tbody>\n",
       "</table>\n",
       "</div>"
      ],
      "text/plain": [
       "      population  violent_crime  homicide   rape  robbery  aggravated_assault  \\\n",
       "year                                                                            \n",
       "1979   220097000        1207653     21456  76360   480499              629338   \n",
       "1980   225389264        1344053     23044  82946   565616              672447   \n",
       "1981   229146000        1361239     22516  82446   592629              663648   \n",
       "\n",
       "      property_crime  burglary  larceny  motor_vehicle_theft   arson  \n",
       "year                                                                  \n",
       "1979        11040763   3327712  6600307              1112744   97747  \n",
       "1980        12062840   3795130  7136056              1131654  140117  \n",
       "1981        12060886   3779610  7193495              1087781  124102  "
      ]
     },
     "execution_count": 12,
     "metadata": {},
     "output_type": "execute_result"
    }
   ],
   "source": [
    "us_crimes.head(3)"
   ]
  },
  {
   "cell_type": "code",
   "execution_count": 13,
   "id": "674e9923-941e-4f15-929d-2a05c4e4615a",
   "metadata": {
    "execution": {
     "iopub.execute_input": "2021-12-03T04:07:01.494301Z",
     "iopub.status.busy": "2021-12-03T04:07:01.494301Z",
     "iopub.status.idle": "2021-12-03T04:07:01.532371Z",
     "shell.execute_reply": "2021-12-03T04:07:01.532371Z",
     "shell.execute_reply.started": "2021-12-03T04:07:01.494301Z"
    },
    "tags": []
   },
   "outputs": [
    {
     "data": {
      "text/html": [
       "<div>\n",
       "<style scoped>\n",
       "    .dataframe tbody tr th:only-of-type {\n",
       "        vertical-align: middle;\n",
       "    }\n",
       "\n",
       "    .dataframe tbody tr th {\n",
       "        vertical-align: top;\n",
       "    }\n",
       "\n",
       "    .dataframe thead th {\n",
       "        text-align: right;\n",
       "    }\n",
       "</style>\n",
       "<table border=\"1\" class=\"dataframe\">\n",
       "  <thead>\n",
       "    <tr style=\"text-align: right;\">\n",
       "      <th></th>\n",
       "      <th>year</th>\n",
       "      <th>population</th>\n",
       "      <th>violent_crime</th>\n",
       "      <th>homicide</th>\n",
       "      <th>rape</th>\n",
       "      <th>robbery</th>\n",
       "      <th>aggravated_assault</th>\n",
       "      <th>property_crime</th>\n",
       "      <th>burglary</th>\n",
       "      <th>larceny</th>\n",
       "      <th>...</th>\n",
       "      <th>avg_violent_crime_1000</th>\n",
       "      <th>avg_homicide_1000</th>\n",
       "      <th>avg_rape_1000</th>\n",
       "      <th>avg_robbery_1000</th>\n",
       "      <th>avg_aggravated_assault_1000</th>\n",
       "      <th>avg_property_crime_1000</th>\n",
       "      <th>avg_burglary_1000</th>\n",
       "      <th>avg_larceny_1000</th>\n",
       "      <th>avg_motor_vehicle_theft_1000</th>\n",
       "      <th>avg_arson_1000</th>\n",
       "    </tr>\n",
       "  </thead>\n",
       "  <tbody>\n",
       "    <tr>\n",
       "      <th>37</th>\n",
       "      <td>2016</td>\n",
       "      <td>323405935</td>\n",
       "      <td>1285606</td>\n",
       "      <td>17413</td>\n",
       "      <td>132414</td>\n",
       "      <td>332797</td>\n",
       "      <td>802982</td>\n",
       "      <td>7928530</td>\n",
       "      <td>1516405</td>\n",
       "      <td>5644835</td>\n",
       "      <td>...</td>\n",
       "      <td>3.941718</td>\n",
       "      <td>0.052603</td>\n",
       "      <td>0.458628</td>\n",
       "      <td>0.905235</td>\n",
       "      <td>2.525252</td>\n",
       "      <td>25.037643</td>\n",
       "      <td>4.709251</td>\n",
       "      <td>18.041865</td>\n",
       "      <td>2.286527</td>\n",
       "      <td>0.148394</td>\n",
       "    </tr>\n",
       "    <tr>\n",
       "      <th>38</th>\n",
       "      <td>2017</td>\n",
       "      <td>325147121</td>\n",
       "      <td>1283875</td>\n",
       "      <td>17294</td>\n",
       "      <td>135666</td>\n",
       "      <td>320596</td>\n",
       "      <td>810319</td>\n",
       "      <td>7682988</td>\n",
       "      <td>1397045</td>\n",
       "      <td>5513000</td>\n",
       "      <td>...</td>\n",
       "      <td>3.902975</td>\n",
       "      <td>0.052329</td>\n",
       "      <td>0.466933</td>\n",
       "      <td>0.851590</td>\n",
       "      <td>2.532123</td>\n",
       "      <td>24.157457</td>\n",
       "      <td>4.357037</td>\n",
       "      <td>17.453567</td>\n",
       "      <td>2.346853</td>\n",
       "      <td>0.137141</td>\n",
       "    </tr>\n",
       "    <tr>\n",
       "      <th>39</th>\n",
       "      <td>2018</td>\n",
       "      <td>326687501</td>\n",
       "      <td>1252399</td>\n",
       "      <td>16374</td>\n",
       "      <td>143765</td>\n",
       "      <td>281278</td>\n",
       "      <td>810982</td>\n",
       "      <td>7219084</td>\n",
       "      <td>1235013</td>\n",
       "      <td>5232167</td>\n",
       "      <td>...</td>\n",
       "      <td>3.821438</td>\n",
       "      <td>0.049590</td>\n",
       "      <td>0.493390</td>\n",
       "      <td>0.725858</td>\n",
       "      <td>2.552601</td>\n",
       "      <td>22.610954</td>\n",
       "      <td>3.847414</td>\n",
       "      <td>16.470634</td>\n",
       "      <td>2.292906</td>\n",
       "      <td>0.121859</td>\n",
       "    </tr>\n",
       "    <tr>\n",
       "      <th>40</th>\n",
       "      <td>2019</td>\n",
       "      <td>328329953</td>\n",
       "      <td>1250393</td>\n",
       "      <td>16669</td>\n",
       "      <td>143224</td>\n",
       "      <td>268483</td>\n",
       "      <td>822017</td>\n",
       "      <td>6995235</td>\n",
       "      <td>1118096</td>\n",
       "      <td>5152267</td>\n",
       "      <td>...</td>\n",
       "      <td>3.802693</td>\n",
       "      <td>0.052033</td>\n",
       "      <td>0.490759</td>\n",
       "      <td>0.689349</td>\n",
       "      <td>2.570552</td>\n",
       "      <td>21.568613</td>\n",
       "      <td>3.456026</td>\n",
       "      <td>15.951128</td>\n",
       "      <td>2.161460</td>\n",
       "      <td>0.113130</td>\n",
       "    </tr>\n",
       "    <tr>\n",
       "      <th>41</th>\n",
       "      <td>2020</td>\n",
       "      <td>329484123</td>\n",
       "      <td>1313105</td>\n",
       "      <td>21570</td>\n",
       "      <td>126430</td>\n",
       "      <td>243600</td>\n",
       "      <td>921505</td>\n",
       "      <td>6452038</td>\n",
       "      <td>1035314</td>\n",
       "      <td>4606324</td>\n",
       "      <td>...</td>\n",
       "      <td>3.961042</td>\n",
       "      <td>0.064651</td>\n",
       "      <td>0.437022</td>\n",
       "      <td>0.626083</td>\n",
       "      <td>2.833286</td>\n",
       "      <td>19.818617</td>\n",
       "      <td>3.152663</td>\n",
       "      <td>14.289438</td>\n",
       "      <td>2.376517</td>\n",
       "      <td>0.132387</td>\n",
       "    </tr>\n",
       "  </tbody>\n",
       "</table>\n",
       "<p>5 rows × 22 columns</p>\n",
       "</div>"
      ],
      "text/plain": [
       "    year  population  violent_crime  homicide    rape  robbery  \\\n",
       "37  2016   323405935        1285606     17413  132414   332797   \n",
       "38  2017   325147121        1283875     17294  135666   320596   \n",
       "39  2018   326687501        1252399     16374  143765   281278   \n",
       "40  2019   328329953        1250393     16669  143224   268483   \n",
       "41  2020   329484123        1313105     21570  126430   243600   \n",
       "\n",
       "    aggravated_assault  property_crime  burglary  larceny  ...  \\\n",
       "37              802982         7928530   1516405  5644835  ...   \n",
       "38              810319         7682988   1397045  5513000  ...   \n",
       "39              810982         7219084   1235013  5232167  ...   \n",
       "40              822017         6995235   1118096  5152267  ...   \n",
       "41              921505         6452038   1035314  4606324  ...   \n",
       "\n",
       "    avg_violent_crime_1000  avg_homicide_1000  avg_rape_1000  \\\n",
       "37                3.941718           0.052603       0.458628   \n",
       "38                3.902975           0.052329       0.466933   \n",
       "39                3.821438           0.049590       0.493390   \n",
       "40                3.802693           0.052033       0.490759   \n",
       "41                3.961042           0.064651       0.437022   \n",
       "\n",
       "    avg_robbery_1000  avg_aggravated_assault_1000  avg_property_crime_1000  \\\n",
       "37          0.905235                     2.525252                25.037643   \n",
       "38          0.851590                     2.532123                24.157457   \n",
       "39          0.725858                     2.552601                22.610954   \n",
       "40          0.689349                     2.570552                21.568613   \n",
       "41          0.626083                     2.833286                19.818617   \n",
       "\n",
       "    avg_burglary_1000  avg_larceny_1000  avg_motor_vehicle_theft_1000  \\\n",
       "37           4.709251         18.041865                      2.286527   \n",
       "38           4.357037         17.453567                      2.346853   \n",
       "39           3.847414         16.470634                      2.292906   \n",
       "40           3.456026         15.951128                      2.161460   \n",
       "41           3.152663         14.289438                      2.376517   \n",
       "\n",
       "    avg_arson_1000  \n",
       "37        0.148394  \n",
       "38        0.137141  \n",
       "39        0.121859  \n",
       "40        0.113130  \n",
       "41        0.132387  \n",
       "\n",
       "[5 rows x 22 columns]"
      ]
     },
     "execution_count": 13,
     "metadata": {},
     "output_type": "execute_result"
    }
   ],
   "source": [
    "for offense in us_crimes[offense_counts].columns[1:]:\n",
    "    us_crimes['avg_'+ offense + '_1000'] = state_crimes.groupby('year')[offense + '_1000'].mean()\n",
    "us_crimes.reset_index(inplace=True)\n",
    "us_crimes.tail(5)"
   ]
  },
  {
   "cell_type": "code",
   "execution_count": 14,
   "id": "4eb53b9e-6f02-4109-a039-7a532298b9dd",
   "metadata": {
    "execution": {
     "iopub.execute_input": "2021-12-03T04:07:01.532371Z",
     "iopub.status.busy": "2021-12-03T04:07:01.532371Z",
     "iopub.status.idle": "2021-12-03T04:07:01.548016Z",
     "shell.execute_reply": "2021-12-03T04:07:01.548016Z",
     "shell.execute_reply.started": "2021-12-03T04:07:01.532371Z"
    },
    "tags": []
   },
   "outputs": [],
   "source": [
    "us_crimes.to_csv('../data/us_crimes.csv', index=False)"
   ]
  },
  {
   "cell_type": "markdown",
   "id": "5a0fa489-b940-4805-9dc9-db0cee8a9a6f",
   "metadata": {},
   "source": [
    "---"
   ]
  }
 ],
 "metadata": {
  "kernelspec": {
   "display_name": "Python 3",
   "language": "python",
   "name": "python3"
  },
  "language_info": {
   "codemirror_mode": {
    "name": "ipython",
    "version": 3
   },
   "file_extension": ".py",
   "mimetype": "text/x-python",
   "name": "python",
   "nbconvert_exporter": "python",
   "pygments_lexer": "ipython3",
   "version": "3.8.8"
  }
 },
 "nbformat": 4,
 "nbformat_minor": 5
}
