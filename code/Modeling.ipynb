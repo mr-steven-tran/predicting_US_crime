{
 "cells": [
  {
   "cell_type": "markdown",
   "id": "0a4e1c9c-a84b-47ca-82c6-ef2d36341c7f",
   "metadata": {},
   "source": [
    "[header stuff here]\n",
    "\n",
    "\n",
    "# **02: Modeling**\n",
    "---\n",
    "In this notebook, we'll seek to train an Long Short-Term Memory Recurrent Neural Network in a fashion inspired by [this TensorFlow tutorial](https://www.tensorflow.org/tutorials/structured_data/time_series#setup).\n",
    "\n",
    "Start by importing a few important libraries:"
   ]
  },
  {
   "cell_type": "code",
   "execution_count": 1,
   "id": "0a004f3a-d611-48e0-a600-e1d8375fe178",
   "metadata": {
    "execution": {
     "iopub.execute_input": "2021-12-02T07:40:29.399899Z",
     "iopub.status.busy": "2021-12-02T07:40:29.398870Z",
     "iopub.status.idle": "2021-12-02T07:40:39.293619Z",
     "shell.execute_reply": "2021-12-02T07:40:39.291618Z",
     "shell.execute_reply.started": "2021-12-02T07:40:29.399899Z"
    },
    "tags": []
   },
   "outputs": [],
   "source": [
    "import os\n",
    "import datetime\n",
    "\n",
    "import IPython\n",
    "import IPython.display\n",
    "import matplotlib as mpl\n",
    "import matplotlib.pyplot as plt\n",
    "import numpy as np\n",
    "import pandas as pd\n",
    "import seaborn as sns\n",
    "import tensorflow as tf\n",
    "\n",
    "from sklearn.preprocessing import StandardScaler"
   ]
  },
  {
   "cell_type": "markdown",
   "id": "bdf22925-c9be-4eb0-badf-ac6f26d4e5d0",
   "metadata": {},
   "source": [
    "Import the data:"
   ]
  },
  {
   "cell_type": "code",
   "execution_count": 2,
   "id": "07952868-a311-4271-be98-b1a0b401a27c",
   "metadata": {
    "execution": {
     "iopub.execute_input": "2021-12-02T07:41:59.038901Z",
     "iopub.status.busy": "2021-12-02T07:41:59.037900Z",
     "iopub.status.idle": "2021-12-02T07:41:59.086897Z",
     "shell.execute_reply": "2021-12-02T07:41:59.085899Z",
     "shell.execute_reply.started": "2021-12-02T07:41:59.038901Z"
    }
   },
   "outputs": [],
   "source": [
    "df = pd.read_csv('../data/model_inputs/predictors_and_targets.csv')"
   ]
  },
  {
   "cell_type": "code",
   "execution_count": 5,
   "id": "16446574-e611-484a-b159-91ef6e942657",
   "metadata": {
    "execution": {
     "iopub.execute_input": "2021-12-02T07:45:39.280255Z",
     "iopub.status.busy": "2021-12-02T07:45:39.280255Z",
     "iopub.status.idle": "2021-12-02T07:45:39.300229Z",
     "shell.execute_reply": "2021-12-02T07:45:39.299313Z",
     "shell.execute_reply.started": "2021-12-02T07:45:39.280255Z"
    },
    "tags": []
   },
   "outputs": [],
   "source": [
    "#to datetime inspired by user Zero: https://stackoverflow.com/a/46658244\n",
    "df['year'] = pd.to_datetime(df['year'], format = '%Y')"
   ]
  },
  {
   "cell_type": "code",
   "execution_count": 7,
   "id": "9ea20921-9a5e-4650-89b3-40a41feda27c",
   "metadata": {
    "execution": {
     "iopub.execute_input": "2021-12-02T07:45:55.049973Z",
     "iopub.status.busy": "2021-12-02T07:45:55.048974Z",
     "iopub.status.idle": "2021-12-02T07:45:55.072975Z",
     "shell.execute_reply": "2021-12-02T07:45:55.071971Z",
     "shell.execute_reply.started": "2021-12-02T07:45:55.048974Z"
    }
   },
   "outputs": [
    {
     "data": {
      "text/plain": [
       "0      1979-01-01\n",
       "1      1980-01-01\n",
       "2      1981-01-01\n",
       "3      1982-01-01\n",
       "4      1983-01-01\n",
       "          ...    \n",
       "2137   2016-01-01\n",
       "2138   2017-01-01\n",
       "2139   2018-01-01\n",
       "2140   2019-01-01\n",
       "2141   2020-01-01\n",
       "Name: year, Length: 2142, dtype: datetime64[ns]"
      ]
     },
     "execution_count": 7,
     "metadata": {},
     "output_type": "execute_result"
    }
   ],
   "source": [
    "df['year']"
   ]
  },
  {
   "cell_type": "markdown",
   "id": "5e4748ca-fc74-4cbe-9465-33c97c6a037d",
   "metadata": {},
   "source": [
    "## Modeling Goals\n",
    "* Build a model that can produce a prediction for a specified crime rate in each state. Do this for two crime categories:\n",
    "    * `violent_crime_1000`, the number of violent crimes committed per thousand population in a state and\n",
    "    * `property_crime_1000`, the number of property crimes committed per thousand population in a state.\n",
    "* Compare the results of the model to a baseline for evaluation\n",
    "* Append the predictions to the crime rates table"
   ]
  },
  {
   "cell_type": "markdown",
   "id": "d6bdb987-099f-42ac-a837-d6cfc60353b3",
   "metadata": {},
   "source": [
    "---"
   ]
  },
  {
   "cell_type": "markdown",
   "id": "2e14acb0-64b8-4bd8-9dbc-6bf80c4c3a9c",
   "metadata": {},
   "source": [
    "### Modeling steps that must happen for each state:\n",
    "1. Extract the state dataframe\n",
    "1. Define the X and Y\n",
    "1. Scale the Data\n",
    "1. Make predictions using baseline model\n",
    "1. Make predictions using LSTM model\n",
    "1. Append prediction to final dataframe\n",
    "\n",
    "**We will run the above for each state plus D.C. We'll evaluate the model based on mean MAE of all the state's predictions VS the mean MAE of all the states predicted using the baseline model.**"
   ]
  },
  {
   "cell_type": "markdown",
   "id": "4da87811-1718-4632-af7f-fc3106c4d93c",
   "metadata": {},
   "source": [
    "---\n",
    "\n",
    "### Prototype the model on one state's dataframe:"
   ]
  },
  {
   "cell_type": "code",
   "execution_count": 9,
   "id": "6db863bf-657f-4c09-8b10-92fb9b15c0f2",
   "metadata": {
    "execution": {
     "iopub.execute_input": "2021-12-02T07:55:20.147164Z",
     "iopub.status.busy": "2021-12-02T07:55:20.147164Z",
     "iopub.status.idle": "2021-12-02T07:55:20.170165Z",
     "shell.execute_reply": "2021-12-02T07:55:20.169182Z",
     "shell.execute_reply.started": "2021-12-02T07:55:20.147164Z"
    },
    "tags": []
   },
   "outputs": [
    {
     "data": {
      "text/plain": [
       "Index(['state_abbr', 'year', 'population', 'violent_crime', 'homicide', 'rape',\n",
       "       'robbery', 'aggravated_assault', 'property_crime', 'burglary',\n",
       "       'larceny', 'motor_vehicle_theft', 'arson', 'violent_crime_1000',\n",
       "       'homicide_1000', 'rape_1000', 'robbery_1000', 'aggravated_assault_1000',\n",
       "       'property_crime_1000', 'burglary_1000', 'larceny_1000',\n",
       "       'motor_vehicle_theft_1000', 'arson_1000', 'avg_unemployment_rate',\n",
       "       'avg_CPI', 'ag_Democrat', 'ag_Mixed', 'ag_Republican', 'ag_Unknown'],\n",
       "      dtype='object')"
      ]
     },
     "execution_count": 9,
     "metadata": {},
     "output_type": "execute_result"
    }
   ],
   "source": [
    "df.columns"
   ]
  },
  {
   "cell_type": "code",
   "execution_count": 13,
   "id": "207ceb79-5b1d-4602-84fc-3d524e3f84a6",
   "metadata": {
    "execution": {
     "iopub.execute_input": "2021-12-02T07:55:54.648754Z",
     "iopub.status.busy": "2021-12-02T07:55:54.648754Z",
     "iopub.status.idle": "2021-12-02T07:55:54.690785Z",
     "shell.execute_reply": "2021-12-02T07:55:54.689755Z",
     "shell.execute_reply.started": "2021-12-02T07:55:54.648754Z"
    },
    "tags": []
   },
   "outputs": [
    {
     "data": {
      "text/html": [
       "<div>\n",
       "<style scoped>\n",
       "    .dataframe tbody tr th:only-of-type {\n",
       "        vertical-align: middle;\n",
       "    }\n",
       "\n",
       "    .dataframe tbody tr th {\n",
       "        vertical-align: top;\n",
       "    }\n",
       "\n",
       "    .dataframe thead th {\n",
       "        text-align: right;\n",
       "    }\n",
       "</style>\n",
       "<table border=\"1\" class=\"dataframe\">\n",
       "  <thead>\n",
       "    <tr style=\"text-align: right;\">\n",
       "      <th></th>\n",
       "      <th>state_abbr</th>\n",
       "      <th>year</th>\n",
       "      <th>population</th>\n",
       "      <th>violent_crime</th>\n",
       "      <th>homicide</th>\n",
       "      <th>rape</th>\n",
       "      <th>robbery</th>\n",
       "      <th>aggravated_assault</th>\n",
       "      <th>property_crime</th>\n",
       "      <th>burglary</th>\n",
       "      <th>...</th>\n",
       "      <th>burglary_1000</th>\n",
       "      <th>larceny_1000</th>\n",
       "      <th>motor_vehicle_theft_1000</th>\n",
       "      <th>arson_1000</th>\n",
       "      <th>avg_unemployment_rate</th>\n",
       "      <th>avg_CPI</th>\n",
       "      <th>ag_Democrat</th>\n",
       "      <th>ag_Mixed</th>\n",
       "      <th>ag_Republican</th>\n",
       "      <th>ag_Unknown</th>\n",
       "    </tr>\n",
       "  </thead>\n",
       "  <tbody>\n",
       "    <tr>\n",
       "      <th>1260</th>\n",
       "      <td>NM</td>\n",
       "      <td>1979-01-01</td>\n",
       "      <td>1241000</td>\n",
       "      <td>7272</td>\n",
       "      <td>154</td>\n",
       "      <td>582</td>\n",
       "      <td>1502</td>\n",
       "      <td>5034</td>\n",
       "      <td>64563</td>\n",
       "      <td>18385</td>\n",
       "      <td>...</td>\n",
       "      <td>14.814666</td>\n",
       "      <td>33.638195</td>\n",
       "      <td>3.572119</td>\n",
       "      <td>1.313457</td>\n",
       "      <td>6.666667</td>\n",
       "      <td>72.583333</td>\n",
       "      <td>1</td>\n",
       "      <td>0</td>\n",
       "      <td>0</td>\n",
       "      <td>0</td>\n",
       "    </tr>\n",
       "    <tr>\n",
       "      <th>1261</th>\n",
       "      <td>NM</td>\n",
       "      <td>1980-01-01</td>\n",
       "      <td>1295474</td>\n",
       "      <td>7967</td>\n",
       "      <td>170</td>\n",
       "      <td>561</td>\n",
       "      <td>1657</td>\n",
       "      <td>5579</td>\n",
       "      <td>69490</td>\n",
       "      <td>19335</td>\n",
       "      <td>...</td>\n",
       "      <td>14.925039</td>\n",
       "      <td>35.209506</td>\n",
       "      <td>3.506053</td>\n",
       "      <td>0.565044</td>\n",
       "      <td>7.608333</td>\n",
       "      <td>82.383333</td>\n",
       "      <td>1</td>\n",
       "      <td>0</td>\n",
       "      <td>0</td>\n",
       "      <td>0</td>\n",
       "    </tr>\n",
       "    <tr>\n",
       "      <th>1262</th>\n",
       "      <td>NM</td>\n",
       "      <td>1981-01-01</td>\n",
       "      <td>1327000</td>\n",
       "      <td>8913</td>\n",
       "      <td>151</td>\n",
       "      <td>628</td>\n",
       "      <td>1868</td>\n",
       "      <td>6266</td>\n",
       "      <td>73369</td>\n",
       "      <td>21405</td>\n",
       "      <td>...</td>\n",
       "      <td>16.130369</td>\n",
       "      <td>35.608139</td>\n",
       "      <td>3.550867</td>\n",
       "      <td>0.259231</td>\n",
       "      <td>7.225000</td>\n",
       "      <td>90.933333</td>\n",
       "      <td>1</td>\n",
       "      <td>0</td>\n",
       "      <td>0</td>\n",
       "      <td>0</td>\n",
       "    </tr>\n",
       "    <tr>\n",
       "      <th>1263</th>\n",
       "      <td>NM</td>\n",
       "      <td>1982-01-01</td>\n",
       "      <td>1359000</td>\n",
       "      <td>9982</td>\n",
       "      <td>158</td>\n",
       "      <td>656</td>\n",
       "      <td>1715</td>\n",
       "      <td>7453</td>\n",
       "      <td>79816</td>\n",
       "      <td>22135</td>\n",
       "      <td>...</td>\n",
       "      <td>16.287712</td>\n",
       "      <td>39.295070</td>\n",
       "      <td>3.148639</td>\n",
       "      <td>0.677704</td>\n",
       "      <td>9.033333</td>\n",
       "      <td>96.533333</td>\n",
       "      <td>1</td>\n",
       "      <td>0</td>\n",
       "      <td>0</td>\n",
       "      <td>0</td>\n",
       "    </tr>\n",
       "    <tr>\n",
       "      <th>1264</th>\n",
       "      <td>NM</td>\n",
       "      <td>1983-01-01</td>\n",
       "      <td>1399000</td>\n",
       "      <td>9608</td>\n",
       "      <td>124</td>\n",
       "      <td>671</td>\n",
       "      <td>1595</td>\n",
       "      <td>7218</td>\n",
       "      <td>79175</td>\n",
       "      <td>21813</td>\n",
       "      <td>...</td>\n",
       "      <td>15.591851</td>\n",
       "      <td>37.939242</td>\n",
       "      <td>3.062902</td>\n",
       "      <td>0.312366</td>\n",
       "      <td>9.708333</td>\n",
       "      <td>99.583333</td>\n",
       "      <td>1</td>\n",
       "      <td>0</td>\n",
       "      <td>0</td>\n",
       "      <td>0</td>\n",
       "    </tr>\n",
       "  </tbody>\n",
       "</table>\n",
       "<p>5 rows × 29 columns</p>\n",
       "</div>"
      ],
      "text/plain": [
       "     state_abbr       year  population  violent_crime  homicide  rape  \\\n",
       "1260         NM 1979-01-01     1241000           7272       154   582   \n",
       "1261         NM 1980-01-01     1295474           7967       170   561   \n",
       "1262         NM 1981-01-01     1327000           8913       151   628   \n",
       "1263         NM 1982-01-01     1359000           9982       158   656   \n",
       "1264         NM 1983-01-01     1399000           9608       124   671   \n",
       "\n",
       "      robbery  aggravated_assault  property_crime  burglary  ...  \\\n",
       "1260     1502                5034           64563     18385  ...   \n",
       "1261     1657                5579           69490     19335  ...   \n",
       "1262     1868                6266           73369     21405  ...   \n",
       "1263     1715                7453           79816     22135  ...   \n",
       "1264     1595                7218           79175     21813  ...   \n",
       "\n",
       "      burglary_1000  larceny_1000  motor_vehicle_theft_1000  arson_1000  \\\n",
       "1260      14.814666     33.638195                  3.572119    1.313457   \n",
       "1261      14.925039     35.209506                  3.506053    0.565044   \n",
       "1262      16.130369     35.608139                  3.550867    0.259231   \n",
       "1263      16.287712     39.295070                  3.148639    0.677704   \n",
       "1264      15.591851     37.939242                  3.062902    0.312366   \n",
       "\n",
       "      avg_unemployment_rate    avg_CPI  ag_Democrat  ag_Mixed  ag_Republican  \\\n",
       "1260               6.666667  72.583333            1         0              0   \n",
       "1261               7.608333  82.383333            1         0              0   \n",
       "1262               7.225000  90.933333            1         0              0   \n",
       "1263               9.033333  96.533333            1         0              0   \n",
       "1264               9.708333  99.583333            1         0              0   \n",
       "\n",
       "      ag_Unknown  \n",
       "1260           0  \n",
       "1261           0  \n",
       "1262           0  \n",
       "1263           0  \n",
       "1264           0  \n",
       "\n",
       "[5 rows x 29 columns]"
      ]
     },
     "execution_count": 13,
     "metadata": {},
     "output_type": "execute_result"
    }
   ],
   "source": [
    "nm_crime = df.copy()\n",
    "nm_crime = nm_crime[nm_crime['state_abbr']=='NM']\n",
    "nm_crime.head()"
   ]
  },
  {
   "cell_type": "code",
   "execution_count": null,
   "id": "31bf2e7f-2699-4ab4-aa37-86570b12aac7",
   "metadata": {},
   "outputs": [],
   "source": []
  }
 ],
 "metadata": {
  "kernelspec": {
   "display_name": "Python 3",
   "language": "python",
   "name": "python3"
  },
  "language_info": {
   "codemirror_mode": {
    "name": "ipython",
    "version": 3
   },
   "file_extension": ".py",
   "mimetype": "text/x-python",
   "name": "python",
   "nbconvert_exporter": "python",
   "pygments_lexer": "ipython3",
   "version": "3.8.8"
  }
 },
 "nbformat": 4,
 "nbformat_minor": 5
}
