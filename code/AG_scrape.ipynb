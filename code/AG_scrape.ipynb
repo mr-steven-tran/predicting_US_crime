{
 "cells": [
  {
   "cell_type": "markdown",
   "id": "e5be3334-822b-4f27-94fa-bf73f692fad6",
   "metadata": {},
   "source": [
    "Attorney General Webscrape Module for group data. <br>\n",
    "[x] Get all current AG by state and political affiliation in a dataframe. <br>\n",
    "[x] Get all former AG by state <br>\n",
    "[x] look up political affiliation by wiki search on name. "
   ]
  },
  {
   "cell_type": "code",
   "execution_count": 2,
   "id": "2a80b83e-1c43-4762-b5e9-aa2733b4a2fe",
   "metadata": {
    "collapsed": true,
    "execution": {
     "iopub.execute_input": "2021-12-02T03:18:52.193914Z",
     "iopub.status.busy": "2021-12-02T03:18:52.193914Z",
     "iopub.status.idle": "2021-12-02T03:19:01.307252Z",
     "shell.execute_reply": "2021-12-02T03:19:01.304248Z",
     "shell.execute_reply.started": "2021-12-02T03:18:52.193914Z"
    },
    "jupyter": {
     "outputs_hidden": true
    },
    "tags": []
   },
   "outputs": [
    {
     "name": "stdout",
     "output_type": "stream",
     "text": [
      "Collecting wikipedia\n",
      "  Downloading wikipedia-1.4.0.tar.gz (27 kB)\n",
      "Requirement already satisfied: beautifulsoup4 in c:\\users\\yumst\\anaconda3\\lib\\site-packages (from wikipedia) (4.9.3)\n",
      "Requirement already satisfied: requests<3.0.0,>=2.0.0 in c:\\users\\yumst\\anaconda3\\lib\\site-packages (from wikipedia) (2.25.1)\n",
      "Requirement already satisfied: urllib3<1.27,>=1.21.1 in c:\\users\\yumst\\anaconda3\\lib\\site-packages (from requests<3.0.0,>=2.0.0->wikipedia) (1.26.4)\n",
      "Requirement already satisfied: chardet<5,>=3.0.2 in c:\\users\\yumst\\anaconda3\\lib\\site-packages (from requests<3.0.0,>=2.0.0->wikipedia) (4.0.0)\n",
      "Requirement already satisfied: idna<3,>=2.5 in c:\\users\\yumst\\anaconda3\\lib\\site-packages (from requests<3.0.0,>=2.0.0->wikipedia) (2.10)\n",
      "Requirement already satisfied: certifi>=2017.4.17 in c:\\users\\yumst\\anaconda3\\lib\\site-packages (from requests<3.0.0,>=2.0.0->wikipedia) (2020.12.5)\n",
      "Requirement already satisfied: soupsieve>1.2 in c:\\users\\yumst\\anaconda3\\lib\\site-packages (from beautifulsoup4->wikipedia) (2.2.1)\n",
      "Building wheels for collected packages: wikipedia\n",
      "  Building wheel for wikipedia (setup.py): started\n",
      "  Building wheel for wikipedia (setup.py): finished with status 'done'\n",
      "  Created wheel for wikipedia: filename=wikipedia-1.4.0-py3-none-any.whl size=11686 sha256=ed8ba898aa0f861182b351e9f9ffcb0adcf9a581db67df1eb22d8a53b37d1224\n",
      "  Stored in directory: c:\\users\\yumst\\appdata\\local\\pip\\cache\\wheels\\07\\93\\05\\72c05349177dca2e0ba31a33ba4f7907606f7ddef303517c6a\n",
      "Successfully built wikipedia\n",
      "Installing collected packages: wikipedia\n",
      "Successfully installed wikipedia-1.4.0\n"
     ]
    }
   ],
   "source": [
    "#if you don't haver the wikipedia library, run this first:\n",
    "#!pip install wikipedia"
   ]
  },
  {
   "cell_type": "code",
   "execution_count": 3,
   "id": "880042b9-26c4-4eef-9815-06ec7bbbf7a5",
   "metadata": {
    "execution": {
     "iopub.execute_input": "2021-12-02T03:19:10.505803Z",
     "iopub.status.busy": "2021-12-02T03:19:10.505803Z",
     "iopub.status.idle": "2021-12-02T03:19:10.522809Z",
     "shell.execute_reply": "2021-12-02T03:19:10.521853Z",
     "shell.execute_reply.started": "2021-12-02T03:19:10.505803Z"
    },
    "tags": []
   },
   "outputs": [],
   "source": [
    "#imports\n",
    "import pandas as pd\n",
    "import numpy as np\n",
    "from bs4 import BeautifulSoup\n",
    "import requests\n",
    "import time\n",
    "import wikipedia as wk"
   ]
  },
  {
   "cell_type": "markdown",
   "id": "1ce2446f-d577-49bd-9416-a429d88166d6",
   "metadata": {},
   "source": [
    "# State Attorney Generals\n",
    "## Current Attorney Generals by state and party"
   ]
  },
  {
   "cell_type": "markdown",
   "id": "cfa782b3-bbef-4444-83f3-3182fb3253c7",
   "metadata": {},
   "source": [
    "### Method:\n",
    "Here we used a basic web scrape with _BeautifulSoup_ library. The table from the [wikipedia page]('https://en.wikipedia.org/wiki/State_attorney_general') was parsed and extracted into a dataframe by table element. The resulting table was cleaned and edited so we could join to a larger table to feature in our main dataset."
   ]
  },
  {
   "cell_type": "code",
   "execution_count": 4,
   "id": "cf3c1d96-3f5c-456e-a32f-fa8ffd814398",
   "metadata": {
    "execution": {
     "iopub.execute_input": "2021-12-02T03:19:15.568850Z",
     "iopub.status.busy": "2021-12-02T03:19:15.568850Z",
     "iopub.status.idle": "2021-12-02T03:19:15.756303Z",
     "shell.execute_reply": "2021-12-02T03:19:15.755297Z",
     "shell.execute_reply.started": "2021-12-02T03:19:15.568850Z"
    }
   },
   "outputs": [
    {
     "data": {
      "text/plain": [
       "requests.models.Response"
      ]
     },
     "execution_count": 4,
     "metadata": {},
     "output_type": "execute_result"
    }
   ],
   "source": [
    "#URL and Response object instance\n",
    "url = 'https://en.wikipedia.org/wiki/State_attorney_general' \n",
    "res = requests.get(url)\n",
    "type(res)"
   ]
  },
  {
   "cell_type": "code",
   "execution_count": 5,
   "id": "48fc32a1-ea87-466c-ada7-2bce5d79852f",
   "metadata": {
    "execution": {
     "iopub.execute_input": "2021-12-02T03:19:16.110297Z",
     "iopub.status.busy": "2021-12-02T03:19:16.109298Z",
     "iopub.status.idle": "2021-12-02T03:19:16.135309Z",
     "shell.execute_reply": "2021-12-02T03:19:16.132313Z",
     "shell.execute_reply.started": "2021-12-02T03:19:16.110297Z"
    }
   },
   "outputs": [
    {
     "data": {
      "text/plain": [
       "200"
      ]
     },
     "execution_count": 5,
     "metadata": {},
     "output_type": "execute_result"
    }
   ],
   "source": [
    "res.status_code"
   ]
  },
  {
   "cell_type": "code",
   "execution_count": 6,
   "id": "6b3107eb-62dc-4a95-aa26-6f7d3c0bfa4e",
   "metadata": {
    "execution": {
     "iopub.execute_input": "2021-12-02T03:19:16.626846Z",
     "iopub.status.busy": "2021-12-02T03:19:16.626846Z",
     "iopub.status.idle": "2021-12-02T03:19:16.822385Z",
     "shell.execute_reply": "2021-12-02T03:19:16.821422Z",
     "shell.execute_reply.started": "2021-12-02T03:19:16.626846Z"
    }
   },
   "outputs": [
    {
     "data": {
      "text/plain": [
       "bs4.element.ResultSet"
      ]
     },
     "execution_count": 6,
     "metadata": {},
     "output_type": "execute_result"
    }
   ],
   "source": [
    "#soup object on response data\n",
    "soup = BeautifulSoup(res.content, 'html.parser')\n",
    "table_class= 'wikitable sortable jquery-tablesorter'\n",
    "table = soup.find('table', attrs={'class':'wikitable'})\n",
    "trs  = table.find_all('tr')\n",
    "type(trs)"
   ]
  },
  {
   "cell_type": "code",
   "execution_count": 7,
   "id": "116926a3-708d-461e-b19a-595ca0f0ef72",
   "metadata": {
    "execution": {
     "iopub.execute_input": "2021-12-02T03:19:18.046052Z",
     "iopub.status.busy": "2021-12-02T03:19:18.045056Z",
     "iopub.status.idle": "2021-12-02T03:19:18.058161Z",
     "shell.execute_reply": "2021-12-02T03:19:18.057162Z",
     "shell.execute_reply.started": "2021-12-02T03:19:18.046052Z"
    }
   },
   "outputs": [],
   "source": [
    "inp = []\n",
    "\n",
    "for tr in trs:\n",
    "    item = []\n",
    "    ths = tr.find_all('th')\n",
    "    tds = tr.find_all('td')\n",
    "    for th in ths:\n",
    "        a = th.text\n",
    "        a = str(a).replace(\"\\n\", \"\")\n",
    "        item.append(a)\n",
    "    for td in tds:\n",
    "        a = td.text\n",
    "        a = str(a).replace(\"\\n\", \"\")\n",
    "        #a = a.lower()\n",
    "        item.append(a)\n",
    "    inp.append(item)"
   ]
  },
  {
   "cell_type": "code",
   "execution_count": 8,
   "id": "f3d6c1cc-97f1-4561-bfcf-575f81d47a25",
   "metadata": {
    "execution": {
     "iopub.execute_input": "2021-12-02T03:19:19.304252Z",
     "iopub.status.busy": "2021-12-02T03:19:19.303246Z",
     "iopub.status.idle": "2021-12-02T03:19:19.321251Z",
     "shell.execute_reply": "2021-12-02T03:19:19.320248Z",
     "shell.execute_reply.started": "2021-12-02T03:19:19.304252Z"
    }
   },
   "outputs": [],
   "source": [
    "sag = pd.DataFrame(inp[1:], columns = inp[0])"
   ]
  },
  {
   "cell_type": "code",
   "execution_count": 9,
   "id": "71e6eecd-4946-4005-a486-cffc740bb8dd",
   "metadata": {
    "execution": {
     "iopub.execute_input": "2021-12-02T03:19:19.665273Z",
     "iopub.status.busy": "2021-12-02T03:19:19.664271Z",
     "iopub.status.idle": "2021-12-02T03:19:19.684293Z",
     "shell.execute_reply": "2021-12-02T03:19:19.681274Z",
     "shell.execute_reply.started": "2021-12-02T03:19:19.664271Z"
    }
   },
   "outputs": [
    {
     "name": "stdout",
     "output_type": "stream",
     "text": [
      "<class 'pandas.core.frame.DataFrame'>\n",
      "RangeIndex: 56 entries, 0 to 55\n",
      "Data columns (total 7 columns):\n",
      " #   Column          Non-Null Count  Dtype \n",
      "---  ------          --------------  ----- \n",
      " 0   Officeholder    56 non-null     object\n",
      " 1   State           56 non-null     object\n",
      " 2   Party           56 non-null     object\n",
      " 3   Assumed office  56 non-null     object\n",
      " 4   Term expires    56 non-null     object\n",
      " 5   Law school      56 non-null     object\n",
      " 6   Term limits     56 non-null     object\n",
      "dtypes: object(7)\n",
      "memory usage: 3.2+ KB\n"
     ]
    }
   ],
   "source": [
    "sag.info()"
   ]
  },
  {
   "cell_type": "markdown",
   "id": "9a2c249a-7923-4852-b263-be93cec8ccab",
   "metadata": {},
   "source": [
    "There were too many instances of Attorneys General in this set due to the inclusion of Am. Samoa, Guam, Puerto Rico, U.S.V.I, and Northern Mariana Islands. These were removed due to the absence of their representation in our main dataset FBI crime. "
   ]
  },
  {
   "cell_type": "code",
   "execution_count": 10,
   "id": "e3f0d246-df81-4603-8d61-e351c6072f1c",
   "metadata": {
    "execution": {
     "iopub.execute_input": "2021-12-02T03:19:21.363072Z",
     "iopub.status.busy": "2021-12-02T03:19:21.363072Z",
     "iopub.status.idle": "2021-12-02T03:19:21.383977Z",
     "shell.execute_reply": "2021-12-02T03:19:21.383007Z",
     "shell.execute_reply.started": "2021-12-02T03:19:21.363072Z"
    }
   },
   "outputs": [],
   "source": [
    "#drop non_state rows from set. Should only have 51 rows. \n",
    "sag = sag[sag['State'] != 'American Samoa']\n",
    "sag = sag[sag['State'] != 'Guam']\n",
    "sag = sag[sag['State'] != 'Puerto Rico[7]']\n",
    "sag = sag[sag['State'] != 'U.S. Virgin Islands']\n",
    "sag = sag[sag['State'] != 'Northern Mariana Islands']\n",
    "sag = sag.drop(columns = ['Law school', 'Term limits'])"
   ]
  },
  {
   "cell_type": "code",
   "execution_count": 11,
   "id": "457378f5-1338-432f-9060-e059fca2f8c4",
   "metadata": {
    "execution": {
     "iopub.execute_input": "2021-12-02T03:19:22.602894Z",
     "iopub.status.busy": "2021-12-02T03:19:22.602894Z",
     "iopub.status.idle": "2021-12-02T03:19:22.629894Z",
     "shell.execute_reply": "2021-12-02T03:19:22.628901Z",
     "shell.execute_reply.started": "2021-12-02T03:19:22.602894Z"
    }
   },
   "outputs": [
    {
     "name": "stdout",
     "output_type": "stream",
     "text": [
      "<class 'pandas.core.frame.DataFrame'>\n",
      "Int64Index: 51 entries, 0 to 55\n",
      "Data columns (total 5 columns):\n",
      " #   Column          Non-Null Count  Dtype \n",
      "---  ------          --------------  ----- \n",
      " 0   Officeholder    51 non-null     object\n",
      " 1   State           51 non-null     object\n",
      " 2   Party           51 non-null     object\n",
      " 3   Assumed office  51 non-null     object\n",
      " 4   Term expires    51 non-null     object\n",
      "dtypes: object(5)\n",
      "memory usage: 2.4+ KB\n"
     ]
    }
   ],
   "source": [
    "sag.info()"
   ]
  },
  {
   "cell_type": "code",
   "execution_count": 12,
   "id": "d6deffd5-8a1d-4bd6-a0e6-8a345ec697e0",
   "metadata": {
    "execution": {
     "iopub.execute_input": "2021-12-02T03:19:24.370097Z",
     "iopub.status.busy": "2021-12-02T03:19:24.370097Z",
     "iopub.status.idle": "2021-12-02T03:19:24.385799Z",
     "shell.execute_reply": "2021-12-02T03:19:24.384827Z",
     "shell.execute_reply.started": "2021-12-02T03:19:24.370097Z"
    }
   },
   "outputs": [
    {
     "name": "stdout",
     "output_type": "stream",
     "text": [
      "<class 'pandas.core.frame.DataFrame'>\n",
      "Int64Index: 51 entries, 0 to 55\n",
      "Data columns (total 5 columns):\n",
      " #   Column         Non-Null Count  Dtype \n",
      "---  ------         --------------  ----- \n",
      " 0   Name           51 non-null     object\n",
      " 1   State          51 non-null     object\n",
      " 2   party          51 non-null     object\n",
      " 3   start of term  51 non-null     object\n",
      " 4   end of term    51 non-null     object\n",
      "dtypes: object(5)\n",
      "memory usage: 2.4+ KB\n"
     ]
    }
   ],
   "source": [
    "# rename columns to match that of former AG data.\n",
    "# Name, State, Party, start of term, end of term\n",
    "sag = sag.rename(columns={'Officeholder': 'Name', 'State' : 'State', 'Party' : 'party', 'Assumed office' : 'start of term', 'Term expires' : 'end of term'}).copy()\n",
    "sag.info()"
   ]
  },
  {
   "cell_type": "code",
   "execution_count": 13,
   "id": "8248a709-43cd-472c-915b-f0b04b40fcaf",
   "metadata": {
    "execution": {
     "iopub.execute_input": "2021-12-02T03:19:24.907696Z",
     "iopub.status.busy": "2021-12-02T03:19:24.907696Z",
     "iopub.status.idle": "2021-12-02T03:19:24.916700Z",
     "shell.execute_reply": "2021-12-02T03:19:24.913702Z",
     "shell.execute_reply.started": "2021-12-02T03:19:24.907696Z"
    }
   },
   "outputs": [],
   "source": [
    "#strip and adjust start of term column making the year an int. \n",
    "sag['start of term'] = sag['start of term'].apply(lambda x: int(x[-4:])).copy()"
   ]
  },
  {
   "cell_type": "markdown",
   "id": "fa898d05-4c68-450b-9d37-14189c6a17dc",
   "metadata": {},
   "source": [
    "Since the `end of term` series has _'Appointed'_ in the text we need to remove this to allow our conversion method as before. "
   ]
  },
  {
   "cell_type": "code",
   "execution_count": 14,
   "id": "351008ec-fce3-46d4-8c1e-a4d2b04d6247",
   "metadata": {
    "execution": {
     "iopub.execute_input": "2021-12-02T03:19:26.234503Z",
     "iopub.status.busy": "2021-12-02T03:19:26.234503Z",
     "iopub.status.idle": "2021-12-02T03:19:26.257503Z",
     "shell.execute_reply": "2021-12-02T03:19:26.256502Z",
     "shell.execute_reply.started": "2021-12-02T03:19:26.234503Z"
    }
   },
   "outputs": [
    {
     "data": {
      "text/html": [
       "<div>\n",
       "<style scoped>\n",
       "    .dataframe tbody tr th:only-of-type {\n",
       "        vertical-align: middle;\n",
       "    }\n",
       "\n",
       "    .dataframe tbody tr th {\n",
       "        vertical-align: top;\n",
       "    }\n",
       "\n",
       "    .dataframe thead th {\n",
       "        text-align: right;\n",
       "    }\n",
       "</style>\n",
       "<table border=\"1\" class=\"dataframe\">\n",
       "  <thead>\n",
       "    <tr style=\"text-align: right;\">\n",
       "      <th></th>\n",
       "      <th>Name</th>\n",
       "      <th>State</th>\n",
       "      <th>party</th>\n",
       "      <th>start of term</th>\n",
       "      <th>end of term</th>\n",
       "    </tr>\n",
       "  </thead>\n",
       "  <tbody>\n",
       "    <tr>\n",
       "      <th>1</th>\n",
       "      <td>Treg Taylor</td>\n",
       "      <td>Alaska</td>\n",
       "      <td>Republican</td>\n",
       "      <td>2021</td>\n",
       "      <td>Appointed</td>\n",
       "    </tr>\n",
       "    <tr>\n",
       "      <th>13</th>\n",
       "      <td>Clare Connors</td>\n",
       "      <td>Hawaii</td>\n",
       "      <td>Democratic</td>\n",
       "      <td>2019</td>\n",
       "      <td>Appointed</td>\n",
       "    </tr>\n",
       "    <tr>\n",
       "      <th>32</th>\n",
       "      <td>Andrew BruckActing</td>\n",
       "      <td>New Jersey</td>\n",
       "      <td>Democratic</td>\n",
       "      <td>2021</td>\n",
       "      <td>Appointed</td>\n",
       "    </tr>\n",
       "    <tr>\n",
       "      <th>55</th>\n",
       "      <td>Bridget Hill</td>\n",
       "      <td>Wyoming</td>\n",
       "      <td>Republican</td>\n",
       "      <td>2019</td>\n",
       "      <td>Appointed</td>\n",
       "    </tr>\n",
       "  </tbody>\n",
       "</table>\n",
       "</div>"
      ],
      "text/plain": [
       "                  Name       State       party  start of term end of term\n",
       "1          Treg Taylor      Alaska  Republican           2021   Appointed\n",
       "13       Clare Connors      Hawaii  Democratic           2019   Appointed\n",
       "32  Andrew BruckActing  New Jersey  Democratic           2021   Appointed\n",
       "55        Bridget Hill     Wyoming  Republican           2019   Appointed"
      ]
     },
     "execution_count": 14,
     "metadata": {},
     "output_type": "execute_result"
    }
   ],
   "source": [
    "sag[sag['end of term'] =='Appointed']"
   ]
  },
  {
   "cell_type": "code",
   "execution_count": 15,
   "id": "71d70fca-6eaf-4519-a30a-f09e036093bb",
   "metadata": {
    "execution": {
     "iopub.execute_input": "2021-12-02T03:19:27.595689Z",
     "iopub.status.busy": "2021-12-02T03:19:27.595689Z",
     "iopub.status.idle": "2021-12-02T03:19:27.616692Z",
     "shell.execute_reply": "2021-12-02T03:19:27.613696Z",
     "shell.execute_reply.started": "2021-12-02T03:19:27.595689Z"
    }
   },
   "outputs": [],
   "source": [
    "#removesd AG's that started after the limit of our data(2021).\n",
    "sag = sag.drop(sag.iloc[1].name).reset_index()\n"
   ]
  },
  {
   "cell_type": "code",
   "execution_count": 16,
   "id": "6cef9afd-7b22-4f9b-8f22-82f89a45f9a8",
   "metadata": {
    "execution": {
     "iopub.execute_input": "2021-12-02T03:19:27.776093Z",
     "iopub.status.busy": "2021-12-02T03:19:27.776093Z",
     "iopub.status.idle": "2021-12-02T03:19:27.804097Z",
     "shell.execute_reply": "2021-12-02T03:19:27.802108Z",
     "shell.execute_reply.started": "2021-12-02T03:19:27.776093Z"
    }
   },
   "outputs": [
    {
     "data": {
      "text/html": [
       "<div>\n",
       "<style scoped>\n",
       "    .dataframe tbody tr th:only-of-type {\n",
       "        vertical-align: middle;\n",
       "    }\n",
       "\n",
       "    .dataframe tbody tr th {\n",
       "        vertical-align: top;\n",
       "    }\n",
       "\n",
       "    .dataframe thead th {\n",
       "        text-align: right;\n",
       "    }\n",
       "</style>\n",
       "<table border=\"1\" class=\"dataframe\">\n",
       "  <thead>\n",
       "    <tr style=\"text-align: right;\">\n",
       "      <th></th>\n",
       "      <th>index</th>\n",
       "      <th>Name</th>\n",
       "      <th>State</th>\n",
       "      <th>party</th>\n",
       "      <th>start of term</th>\n",
       "      <th>end of term</th>\n",
       "    </tr>\n",
       "  </thead>\n",
       "  <tbody>\n",
       "    <tr>\n",
       "      <th>10</th>\n",
       "      <td>13</td>\n",
       "      <td>Clare Connors</td>\n",
       "      <td>Hawaii</td>\n",
       "      <td>Democratic</td>\n",
       "      <td>2019</td>\n",
       "      <td>Appointed</td>\n",
       "    </tr>\n",
       "    <tr>\n",
       "      <th>29</th>\n",
       "      <td>32</td>\n",
       "      <td>Andrew BruckActing</td>\n",
       "      <td>New Jersey</td>\n",
       "      <td>Democratic</td>\n",
       "      <td>2021</td>\n",
       "      <td>Appointed</td>\n",
       "    </tr>\n",
       "    <tr>\n",
       "      <th>49</th>\n",
       "      <td>55</td>\n",
       "      <td>Bridget Hill</td>\n",
       "      <td>Wyoming</td>\n",
       "      <td>Republican</td>\n",
       "      <td>2019</td>\n",
       "      <td>Appointed</td>\n",
       "    </tr>\n",
       "  </tbody>\n",
       "</table>\n",
       "</div>"
      ],
      "text/plain": [
       "    index                Name       State       party  start of term  \\\n",
       "10     13       Clare Connors      Hawaii  Democratic           2019   \n",
       "29     32  Andrew BruckActing  New Jersey  Democratic           2021   \n",
       "49     55        Bridget Hill     Wyoming  Republican           2019   \n",
       "\n",
       "   end of term  \n",
       "10   Appointed  \n",
       "29   Appointed  \n",
       "49   Appointed  "
      ]
     },
     "execution_count": 16,
     "metadata": {},
     "output_type": "execute_result"
    }
   ],
   "source": [
    "sag[sag['end of term'] =='Appointed']"
   ]
  },
  {
   "cell_type": "code",
   "execution_count": 17,
   "id": "57fd5235-2db8-4920-a314-96e3a9c260a3",
   "metadata": {
    "execution": {
     "iopub.execute_input": "2021-12-02T03:19:27.903093Z",
     "iopub.status.busy": "2021-12-02T03:19:27.902096Z",
     "iopub.status.idle": "2021-12-02T03:19:27.912095Z",
     "shell.execute_reply": "2021-12-02T03:19:27.911126Z",
     "shell.execute_reply.started": "2021-12-02T03:19:27.902096Z"
    }
   },
   "outputs": [],
   "source": [
    "sag = sag.drop(sag.iloc[29].name)"
   ]
  },
  {
   "cell_type": "code",
   "execution_count": 18,
   "id": "9e355c74-dc14-450d-a51e-2bd3e336c3ec",
   "metadata": {
    "execution": {
     "iopub.execute_input": "2021-12-02T03:19:28.060283Z",
     "iopub.status.busy": "2021-12-02T03:19:28.060283Z",
     "iopub.status.idle": "2021-12-02T03:19:28.086347Z",
     "shell.execute_reply": "2021-12-02T03:19:28.085347Z",
     "shell.execute_reply.started": "2021-12-02T03:19:28.060283Z"
    }
   },
   "outputs": [
    {
     "data": {
      "text/html": [
       "<div>\n",
       "<style scoped>\n",
       "    .dataframe tbody tr th:only-of-type {\n",
       "        vertical-align: middle;\n",
       "    }\n",
       "\n",
       "    .dataframe tbody tr th {\n",
       "        vertical-align: top;\n",
       "    }\n",
       "\n",
       "    .dataframe thead th {\n",
       "        text-align: right;\n",
       "    }\n",
       "</style>\n",
       "<table border=\"1\" class=\"dataframe\">\n",
       "  <thead>\n",
       "    <tr style=\"text-align: right;\">\n",
       "      <th></th>\n",
       "      <th>index</th>\n",
       "      <th>Name</th>\n",
       "      <th>State</th>\n",
       "      <th>party</th>\n",
       "      <th>start of term</th>\n",
       "      <th>end of term</th>\n",
       "    </tr>\n",
       "  </thead>\n",
       "  <tbody>\n",
       "    <tr>\n",
       "      <th>10</th>\n",
       "      <td>13</td>\n",
       "      <td>Clare Connors</td>\n",
       "      <td>Hawaii</td>\n",
       "      <td>Democratic</td>\n",
       "      <td>2019</td>\n",
       "      <td>Appointed</td>\n",
       "    </tr>\n",
       "    <tr>\n",
       "      <th>49</th>\n",
       "      <td>55</td>\n",
       "      <td>Bridget Hill</td>\n",
       "      <td>Wyoming</td>\n",
       "      <td>Republican</td>\n",
       "      <td>2019</td>\n",
       "      <td>Appointed</td>\n",
       "    </tr>\n",
       "  </tbody>\n",
       "</table>\n",
       "</div>"
      ],
      "text/plain": [
       "    index           Name    State       party  start of term end of term\n",
       "10     13  Clare Connors   Hawaii  Democratic           2019   Appointed\n",
       "49     55   Bridget Hill  Wyoming  Republican           2019   Appointed"
      ]
     },
     "execution_count": 18,
     "metadata": {},
     "output_type": "execute_result"
    }
   ],
   "source": [
    "sag[sag['end of term'] =='Appointed']"
   ]
  },
  {
   "cell_type": "code",
   "execution_count": 19,
   "id": "4d85d4a5-b837-4880-90b7-49a9b61ddcba",
   "metadata": {
    "execution": {
     "iopub.execute_input": "2021-12-02T03:19:28.225590Z",
     "iopub.status.busy": "2021-12-02T03:19:28.225590Z",
     "iopub.status.idle": "2021-12-02T03:19:28.288116Z",
     "shell.execute_reply": "2021-12-02T03:19:28.287113Z",
     "shell.execute_reply.started": "2021-12-02T03:19:28.225590Z"
    }
   },
   "outputs": [
    {
     "data": {
      "text/html": [
       "<div>\n",
       "<style scoped>\n",
       "    .dataframe tbody tr th:only-of-type {\n",
       "        vertical-align: middle;\n",
       "    }\n",
       "\n",
       "    .dataframe tbody tr th {\n",
       "        vertical-align: top;\n",
       "    }\n",
       "\n",
       "    .dataframe thead th {\n",
       "        text-align: right;\n",
       "    }\n",
       "</style>\n",
       "<table border=\"1\" class=\"dataframe\">\n",
       "  <thead>\n",
       "    <tr style=\"text-align: right;\">\n",
       "      <th></th>\n",
       "      <th>index</th>\n",
       "      <th>Name</th>\n",
       "      <th>State</th>\n",
       "      <th>party</th>\n",
       "      <th>start of term</th>\n",
       "      <th>end of term</th>\n",
       "    </tr>\n",
       "  </thead>\n",
       "  <tbody>\n",
       "    <tr>\n",
       "      <th>3</th>\n",
       "      <td>5</td>\n",
       "      <td>Rob Bonta</td>\n",
       "      <td>California</td>\n",
       "      <td>Democratic</td>\n",
       "      <td>2021</td>\n",
       "      <td>2023</td>\n",
       "    </tr>\n",
       "    <tr>\n",
       "      <th>13</th>\n",
       "      <td>16</td>\n",
       "      <td>Todd Rokita</td>\n",
       "      <td>Indiana</td>\n",
       "      <td>Republican</td>\n",
       "      <td>2021</td>\n",
       "      <td>2025</td>\n",
       "    </tr>\n",
       "    <tr>\n",
       "      <th>25</th>\n",
       "      <td>28</td>\n",
       "      <td>Austin Knudsen</td>\n",
       "      <td>Montana</td>\n",
       "      <td>Republican</td>\n",
       "      <td>2021</td>\n",
       "      <td>2025</td>\n",
       "    </tr>\n",
       "    <tr>\n",
       "      <th>28</th>\n",
       "      <td>31</td>\n",
       "      <td>John Formella</td>\n",
       "      <td>New Hampshire</td>\n",
       "      <td>Republican</td>\n",
       "      <td>2021</td>\n",
       "      <td>2025 (Appointed)</td>\n",
       "    </tr>\n",
       "    <tr>\n",
       "      <th>35</th>\n",
       "      <td>39</td>\n",
       "      <td>John O'Connor</td>\n",
       "      <td>Oklahoma</td>\n",
       "      <td>Republican</td>\n",
       "      <td>2021</td>\n",
       "      <td>2023</td>\n",
       "    </tr>\n",
       "  </tbody>\n",
       "</table>\n",
       "</div>"
      ],
      "text/plain": [
       "    index            Name          State       party  start of term  \\\n",
       "3       5       Rob Bonta     California  Democratic           2021   \n",
       "13     16     Todd Rokita        Indiana  Republican           2021   \n",
       "25     28  Austin Knudsen        Montana  Republican           2021   \n",
       "28     31   John Formella  New Hampshire  Republican           2021   \n",
       "35     39   John O'Connor       Oklahoma  Republican           2021   \n",
       "\n",
       "         end of term  \n",
       "3               2023  \n",
       "13              2025  \n",
       "25              2025  \n",
       "28  2025 (Appointed)  \n",
       "35              2023  "
      ]
     },
     "execution_count": 19,
     "metadata": {},
     "output_type": "execute_result"
    }
   ],
   "source": [
    "sag[sag['start of term'] >= 2021]"
   ]
  },
  {
   "cell_type": "code",
   "execution_count": 20,
   "id": "feb90b15-dc7a-4b1b-a81a-9cf6fc1b174d",
   "metadata": {
    "execution": {
     "iopub.execute_input": "2021-12-02T03:19:29.928224Z",
     "iopub.status.busy": "2021-12-02T03:19:29.927225Z",
     "iopub.status.idle": "2021-12-02T03:19:29.937220Z",
     "shell.execute_reply": "2021-12-02T03:19:29.936225Z",
     "shell.execute_reply.started": "2021-12-02T03:19:29.928224Z"
    }
   },
   "outputs": [],
   "source": [
    "sag = sag[sag['start of term'] < 2021].copy().reset_index()"
   ]
  },
  {
   "cell_type": "code",
   "execution_count": 21,
   "id": "cf2dd4a5-c3fe-4313-8ec1-a534e60b70af",
   "metadata": {
    "execution": {
     "iopub.execute_input": "2021-12-02T03:19:30.422732Z",
     "iopub.status.busy": "2021-12-02T03:19:30.421686Z",
     "iopub.status.idle": "2021-12-02T03:19:30.451677Z",
     "shell.execute_reply": "2021-12-02T03:19:30.450714Z",
     "shell.execute_reply.started": "2021-12-02T03:19:30.422732Z"
    }
   },
   "outputs": [
    {
     "name": "stdout",
     "output_type": "stream",
     "text": [
      "<class 'pandas.core.frame.DataFrame'>\n",
      "RangeIndex: 44 entries, 0 to 43\n",
      "Data columns (total 7 columns):\n",
      " #   Column         Non-Null Count  Dtype \n",
      "---  ------         --------------  ----- \n",
      " 0   level_0        44 non-null     int64 \n",
      " 1   index          44 non-null     int64 \n",
      " 2   Name           44 non-null     object\n",
      " 3   State          44 non-null     object\n",
      " 4   party          44 non-null     object\n",
      " 5   start of term  44 non-null     int64 \n",
      " 6   end of term    44 non-null     object\n",
      "dtypes: int64(3), object(4)\n",
      "memory usage: 2.5+ KB\n"
     ]
    }
   ],
   "source": [
    "sag.info()"
   ]
  },
  {
   "cell_type": "code",
   "execution_count": 22,
   "id": "fd379078-b664-4e87-a968-201554c72202",
   "metadata": {
    "execution": {
     "iopub.execute_input": "2021-12-02T03:19:30.591478Z",
     "iopub.status.busy": "2021-12-02T03:19:30.591478Z",
     "iopub.status.idle": "2021-12-02T03:19:30.609445Z",
     "shell.execute_reply": "2021-12-02T03:19:30.608445Z",
     "shell.execute_reply.started": "2021-12-02T03:19:30.591478Z"
    }
   },
   "outputs": [],
   "source": [
    "#replaces 'appointed target word with string for subsequent conversion'\n",
    "sag = sag.replace({'Appointed': '2020'})"
   ]
  },
  {
   "cell_type": "code",
   "execution_count": 23,
   "id": "2400b390-a7dd-4564-b1f7-c9c77127c192",
   "metadata": {
    "execution": {
     "iopub.execute_input": "2021-12-02T03:19:30.702471Z",
     "iopub.status.busy": "2021-12-02T03:19:30.702471Z",
     "iopub.status.idle": "2021-12-02T03:19:30.721466Z",
     "shell.execute_reply": "2021-12-02T03:19:30.719475Z",
     "shell.execute_reply.started": "2021-12-02T03:19:30.702471Z"
    }
   },
   "outputs": [
    {
     "data": {
      "text/html": [
       "<div>\n",
       "<style scoped>\n",
       "    .dataframe tbody tr th:only-of-type {\n",
       "        vertical-align: middle;\n",
       "    }\n",
       "\n",
       "    .dataframe tbody tr th {\n",
       "        vertical-align: top;\n",
       "    }\n",
       "\n",
       "    .dataframe thead th {\n",
       "        text-align: right;\n",
       "    }\n",
       "</style>\n",
       "<table border=\"1\" class=\"dataframe\">\n",
       "  <thead>\n",
       "    <tr style=\"text-align: right;\">\n",
       "      <th></th>\n",
       "      <th>level_0</th>\n",
       "      <th>index</th>\n",
       "      <th>Name</th>\n",
       "      <th>State</th>\n",
       "      <th>party</th>\n",
       "      <th>start of term</th>\n",
       "      <th>end of term</th>\n",
       "    </tr>\n",
       "  </thead>\n",
       "  <tbody>\n",
       "  </tbody>\n",
       "</table>\n",
       "</div>"
      ],
      "text/plain": [
       "Empty DataFrame\n",
       "Columns: [level_0, index, Name, State, party, start of term, end of term]\n",
       "Index: []"
      ]
     },
     "execution_count": 23,
     "metadata": {},
     "output_type": "execute_result"
    }
   ],
   "source": [
    "#check for 'Appointed' word \n",
    "sag[sag['end of term'] =='Appointed']"
   ]
  },
  {
   "cell_type": "code",
   "execution_count": 24,
   "id": "a7524c9f-97da-4074-a17c-4e7f931c4501",
   "metadata": {
    "execution": {
     "iopub.execute_input": "2021-12-02T03:19:30.848472Z",
     "iopub.status.busy": "2021-12-02T03:19:30.847479Z",
     "iopub.status.idle": "2021-12-02T03:19:30.860503Z",
     "shell.execute_reply": "2021-12-02T03:19:30.859497Z",
     "shell.execute_reply.started": "2021-12-02T03:19:30.848472Z"
    }
   },
   "outputs": [],
   "source": [
    "#strip and convert [end of term] to int representing the year\n",
    "sag['end of term'] = sag['end of term'].apply(lambda x: int(x[:4])).copy()"
   ]
  },
  {
   "cell_type": "code",
   "execution_count": 25,
   "id": "8b68bc44-1b5c-4d02-8943-d6d8bc0e7a73",
   "metadata": {
    "execution": {
     "iopub.execute_input": "2021-12-02T03:19:32.039352Z",
     "iopub.status.busy": "2021-12-02T03:19:32.039352Z",
     "iopub.status.idle": "2021-12-02T03:19:32.058349Z",
     "shell.execute_reply": "2021-12-02T03:19:32.057384Z",
     "shell.execute_reply.started": "2021-12-02T03:19:32.039352Z"
    }
   },
   "outputs": [
    {
     "name": "stdout",
     "output_type": "stream",
     "text": [
      "<class 'pandas.core.frame.DataFrame'>\n",
      "RangeIndex: 44 entries, 0 to 43\n",
      "Data columns (total 7 columns):\n",
      " #   Column         Non-Null Count  Dtype \n",
      "---  ------         --------------  ----- \n",
      " 0   level_0        44 non-null     int64 \n",
      " 1   index          44 non-null     int64 \n",
      " 2   Name           44 non-null     object\n",
      " 3   State          44 non-null     object\n",
      " 4   party          44 non-null     object\n",
      " 5   start of term  44 non-null     int64 \n",
      " 6   end of term    44 non-null     int64 \n",
      "dtypes: int64(4), object(3)\n",
      "memory usage: 2.5+ KB\n"
     ]
    }
   ],
   "source": [
    "sag.info()"
   ]
  },
  {
   "cell_type": "code",
   "execution_count": 26,
   "id": "c2e54c3e-3987-4e09-a500-e2c9a292398a",
   "metadata": {
    "execution": {
     "iopub.execute_input": "2021-12-02T03:19:32.176086Z",
     "iopub.status.busy": "2021-12-02T03:19:32.175082Z",
     "iopub.status.idle": "2021-12-02T03:19:32.200129Z",
     "shell.execute_reply": "2021-12-02T03:19:32.199127Z",
     "shell.execute_reply.started": "2021-12-02T03:19:32.176086Z"
    }
   },
   "outputs": [
    {
     "data": {
      "text/plain": [
       "Democratic    23\n",
       "Republican    21\n",
       "Name: party, dtype: int64"
      ]
     },
     "execution_count": 26,
     "metadata": {},
     "output_type": "execute_result"
    }
   ],
   "source": [
    "sag['party'].value_counts()"
   ]
  },
  {
   "cell_type": "code",
   "execution_count": 27,
   "id": "69701277-664c-4104-be22-fffd24b49930",
   "metadata": {
    "execution": {
     "iopub.execute_input": "2021-12-02T03:19:33.615798Z",
     "iopub.status.busy": "2021-12-02T03:19:33.614793Z",
     "iopub.status.idle": "2021-12-02T03:19:33.636779Z",
     "shell.execute_reply": "2021-12-02T03:19:33.635779Z",
     "shell.execute_reply.started": "2021-12-02T03:19:33.615798Z"
    }
   },
   "outputs": [
    {
     "data": {
      "text/html": [
       "<div>\n",
       "<style scoped>\n",
       "    .dataframe tbody tr th:only-of-type {\n",
       "        vertical-align: middle;\n",
       "    }\n",
       "\n",
       "    .dataframe tbody tr th {\n",
       "        vertical-align: top;\n",
       "    }\n",
       "\n",
       "    .dataframe thead th {\n",
       "        text-align: right;\n",
       "    }\n",
       "</style>\n",
       "<table border=\"1\" class=\"dataframe\">\n",
       "  <thead>\n",
       "    <tr style=\"text-align: right;\">\n",
       "      <th></th>\n",
       "      <th>level_0</th>\n",
       "      <th>index</th>\n",
       "      <th>Name</th>\n",
       "      <th>State</th>\n",
       "      <th>party</th>\n",
       "      <th>start of term</th>\n",
       "      <th>end of term</th>\n",
       "    </tr>\n",
       "  </thead>\n",
       "  <tbody>\n",
       "  </tbody>\n",
       "</table>\n",
       "</div>"
      ],
      "text/plain": [
       "Empty DataFrame\n",
       "Columns: [level_0, index, Name, State, party, start of term, end of term]\n",
       "Index: []"
      ]
     },
     "execution_count": 27,
     "metadata": {},
     "output_type": "execute_result"
    }
   ],
   "source": [
    "sag[sag['State'] == 'California']"
   ]
  },
  {
   "cell_type": "code",
   "execution_count": 71,
   "id": "6ff7272d-5424-4a02-a7e8-87cf003b0823",
   "metadata": {
    "execution": {
     "iopub.execute_input": "2021-12-02T03:31:27.286271Z",
     "iopub.status.busy": "2021-12-02T03:31:27.286271Z",
     "iopub.status.idle": "2021-12-02T03:31:27.295282Z",
     "shell.execute_reply": "2021-12-02T03:31:27.293275Z",
     "shell.execute_reply.started": "2021-12-02T03:31:27.286271Z"
    },
    "tags": []
   },
   "outputs": [],
   "source": [
    "sag['party'] = sag['party'].map(lambda x: x.replace('Democratic','Democrat')) "
   ]
  },
  {
   "cell_type": "markdown",
   "id": "d3afb86c-997d-4f25-aa5b-02f7ab6cc5ff",
   "metadata": {},
   "source": [
    "---"
   ]
  },
  {
   "cell_type": "markdown",
   "id": "1b0d38f2-0e9b-4864-a5d0-37df7c481b28",
   "metadata": {},
   "source": [
    "."
   ]
  },
  {
   "cell_type": "markdown",
   "id": "158854d7-44c5-408d-a55f-00e33a8294cc",
   "metadata": {},
   "source": [
    "## Former Attorney Generals\n",
    "---\n",
    "Below we begin the hunt for historical (aka: former) attorney generals for each state going back as far as we can. \n",
    "Our data was scraped from [National Association of Attorney Generals](https://www.naag.org/news-resources/research-data/). We chose this due to a uniformity of data representation in a table that could easily be compiled into a pandas DataFrame. "
   ]
  },
  {
   "cell_type": "code",
   "execution_count": 28,
   "id": "a7b0ddb9-201e-4362-b25a-960e605be6e3",
   "metadata": {
    "execution": {
     "iopub.execute_input": "2021-12-02T03:19:46.172800Z",
     "iopub.status.busy": "2021-12-02T03:19:46.171789Z",
     "iopub.status.idle": "2021-12-02T03:19:46.194822Z",
     "shell.execute_reply": "2021-12-02T03:19:46.193795Z",
     "shell.execute_reply.started": "2021-12-02T03:19:46.172800Z"
    }
   },
   "outputs": [],
   "source": [
    "def get_ag(state):\n",
    "    '''\n",
    "    Function takes a URL to go to and scrape the table of past AG's for a state.\n",
    "    Meant to be run with loop. \n",
    "    '''\n",
    "    if state == 'Louisiana':\n",
    "        url_state = 'https://www.naag.org/attorneys-general/past-attorneys-general/louisiana-former-attorney-general/'\n",
    "    \n",
    "    elif state == 'Connecticut':\n",
    "        url_state = 'https://www.naag.org/attorneys-general/past-attorneys-general/connecticutformer-attorneys-general/'\n",
    "    \n",
    "    else:    \n",
    "        url_state = f'https://www.naag.org/attorneys-general/past-attorneys-general/{state}-former-attorneys-general/'\n",
    "   \n",
    "    #print(f'Working on {state} to import') #diagnostic line\n",
    "    #Diagnostic print line\n",
    "    #print(f'url is {url_state}')\n",
    "    \n",
    "    time.sleep(1)\n",
    "    res2 = requests.get(url_state, headers={'User-Agent': 'Mozilla/5.0'})\n",
    "    #print('Code', res.status_code) #diagnostic line of code\n",
    "    \n",
    "    try:\n",
    "        soup2 = BeautifulSoup(res2.content, 'html.parser')\n",
    "        table2 = soup2.find('tbody')\n",
    "        trs2  = table2.find_all('tr')\n",
    "        states = []\n",
    "        for tr in trs2:\n",
    "            item = [f'{state}']\n",
    "            tds = tr.find_all('td')\n",
    "            for td in tds:\n",
    "                a = td.text\n",
    "                item.append(a)\n",
    "            states.append(item)\n",
    "        states_df = pd.DataFrame(states, columns = ['State', 'Name', 'Term'])\n",
    "    except:\n",
    "        print(f'**************** \\\n",
    "        There was an error with {state}, please correct \\\n",
    "        ***************')\n",
    "        states = []\n",
    "    return states_df"
   ]
  },
  {
   "cell_type": "markdown",
   "id": "5dcc7d82-31c1-42e1-a1e7-809a5db4069b",
   "metadata": {},
   "source": [
    "Since we removed two states having had Attorney General officers begin after our measurement period, the states were dropped. This left us with 49 states currently. \n",
    "We will be filling in the gaps for each year below, since this data came from one source:\n",
    "[Wikipedia](https://en.wikipedia.org/wiki/State_attorney_general)"
   ]
  },
  {
   "cell_type": "code",
   "execution_count": 29,
   "id": "cdbdb24b-d482-4c98-baa0-76b1adfd285f",
   "metadata": {
    "execution": {
     "iopub.execute_input": "2021-12-02T03:20:24.652128Z",
     "iopub.status.busy": "2021-12-02T03:20:24.652128Z",
     "iopub.status.idle": "2021-12-02T03:20:24.673133Z",
     "shell.execute_reply": "2021-12-02T03:20:24.672162Z",
     "shell.execute_reply.started": "2021-12-02T03:20:24.652128Z"
    }
   },
   "outputs": [
    {
     "name": "stdout",
     "output_type": "stream",
     "text": [
      "51\n"
     ]
    }
   ],
   "source": [
    "# list of states from above to help us get a new DtatFrame, Making sure that the two states we dropped are included to bring the total to 51\n",
    "lst_states = list(sag['State'])\n",
    "lst_states.append('Alaska')\n",
    "lst_states.append('New Jersey')\n",
    "lst_states.append('California')\n",
    "lst_states.append('Indiana')\n",
    "lst_states.append('Montana')\n",
    "lst_states.append('New Hampshire')\n",
    "lst_states.append('Oklahoma')\n",
    "print(len(lst_states))\n",
    "lst_states = sorted(lst_states)\n"
   ]
  },
  {
   "cell_type": "code",
   "execution_count": 30,
   "id": "949d9767-76ea-4154-8fff-5e5472eefe69",
   "metadata": {
    "collapsed": true,
    "execution": {
     "iopub.execute_input": "2021-12-02T03:20:26.242048Z",
     "iopub.status.busy": "2021-12-02T03:20:26.242048Z",
     "iopub.status.idle": "2021-12-02T03:21:46.268680Z",
     "shell.execute_reply": "2021-12-02T03:21:46.266687Z",
     "shell.execute_reply.started": "2021-12-02T03:20:26.242048Z"
    },
    "jupyter": {
     "outputs_hidden": true
    },
    "tags": []
   },
   "outputs": [
    {
     "name": "stdout",
     "output_type": "stream",
     "text": [
      "Alabama import completed\n",
      "Alaska import completed\n",
      "Arizona import completed\n",
      "Arkansas import completed\n",
      "California import completed\n",
      "Colorado import completed\n",
      "Connecticut import completed\n",
      "Delaware import completed\n",
      "District of Columbia import completed\n",
      "Florida import completed\n",
      "Georgia import completed\n",
      "Hawaii import completed\n",
      "Idaho import completed\n",
      "Illinois import completed\n",
      "Indiana import completed\n",
      "Iowa import completed\n",
      "Kansas import completed\n",
      "Kentucky import completed\n",
      "Louisiana import completed\n",
      "Maine import completed\n",
      "Maryland import completed\n",
      "Massachusetts import completed\n",
      "Michigan import completed\n",
      "Minnesota import completed\n",
      "Mississippi import completed\n",
      "Missouri import completed\n",
      "Montana import completed\n",
      "Nebraska import completed\n",
      "Nevada import completed\n",
      "New Hampshire import completed\n",
      "New Jersey import completed\n",
      "New Mexico import completed\n",
      "New York import completed\n",
      "North Carolina import completed\n",
      "North Dakota import completed\n",
      "Ohio import completed\n",
      "Oklahoma import completed\n",
      "Oregon import completed\n",
      "Pennsylvania import completed\n",
      "Rhode Island import completed\n",
      "South Carolina import completed\n",
      "South Dakota import completed\n",
      "Tennessee import completed\n",
      "Texas import completed\n",
      "Utah import completed\n",
      "Vermont import completed\n",
      "Virginia import completed\n",
      "Washington import completed\n",
      "West Virginia import completed\n",
      "Wisconsin import completed\n",
      "Wyoming import completed\n"
     ]
    }
   ],
   "source": [
    "main = []\n",
    "for state in lst_states:\n",
    "    out = get_ag(state)\n",
    "    main.append(out)\n",
    "    print(f'{state} import completed')"
   ]
  },
  {
   "cell_type": "markdown",
   "id": "cd959b97-7b5a-4ff2-864e-86d2c70f915f",
   "metadata": {},
   "source": [
    "Having created a big list of appended data representing a state's historical record of Attorneys General, we create a DataFrame to continue preprocessing and cleaning. "
   ]
  },
  {
   "cell_type": "markdown",
   "id": "2e4ba1d2-9e95-42e8-a378-10d2000622ca",
   "metadata": {},
   "source": [
    "### Cleaning DataFrame of all historic Attorneys General\n"
   ]
  },
  {
   "cell_type": "code",
   "execution_count": 31,
   "id": "f6bce978-06f9-49bb-9b65-01dfc8af9b13",
   "metadata": {
    "execution": {
     "iopub.execute_input": "2021-12-02T03:22:01.603514Z",
     "iopub.status.busy": "2021-12-02T03:22:01.603514Z",
     "iopub.status.idle": "2021-12-02T03:22:01.623509Z",
     "shell.execute_reply": "2021-12-02T03:22:01.622546Z",
     "shell.execute_reply.started": "2021-12-02T03:22:01.603514Z"
    }
   },
   "outputs": [],
   "source": [
    "former_ag = pd.concat(main, ignore_index = True)"
   ]
  },
  {
   "cell_type": "code",
   "execution_count": 32,
   "id": "abe51611-479f-4ce5-8c1a-3fe4acb73aeb",
   "metadata": {
    "execution": {
     "iopub.execute_input": "2021-12-02T03:22:11.589351Z",
     "iopub.status.busy": "2021-12-02T03:22:11.589351Z",
     "iopub.status.idle": "2021-12-02T03:22:11.614351Z",
     "shell.execute_reply": "2021-12-02T03:22:11.612348Z",
     "shell.execute_reply.started": "2021-12-02T03:22:11.589351Z"
    }
   },
   "outputs": [],
   "source": [
    "former_ag[['start of term', 'end of term']] = former_ag['Term'].str.split('–', expand = True)\n",
    "former_ag[['start of term', 'end of term']] = former_ag['Term'].str.split('– ', expand = True)"
   ]
  },
  {
   "cell_type": "code",
   "execution_count": 33,
   "id": "c2f360c2-9f67-4ab9-8ba9-a49d0d25b22b",
   "metadata": {
    "execution": {
     "iopub.execute_input": "2021-12-02T03:22:11.878753Z",
     "iopub.status.busy": "2021-12-02T03:22:11.877750Z",
     "iopub.status.idle": "2021-12-02T03:22:11.908764Z",
     "shell.execute_reply": "2021-12-02T03:22:11.906763Z",
     "shell.execute_reply.started": "2021-12-02T03:22:11.878753Z"
    }
   },
   "outputs": [
    {
     "name": "stdout",
     "output_type": "stream",
     "text": [
      "<class 'pandas.core.frame.DataFrame'>\n",
      "RangeIndex: 2068 entries, 0 to 2067\n",
      "Data columns (total 5 columns):\n",
      " #   Column         Non-Null Count  Dtype \n",
      "---  ------         --------------  ----- \n",
      " 0   State          2068 non-null   object\n",
      " 1   Name           2068 non-null   object\n",
      " 2   Term           2068 non-null   object\n",
      " 3   start of term  2068 non-null   object\n",
      " 4   end of term    1938 non-null   object\n",
      "dtypes: object(5)\n",
      "memory usage: 80.9+ KB\n"
     ]
    }
   ],
   "source": [
    "former_ag.info()"
   ]
  },
  {
   "cell_type": "markdown",
   "id": "c155c1b8-6e05-4a86-bed6-4dbabc286fca",
   "metadata": {},
   "source": [
    "Need to edit output. Some states appoint or otherwise seat an Attorney Gen. Turn all strings to numbers. I will do this in a function with a try/except block to handle odd strings here and there. There are a number of people have no end data, will need to look at that too. "
   ]
  },
  {
   "cell_type": "code",
   "execution_count": 34,
   "id": "5c271c11-b593-4cd2-ac56-f22c3087d4fc",
   "metadata": {
    "execution": {
     "iopub.execute_input": "2021-12-02T03:22:14.048953Z",
     "iopub.status.busy": "2021-12-02T03:22:14.048953Z",
     "iopub.status.idle": "2021-12-02T03:22:14.068961Z",
     "shell.execute_reply": "2021-12-02T03:22:14.065991Z",
     "shell.execute_reply.started": "2021-12-02T03:22:14.048953Z"
    }
   },
   "outputs": [],
   "source": [
    "def to_num(string):\n",
    "    '''\n",
    "    Accepts a string and turns it into a number if possible. If not possible the location of unconverted numbers\n",
    "    returned in a list with location\n",
    "    '''\n",
    "    try:\n",
    "        alpha = int(string)\n",
    "        \n",
    "    except:\n",
    "        alpha = print(f'the string {string} could not be converted')\n",
    "    \n",
    "    return alpha"
   ]
  },
  {
   "cell_type": "code",
   "execution_count": 35,
   "id": "494af4d8-0c75-455c-b9d4-5dc6fe1f3303",
   "metadata": {
    "execution": {
     "iopub.execute_input": "2021-12-02T03:22:15.275020Z",
     "iopub.status.busy": "2021-12-02T03:22:15.275020Z",
     "iopub.status.idle": "2021-12-02T03:22:15.294995Z",
     "shell.execute_reply": "2021-12-02T03:22:15.294013Z",
     "shell.execute_reply.started": "2021-12-02T03:22:15.275020Z"
    }
   },
   "outputs": [
    {
     "name": "stdout",
     "output_type": "stream",
     "text": [
      "the string 1991 -1999 could not be converted\n",
      "the string 1892 -1895 could not be converted\n",
      "the string 1815-1817 could not be converted\n",
      "the string  could not be converted\n",
      "the string 1981- 1984 could not be converted\n",
      "the string October 2006 could not be converted\n",
      "the string Appointed: 1926 could not be converted\n",
      "the string Appointed: 2013, Elected: 2014  could not be converted\n"
     ]
    },
    {
     "data": {
      "text/plain": [
       "0       2010.0\n",
       "1       2004.0\n",
       "2       1997.0\n",
       "3       1995.0\n",
       "4       1991.0\n",
       "         ...  \n",
       "2063    1905.0\n",
       "2064    1898.0\n",
       "2065    1895.0\n",
       "2066    1891.0\n",
       "2067    1886.0\n",
       "Name: start of term, Length: 2068, dtype: float64"
      ]
     },
     "execution_count": 35,
     "metadata": {},
     "output_type": "execute_result"
    }
   ],
   "source": [
    "former_ag['start of term'].apply(to_num)"
   ]
  },
  {
   "cell_type": "markdown",
   "id": "3cf9a5ca-6227-41d9-98e7-d285fc2bb542",
   "metadata": {},
   "source": [
    "Investigate each of the strange ones: correcting the ones that are wrong, based on Wikipedia, and dropping the ones older than 1979"
   ]
  },
  {
   "cell_type": "code",
   "execution_count": 36,
   "id": "8f3e076c-4e2b-44cd-b2fc-d843056de1ea",
   "metadata": {
    "execution": {
     "iopub.execute_input": "2021-12-02T03:23:06.784946Z",
     "iopub.status.busy": "2021-12-02T03:23:06.784946Z",
     "iopub.status.idle": "2021-12-02T03:23:06.801956Z",
     "shell.execute_reply": "2021-12-02T03:23:06.799951Z",
     "shell.execute_reply.started": "2021-12-02T03:23:06.784946Z"
    }
   },
   "outputs": [
    {
     "data": {
      "text/html": [
       "<div>\n",
       "<style scoped>\n",
       "    .dataframe tbody tr th:only-of-type {\n",
       "        vertical-align: middle;\n",
       "    }\n",
       "\n",
       "    .dataframe tbody tr th {\n",
       "        vertical-align: top;\n",
       "    }\n",
       "\n",
       "    .dataframe thead th {\n",
       "        text-align: right;\n",
       "    }\n",
       "</style>\n",
       "<table border=\"1\" class=\"dataframe\">\n",
       "  <thead>\n",
       "    <tr style=\"text-align: right;\">\n",
       "      <th></th>\n",
       "      <th>State</th>\n",
       "      <th>Name</th>\n",
       "      <th>Term</th>\n",
       "      <th>start of term</th>\n",
       "      <th>end of term</th>\n",
       "    </tr>\n",
       "  </thead>\n",
       "  <tbody>\n",
       "    <tr>\n",
       "      <th>130</th>\n",
       "      <td>Arkansas</td>\n",
       "      <td>Winston Bryant</td>\n",
       "      <td>1991 -1999</td>\n",
       "      <td>1991 -1999</td>\n",
       "      <td>None</td>\n",
       "    </tr>\n",
       "  </tbody>\n",
       "</table>\n",
       "</div>"
      ],
      "text/plain": [
       "        State            Name        Term start of term end of term\n",
       "130  Arkansas  Winston Bryant  1991 -1999    1991 -1999        None"
      ]
     },
     "execution_count": 36,
     "metadata": {},
     "output_type": "execute_result"
    }
   ],
   "source": [
    "former_ag[former_ag['start of term'] == '1991 -1999']"
   ]
  },
  {
   "cell_type": "code",
   "execution_count": 37,
   "id": "b2b6fe56-5a55-4997-ba2e-90e0947019b0",
   "metadata": {
    "execution": {
     "iopub.execute_input": "2021-12-02T03:23:12.764456Z",
     "iopub.status.busy": "2021-12-02T03:23:12.764456Z",
     "iopub.status.idle": "2021-12-02T03:23:12.779454Z",
     "shell.execute_reply": "2021-12-02T03:23:12.778453Z",
     "shell.execute_reply.started": "2021-12-02T03:23:12.764456Z"
    }
   },
   "outputs": [],
   "source": [
    "former_ag.iloc[130]['start of term'] = 1991\n",
    "former_ag.iloc[130]['end of term'] = 1999"
   ]
  },
  {
   "cell_type": "code",
   "execution_count": 38,
   "id": "281973ee-8986-4480-9089-9be35872ac12",
   "metadata": {
    "execution": {
     "iopub.execute_input": "2021-12-02T03:23:22.104496Z",
     "iopub.status.busy": "2021-12-02T03:23:22.104496Z",
     "iopub.status.idle": "2021-12-02T03:23:22.125500Z",
     "shell.execute_reply": "2021-12-02T03:23:22.123516Z",
     "shell.execute_reply.started": "2021-12-02T03:23:22.104496Z"
    }
   },
   "outputs": [
    {
     "data": {
      "text/html": [
       "<div>\n",
       "<style scoped>\n",
       "    .dataframe tbody tr th:only-of-type {\n",
       "        vertical-align: middle;\n",
       "    }\n",
       "\n",
       "    .dataframe tbody tr th {\n",
       "        vertical-align: top;\n",
       "    }\n",
       "\n",
       "    .dataframe thead th {\n",
       "        text-align: right;\n",
       "    }\n",
       "</style>\n",
       "<table border=\"1\" class=\"dataframe\">\n",
       "  <thead>\n",
       "    <tr style=\"text-align: right;\">\n",
       "      <th></th>\n",
       "      <th>State</th>\n",
       "      <th>Name</th>\n",
       "      <th>Term</th>\n",
       "      <th>start of term</th>\n",
       "      <th>end of term</th>\n",
       "    </tr>\n",
       "  </thead>\n",
       "  <tbody>\n",
       "    <tr>\n",
       "      <th>1229</th>\n",
       "      <td>New Hampshire</td>\n",
       "      <td>Stephen E Merrill</td>\n",
       "      <td>1981- 1984</td>\n",
       "      <td>1981- 1984</td>\n",
       "      <td>None</td>\n",
       "    </tr>\n",
       "  </tbody>\n",
       "</table>\n",
       "</div>"
      ],
      "text/plain": [
       "              State               Name        Term start of term end of term\n",
       "1229  New Hampshire  Stephen E Merrill  1981- 1984    1981- 1984        None"
      ]
     },
     "execution_count": 38,
     "metadata": {},
     "output_type": "execute_result"
    }
   ],
   "source": [
    "former_ag[former_ag['start of term'] == '1981- 1984']"
   ]
  },
  {
   "cell_type": "code",
   "execution_count": 39,
   "id": "8362e78e-f74b-448d-a658-1f2428876ee6",
   "metadata": {
    "execution": {
     "iopub.execute_input": "2021-12-02T03:23:26.835645Z",
     "iopub.status.busy": "2021-12-02T03:23:26.835645Z",
     "iopub.status.idle": "2021-12-02T03:23:26.854614Z",
     "shell.execute_reply": "2021-12-02T03:23:26.852646Z",
     "shell.execute_reply.started": "2021-12-02T03:23:26.835645Z"
    }
   },
   "outputs": [],
   "source": [
    "former_ag.iloc[1229]['start of term'] = 1985\n",
    "former_ag.iloc[1229]['end of term'] = 1989"
   ]
  },
  {
   "cell_type": "code",
   "execution_count": 40,
   "id": "aab3b557-d497-482a-a180-0c03d091322a",
   "metadata": {
    "execution": {
     "iopub.execute_input": "2021-12-02T03:23:27.961224Z",
     "iopub.status.busy": "2021-12-02T03:23:27.961224Z",
     "iopub.status.idle": "2021-12-02T03:23:27.973228Z",
     "shell.execute_reply": "2021-12-02T03:23:27.972226Z",
     "shell.execute_reply.started": "2021-12-02T03:23:27.961224Z"
    }
   },
   "outputs": [
    {
     "data": {
      "text/html": [
       "<div>\n",
       "<style scoped>\n",
       "    .dataframe tbody tr th:only-of-type {\n",
       "        vertical-align: middle;\n",
       "    }\n",
       "\n",
       "    .dataframe tbody tr th {\n",
       "        vertical-align: top;\n",
       "    }\n",
       "\n",
       "    .dataframe thead th {\n",
       "        text-align: right;\n",
       "    }\n",
       "</style>\n",
       "<table border=\"1\" class=\"dataframe\">\n",
       "  <thead>\n",
       "    <tr style=\"text-align: right;\">\n",
       "      <th></th>\n",
       "      <th>State</th>\n",
       "      <th>Name</th>\n",
       "      <th>Term</th>\n",
       "      <th>start of term</th>\n",
       "      <th>end of term</th>\n",
       "    </tr>\n",
       "  </thead>\n",
       "  <tbody>\n",
       "    <tr>\n",
       "      <th>1829</th>\n",
       "      <td>Tennessee</td>\n",
       "      <td>Michael E. Moore</td>\n",
       "      <td>October 2006</td>\n",
       "      <td>October 2006</td>\n",
       "      <td>None</td>\n",
       "    </tr>\n",
       "  </tbody>\n",
       "</table>\n",
       "</div>"
      ],
      "text/plain": [
       "          State              Name          Term start of term end of term\n",
       "1829  Tennessee  Michael E. Moore  October 2006  October 2006        None"
      ]
     },
     "execution_count": 40,
     "metadata": {},
     "output_type": "execute_result"
    }
   ],
   "source": [
    "former_ag[former_ag['start of term'] == 'October 2006']"
   ]
  },
  {
   "cell_type": "code",
   "execution_count": 41,
   "id": "7803609c-c688-4f9a-b264-1eb5686f8f05",
   "metadata": {
    "execution": {
     "iopub.execute_input": "2021-12-02T03:23:39.176197Z",
     "iopub.status.busy": "2021-12-02T03:23:39.175199Z",
     "iopub.status.idle": "2021-12-02T03:23:39.186202Z",
     "shell.execute_reply": "2021-12-02T03:23:39.183209Z",
     "shell.execute_reply.started": "2021-12-02T03:23:39.176197Z"
    }
   },
   "outputs": [],
   "source": [
    "former_ag.iloc[1829]['Name'] = 'Robert E. Cooper, Jr.'\n",
    "former_ag.iloc[1829]['start of term'] = 2006\n",
    "former_ag.iloc[1829]['end of term'] = 2014"
   ]
  },
  {
   "cell_type": "code",
   "execution_count": 42,
   "id": "5aba2aba-63c0-46ff-a7dc-a69dd4a16a6a",
   "metadata": {
    "execution": {
     "iopub.execute_input": "2021-12-02T03:23:43.758209Z",
     "iopub.status.busy": "2021-12-02T03:23:43.758209Z",
     "iopub.status.idle": "2021-12-02T03:23:43.777206Z",
     "shell.execute_reply": "2021-12-02T03:23:43.776231Z",
     "shell.execute_reply.started": "2021-12-02T03:23:43.758209Z"
    }
   },
   "outputs": [
    {
     "data": {
      "text/html": [
       "<div>\n",
       "<style scoped>\n",
       "    .dataframe tbody tr th:only-of-type {\n",
       "        vertical-align: middle;\n",
       "    }\n",
       "\n",
       "    .dataframe tbody tr th {\n",
       "        vertical-align: top;\n",
       "    }\n",
       "\n",
       "    .dataframe thead th {\n",
       "        text-align: right;\n",
       "    }\n",
       "</style>\n",
       "<table border=\"1\" class=\"dataframe\">\n",
       "  <thead>\n",
       "    <tr style=\"text-align: right;\">\n",
       "      <th></th>\n",
       "      <th>State</th>\n",
       "      <th>Name</th>\n",
       "      <th>Term</th>\n",
       "      <th>start of term</th>\n",
       "      <th>end of term</th>\n",
       "    </tr>\n",
       "  </thead>\n",
       "  <tbody>\n",
       "    <tr>\n",
       "      <th>1865</th>\n",
       "      <td>Utah</td>\n",
       "      <td>Sean Reyes</td>\n",
       "      <td>Appointed: 2013, Elected: 2014 – Present</td>\n",
       "      <td>Appointed: 2013, Elected: 2014</td>\n",
       "      <td>Present</td>\n",
       "    </tr>\n",
       "  </tbody>\n",
       "</table>\n",
       "</div>"
      ],
      "text/plain": [
       "     State        Name                                      Term  \\\n",
       "1865  Utah  Sean Reyes  Appointed: 2013, Elected: 2014 – Present   \n",
       "\n",
       "                        start of term end of term  \n",
       "1865  Appointed: 2013, Elected: 2014      Present  "
      ]
     },
     "execution_count": 42,
     "metadata": {},
     "output_type": "execute_result"
    }
   ],
   "source": [
    "former_ag[former_ag['start of term'] == 'Appointed: 2013, Elected: 2014 ']"
   ]
  },
  {
   "cell_type": "code",
   "execution_count": 43,
   "id": "083a2b08-10bb-47bc-9258-c1f048e5e8cc",
   "metadata": {
    "execution": {
     "iopub.execute_input": "2021-12-02T03:23:46.974035Z",
     "iopub.status.busy": "2021-12-02T03:23:46.974035Z",
     "iopub.status.idle": "2021-12-02T03:23:46.997040Z",
     "shell.execute_reply": "2021-12-02T03:23:46.995039Z",
     "shell.execute_reply.started": "2021-12-02T03:23:46.974035Z"
    }
   },
   "outputs": [
    {
     "data": {
      "text/html": [
       "<div>\n",
       "<style scoped>\n",
       "    .dataframe tbody tr th:only-of-type {\n",
       "        vertical-align: middle;\n",
       "    }\n",
       "\n",
       "    .dataframe tbody tr th {\n",
       "        vertical-align: top;\n",
       "    }\n",
       "\n",
       "    .dataframe thead th {\n",
       "        text-align: right;\n",
       "    }\n",
       "</style>\n",
       "<table border=\"1\" class=\"dataframe\">\n",
       "  <thead>\n",
       "    <tr style=\"text-align: right;\">\n",
       "      <th></th>\n",
       "      <th>level_0</th>\n",
       "      <th>index</th>\n",
       "      <th>Name</th>\n",
       "      <th>State</th>\n",
       "      <th>party</th>\n",
       "      <th>start of term</th>\n",
       "      <th>end of term</th>\n",
       "    </tr>\n",
       "  </thead>\n",
       "  <tbody>\n",
       "    <tr>\n",
       "      <th>37</th>\n",
       "      <td>43</td>\n",
       "      <td>49</td>\n",
       "      <td>Sean Reyes</td>\n",
       "      <td>Utah</td>\n",
       "      <td>Republican</td>\n",
       "      <td>2013</td>\n",
       "      <td>2025</td>\n",
       "    </tr>\n",
       "  </tbody>\n",
       "</table>\n",
       "</div>"
      ],
      "text/plain": [
       "    level_0  index        Name State       party  start of term  end of term\n",
       "37       43     49  Sean Reyes  Utah  Republican           2013         2025"
      ]
     },
     "execution_count": 43,
     "metadata": {},
     "output_type": "execute_result"
    }
   ],
   "source": [
    "sag[sag['State'] == 'Utah']"
   ]
  },
  {
   "cell_type": "code",
   "execution_count": 44,
   "id": "217a1624-ab88-4bc1-8eaf-60bc6e49f4f2",
   "metadata": {
    "execution": {
     "iopub.execute_input": "2021-12-02T03:23:51.474078Z",
     "iopub.status.busy": "2021-12-02T03:23:51.474078Z",
     "iopub.status.idle": "2021-12-02T03:23:51.480079Z",
     "shell.execute_reply": "2021-12-02T03:23:51.479082Z",
     "shell.execute_reply.started": "2021-12-02T03:23:51.474078Z"
    }
   },
   "outputs": [],
   "source": [
    "#reyes is a current AG\n",
    "former_ag = former_ag.drop(1865)"
   ]
  },
  {
   "cell_type": "code",
   "execution_count": 45,
   "id": "eb2b5d30-91de-45fb-a332-aac51a3a5688",
   "metadata": {
    "execution": {
     "iopub.execute_input": "2021-12-02T03:24:06.159622Z",
     "iopub.status.busy": "2021-12-02T03:24:06.158615Z",
     "iopub.status.idle": "2021-12-02T03:24:06.176607Z",
     "shell.execute_reply": "2021-12-02T03:24:06.175606Z",
     "shell.execute_reply.started": "2021-12-02T03:24:06.159622Z"
    }
   },
   "outputs": [
    {
     "data": {
      "text/html": [
       "<div>\n",
       "<style scoped>\n",
       "    .dataframe tbody tr th:only-of-type {\n",
       "        vertical-align: middle;\n",
       "    }\n",
       "\n",
       "    .dataframe tbody tr th {\n",
       "        vertical-align: top;\n",
       "    }\n",
       "\n",
       "    .dataframe thead th {\n",
       "        text-align: right;\n",
       "    }\n",
       "</style>\n",
       "<table border=\"1\" class=\"dataframe\">\n",
       "  <thead>\n",
       "    <tr style=\"text-align: right;\">\n",
       "      <th></th>\n",
       "      <th>State</th>\n",
       "      <th>Name</th>\n",
       "      <th>Term</th>\n",
       "      <th>start of term</th>\n",
       "      <th>end of term</th>\n",
       "    </tr>\n",
       "  </thead>\n",
       "  <tbody>\n",
       "    <tr>\n",
       "      <th>306</th>\n",
       "      <td>Delaware</td>\n",
       "      <td>John R. Nicholson</td>\n",
       "      <td>1892 -1895</td>\n",
       "      <td>1892 -1895</td>\n",
       "      <td>None</td>\n",
       "    </tr>\n",
       "  </tbody>\n",
       "</table>\n",
       "</div>"
      ],
      "text/plain": [
       "        State               Name        Term start of term end of term\n",
       "306  Delaware  John R. Nicholson  1892 -1895    1892 -1895        None"
      ]
     },
     "execution_count": 45,
     "metadata": {},
     "output_type": "execute_result"
    }
   ],
   "source": [
    "former_ag[former_ag['start of term'] == '1892 -1895']"
   ]
  },
  {
   "cell_type": "code",
   "execution_count": 46,
   "id": "5bf685f7-d5c3-452b-89bf-72b2f34a2aac",
   "metadata": {
    "execution": {
     "iopub.execute_input": "2021-12-02T03:24:08.281378Z",
     "iopub.status.busy": "2021-12-02T03:24:08.281378Z",
     "iopub.status.idle": "2021-12-02T03:24:08.294349Z",
     "shell.execute_reply": "2021-12-02T03:24:08.293348Z",
     "shell.execute_reply.started": "2021-12-02T03:24:08.281378Z"
    }
   },
   "outputs": [],
   "source": [
    "former_ag = former_ag.drop(306)"
   ]
  },
  {
   "cell_type": "code",
   "execution_count": 47,
   "id": "10b72cb9-4afa-4eb7-be11-a0d08386f9ab",
   "metadata": {
    "execution": {
     "iopub.execute_input": "2021-12-02T03:24:11.836503Z",
     "iopub.status.busy": "2021-12-02T03:24:11.836503Z",
     "iopub.status.idle": "2021-12-02T03:24:11.860469Z",
     "shell.execute_reply": "2021-12-02T03:24:11.859505Z",
     "shell.execute_reply.started": "2021-12-02T03:24:11.836503Z"
    }
   },
   "outputs": [
    {
     "data": {
      "text/html": [
       "<div>\n",
       "<style scoped>\n",
       "    .dataframe tbody tr th:only-of-type {\n",
       "        vertical-align: middle;\n",
       "    }\n",
       "\n",
       "    .dataframe tbody tr th {\n",
       "        vertical-align: top;\n",
       "    }\n",
       "\n",
       "    .dataframe thead th {\n",
       "        text-align: right;\n",
       "    }\n",
       "</style>\n",
       "<table border=\"1\" class=\"dataframe\">\n",
       "  <thead>\n",
       "    <tr style=\"text-align: right;\">\n",
       "      <th></th>\n",
       "      <th>State</th>\n",
       "      <th>Name</th>\n",
       "      <th>Term</th>\n",
       "      <th>start of term</th>\n",
       "      <th>end of term</th>\n",
       "    </tr>\n",
       "  </thead>\n",
       "  <tbody>\n",
       "    <tr>\n",
       "      <th>808</th>\n",
       "      <td>Louisiana</td>\n",
       "      <td>Etienne Mazareu</td>\n",
       "      <td>1815-1817</td>\n",
       "      <td>1815-1817</td>\n",
       "      <td>None</td>\n",
       "    </tr>\n",
       "  </tbody>\n",
       "</table>\n",
       "</div>"
      ],
      "text/plain": [
       "         State             Name       Term start of term end of term\n",
       "808  Louisiana  Etienne Mazareu  1815-1817     1815-1817        None"
      ]
     },
     "execution_count": 47,
     "metadata": {},
     "output_type": "execute_result"
    }
   ],
   "source": [
    "former_ag[former_ag['start of term'] == '1815-1817']"
   ]
  },
  {
   "cell_type": "code",
   "execution_count": 48,
   "id": "b0e265b4-b39b-4889-a39a-1444e1914ec4",
   "metadata": {
    "execution": {
     "iopub.execute_input": "2021-12-02T03:24:13.658124Z",
     "iopub.status.busy": "2021-12-02T03:24:13.658124Z",
     "iopub.status.idle": "2021-12-02T03:24:13.677625Z",
     "shell.execute_reply": "2021-12-02T03:24:13.676658Z",
     "shell.execute_reply.started": "2021-12-02T03:24:13.658124Z"
    }
   },
   "outputs": [],
   "source": [
    "former_ag = former_ag.drop(808)"
   ]
  },
  {
   "cell_type": "code",
   "execution_count": 49,
   "id": "591a4a85-3c9f-4864-92f3-a26f2fec35eb",
   "metadata": {
    "execution": {
     "iopub.execute_input": "2021-12-02T03:24:13.974782Z",
     "iopub.status.busy": "2021-12-02T03:24:13.974782Z",
     "iopub.status.idle": "2021-12-02T03:24:13.992788Z",
     "shell.execute_reply": "2021-12-02T03:24:13.990788Z",
     "shell.execute_reply.started": "2021-12-02T03:24:13.974782Z"
    }
   },
   "outputs": [
    {
     "data": {
      "text/html": [
       "<div>\n",
       "<style scoped>\n",
       "    .dataframe tbody tr th:only-of-type {\n",
       "        vertical-align: middle;\n",
       "    }\n",
       "\n",
       "    .dataframe tbody tr th {\n",
       "        vertical-align: top;\n",
       "    }\n",
       "\n",
       "    .dataframe thead th {\n",
       "        text-align: right;\n",
       "    }\n",
       "</style>\n",
       "<table border=\"1\" class=\"dataframe\">\n",
       "  <thead>\n",
       "    <tr style=\"text-align: right;\">\n",
       "      <th></th>\n",
       "      <th>State</th>\n",
       "      <th>Name</th>\n",
       "      <th>Term</th>\n",
       "      <th>start of term</th>\n",
       "      <th>end of term</th>\n",
       "    </tr>\n",
       "  </thead>\n",
       "  <tbody>\n",
       "    <tr>\n",
       "      <th>1843</th>\n",
       "      <td>Tennessee</td>\n",
       "      <td>Charles L. Cornelius</td>\n",
       "      <td>Appointed: 1926</td>\n",
       "      <td>Appointed: 1926</td>\n",
       "      <td>None</td>\n",
       "    </tr>\n",
       "  </tbody>\n",
       "</table>\n",
       "</div>"
      ],
      "text/plain": [
       "          State                  Name             Term    start of term  \\\n",
       "1843  Tennessee  Charles L. Cornelius  Appointed: 1926  Appointed: 1926   \n",
       "\n",
       "     end of term  \n",
       "1843        None  "
      ]
     },
     "execution_count": 49,
     "metadata": {},
     "output_type": "execute_result"
    }
   ],
   "source": [
    "former_ag[former_ag['start of term'] == 'Appointed: 1926']"
   ]
  },
  {
   "cell_type": "code",
   "execution_count": 50,
   "id": "61ae1bf3-9919-4d1a-823d-7caa9ebf0e36",
   "metadata": {
    "execution": {
     "iopub.execute_input": "2021-12-02T03:24:14.324960Z",
     "iopub.status.busy": "2021-12-02T03:24:14.323959Z",
     "iopub.status.idle": "2021-12-02T03:24:14.333960Z",
     "shell.execute_reply": "2021-12-02T03:24:14.332958Z",
     "shell.execute_reply.started": "2021-12-02T03:24:14.324960Z"
    }
   },
   "outputs": [],
   "source": [
    "former_ag = former_ag.drop(1843)"
   ]
  },
  {
   "cell_type": "code",
   "execution_count": 51,
   "id": "42ee01c0-f67c-4182-a909-ff677dc2e82a",
   "metadata": {
    "execution": {
     "iopub.execute_input": "2021-12-02T03:24:14.626080Z",
     "iopub.status.busy": "2021-12-02T03:24:14.626080Z",
     "iopub.status.idle": "2021-12-02T03:24:14.643081Z",
     "shell.execute_reply": "2021-12-02T03:24:14.642147Z",
     "shell.execute_reply.started": "2021-12-02T03:24:14.626080Z"
    }
   },
   "outputs": [
    {
     "data": {
      "text/html": [
       "<div>\n",
       "<style scoped>\n",
       "    .dataframe tbody tr th:only-of-type {\n",
       "        vertical-align: middle;\n",
       "    }\n",
       "\n",
       "    .dataframe tbody tr th {\n",
       "        vertical-align: top;\n",
       "    }\n",
       "\n",
       "    .dataframe thead th {\n",
       "        text-align: right;\n",
       "    }\n",
       "</style>\n",
       "<table border=\"1\" class=\"dataframe\">\n",
       "  <thead>\n",
       "    <tr style=\"text-align: right;\">\n",
       "      <th></th>\n",
       "      <th>State</th>\n",
       "      <th>Name</th>\n",
       "      <th>Term</th>\n",
       "      <th>start of term</th>\n",
       "      <th>end of term</th>\n",
       "    </tr>\n",
       "  </thead>\n",
       "  <tbody>\n",
       "    <tr>\n",
       "      <th>946</th>\n",
       "      <td>Massachusetts</td>\n",
       "      <td>Office Abolished 1843 – 1849</td>\n",
       "      <td></td>\n",
       "      <td></td>\n",
       "      <td>None</td>\n",
       "    </tr>\n",
       "  </tbody>\n",
       "</table>\n",
       "</div>"
      ],
      "text/plain": [
       "             State                          Name Term start of term  \\\n",
       "946  Massachusetts  Office Abolished 1843 – 1849                      \n",
       "\n",
       "    end of term  \n",
       "946        None  "
      ]
     },
     "execution_count": 51,
     "metadata": {},
     "output_type": "execute_result"
    }
   ],
   "source": [
    "former_ag[former_ag['start of term'] == '']"
   ]
  },
  {
   "cell_type": "code",
   "execution_count": 52,
   "id": "686f95b8-fe2c-4361-9e0e-3e553bb10507",
   "metadata": {
    "execution": {
     "iopub.execute_input": "2021-12-02T03:24:15.021112Z",
     "iopub.status.busy": "2021-12-02T03:24:15.020111Z",
     "iopub.status.idle": "2021-12-02T03:24:15.032103Z",
     "shell.execute_reply": "2021-12-02T03:24:15.031138Z",
     "shell.execute_reply.started": "2021-12-02T03:24:15.021112Z"
    }
   },
   "outputs": [],
   "source": [
    "former_ag = former_ag.drop(946)"
   ]
  },
  {
   "cell_type": "code",
   "execution_count": 53,
   "id": "d487b727-8d29-459f-921b-46ccf16e228a",
   "metadata": {
    "execution": {
     "iopub.execute_input": "2021-12-02T03:24:15.506676Z",
     "iopub.status.busy": "2021-12-02T03:24:15.505673Z",
     "iopub.status.idle": "2021-12-02T03:24:15.515674Z",
     "shell.execute_reply": "2021-12-02T03:24:15.514673Z",
     "shell.execute_reply.started": "2021-12-02T03:24:15.506676Z"
    }
   },
   "outputs": [],
   "source": [
    "former_ag['start of term'] = former_ag['start of term'].apply(to_num)"
   ]
  },
  {
   "cell_type": "code",
   "execution_count": 54,
   "id": "d6ab5eae-a518-4da2-bfe3-22ff20430037",
   "metadata": {
    "execution": {
     "iopub.execute_input": "2021-12-02T03:24:17.337181Z",
     "iopub.status.busy": "2021-12-02T03:24:17.337181Z",
     "iopub.status.idle": "2021-12-02T03:24:17.360219Z",
     "shell.execute_reply": "2021-12-02T03:24:17.359217Z",
     "shell.execute_reply.started": "2021-12-02T03:24:17.337181Z"
    }
   },
   "outputs": [
    {
     "name": "stdout",
     "output_type": "stream",
     "text": [
      "<class 'pandas.core.frame.DataFrame'>\n",
      "Int64Index: 2063 entries, 0 to 2067\n",
      "Data columns (total 5 columns):\n",
      " #   Column         Non-Null Count  Dtype \n",
      "---  ------         --------------  ----- \n",
      " 0   State          2063 non-null   object\n",
      " 1   Name           2063 non-null   object\n",
      " 2   Term           2063 non-null   object\n",
      " 3   start of term  2063 non-null   int64 \n",
      " 4   end of term    1940 non-null   object\n",
      "dtypes: int64(1), object(4)\n",
      "memory usage: 96.7+ KB\n"
     ]
    }
   ],
   "source": [
    "former_ag.info()"
   ]
  },
  {
   "cell_type": "markdown",
   "id": "5153a31c-30a7-4532-95f4-0c25a8bfa2b9",
   "metadata": {},
   "source": [
    "---"
   ]
  },
  {
   "cell_type": "markdown",
   "id": "a07c9512-71ff-4653-bc26-252b9251dab6",
   "metadata": {},
   "source": [
    "Now to adjust the end of term series"
   ]
  },
  {
   "cell_type": "code",
   "execution_count": 55,
   "id": "a635a43f-4e1b-4986-929d-06d8bdc18636",
   "metadata": {
    "execution": {
     "iopub.execute_input": "2021-12-02T03:24:26.120513Z",
     "iopub.status.busy": "2021-12-02T03:24:26.120513Z",
     "iopub.status.idle": "2021-12-02T03:24:26.249011Z",
     "shell.execute_reply": "2021-12-02T03:24:26.248045Z",
     "shell.execute_reply.started": "2021-12-02T03:24:26.120513Z"
    }
   },
   "outputs": [
    {
     "name": "stdout",
     "output_type": "stream",
     "text": [
      "the string None could not be converted\n",
      "the string None could not be converted\n",
      "the string None could not be converted\n",
      "the string None could not be converted\n",
      "the string None could not be converted\n",
      "the string None could not be converted\n",
      "the string None could not be converted\n",
      "the string None could not be converted\n",
      "the string None could not be converted\n",
      "the string None could not be converted\n",
      "the string None could not be converted\n",
      "the string None could not be converted\n",
      "the string None could not be converted\n",
      "the string None could not be converted\n",
      "the string None could not be converted\n",
      "the string None could not be converted\n",
      "the string None could not be converted\n",
      "the string None could not be converted\n",
      "the string None could not be converted\n",
      "the string None could not be converted\n",
      "the string None could not be converted\n",
      "the string None could not be converted\n",
      "the string None could not be converted\n",
      "the string None could not be converted\n",
      "the string None could not be converted\n",
      "the string None could not be converted\n",
      "the string None could not be converted\n",
      "the string None could not be converted\n",
      "the string None could not be converted\n",
      "the string None could not be converted\n",
      "the string None could not be converted\n",
      "the string None could not be converted\n",
      "the string None could not be converted\n",
      "the string None could not be converted\n",
      "the string None could not be converted\n",
      "the string None could not be converted\n",
      "the string None could not be converted\n",
      "the string None could not be converted\n",
      "the string None could not be converted\n",
      "the string None could not be converted\n",
      "the string None could not be converted\n",
      "the string None could not be converted\n",
      "the string None could not be converted\n",
      "the string None could not be converted\n",
      "the string None could not be converted\n",
      "the string None could not be converted\n",
      "the string Present could not be converted\n",
      "the string None could not be converted\n",
      "the string None could not be converted\n",
      "the string None could not be converted\n",
      "the string None could not be converted\n",
      "the string None could not be converted\n",
      "the string None could not be converted\n",
      "the string None could not be converted\n",
      "the string None could not be converted\n",
      "the string None could not be converted\n",
      "the string None could not be converted\n",
      "the string None could not be converted\n",
      "the string None could not be converted\n",
      "the string None could not be converted\n",
      "the string None could not be converted\n",
      "the string None could not be converted\n",
      "the string None could not be converted\n",
      "the string None could not be converted\n",
      "the string None could not be converted\n",
      "the string None could not be converted\n",
      "the string None could not be converted\n",
      "the string None could not be converted\n",
      "the string None could not be converted\n",
      "the string None could not be converted\n",
      "the string None could not be converted\n",
      "the string None could not be converted\n",
      "the string None could not be converted\n",
      "the string None could not be converted\n",
      "the string None could not be converted\n",
      "the string Present could not be converted\n",
      "the string None could not be converted\n",
      "the string None could not be converted\n",
      "the string None could not be converted\n",
      "the string None could not be converted\n",
      "the string None could not be converted\n",
      "the string None could not be converted\n",
      "the string None could not be converted\n",
      "the string None could not be converted\n",
      "the string None could not be converted\n",
      "the string None could not be converted\n",
      "the string None could not be converted\n",
      "the string None could not be converted\n",
      "the string Present could not be converted\n",
      "the string None could not be converted\n",
      "the string None could not be converted\n",
      "the string None could not be converted\n",
      "the string None could not be converted\n",
      "the string Present could not be converted\n",
      "the string None could not be converted\n",
      "the string None could not be converted\n",
      "the string Present could not be converted\n",
      "the string None could not be converted\n",
      "the string None could not be converted\n",
      "the string None could not be converted\n",
      "the string None could not be converted\n",
      "the string None could not be converted\n",
      "the string None could not be converted\n",
      "the string None could not be converted\n",
      "the string None could not be converted\n",
      "the string None could not be converted\n",
      "the string None could not be converted\n",
      "the string None could not be converted\n",
      "the string Present could not be converted\n",
      "the string None could not be converted\n",
      "the string None could not be converted\n",
      "the string Present could not be converted\n",
      "the string None could not be converted\n",
      "the string Present could not be converted\n",
      "the string Present could not be converted\n",
      "the string None could not be converted\n",
      "the string None could not be converted\n",
      "the string None could not be converted\n",
      "the string None could not be converted\n",
      "the string None could not be converted\n",
      "the string None could not be converted\n",
      "the string None could not be converted\n",
      "the string None could not be converted\n",
      "the string None could not be converted\n",
      "the string None could not be converted\n",
      "the string None could not be converted\n",
      "the string None could not be converted\n",
      "the string Present could not be converted\n",
      "the string Present could not be converted\n",
      "the string None could not be converted\n",
      "the string None could not be converted\n",
      "the string None could not be converted\n",
      "the string Present could not be converted\n",
      "the string Present could not be converted\n",
      "the string Present could not be converted\n",
      "the string Present could not be converted\n",
      "the string Present could not be converted\n",
      "the string Present could not be converted\n",
      "the string Present could not be converted\n",
      "the string None could not be converted\n",
      "the string Present could not be converted\n",
      "the string Present could not be converted\n",
      "the string None could not be converted\n"
     ]
    },
    {
     "data": {
      "text/plain": [
       "0       2017.0\n",
       "1       2010.0\n",
       "2       2004.0\n",
       "3       1997.0\n",
       "4       1995.0\n",
       "         ...  \n",
       "2063    1911.0\n",
       "2064    1905.0\n",
       "2065    1898.0\n",
       "2066    1895.0\n",
       "2067    1891.0\n",
       "Name: end of term, Length: 2063, dtype: float64"
      ]
     },
     "execution_count": 55,
     "metadata": {},
     "output_type": "execute_result"
    }
   ],
   "source": [
    "former_ag['end of term'].apply(to_num)"
   ]
  },
  {
   "cell_type": "markdown",
   "id": "ca633a63-07f6-404c-a89b-4c9aadbad439",
   "metadata": {},
   "source": [
    "Our function has provided some useful information It appears as though we have three values; Numbers, _None_ and _`'Present'`_ First, we will deal with 'Present' by checking our `sag` DataFrame \n",
    "The following states `end of term` will be adjusted to `2020` since new AG officers began in these states in 2021; _Alsaska, New Jersey, California, Indiana, Montana, New Hampshire, Oklahoma._\n"
   ]
  },
  {
   "cell_type": "code",
   "execution_count": 56,
   "id": "3201541c-e743-4b1d-aaa0-8be541cc2606",
   "metadata": {
    "execution": {
     "iopub.execute_input": "2021-12-02T03:24:37.516645Z",
     "iopub.status.busy": "2021-12-02T03:24:37.516645Z",
     "iopub.status.idle": "2021-12-02T03:24:37.543107Z",
     "shell.execute_reply": "2021-12-02T03:24:37.542109Z",
     "shell.execute_reply.started": "2021-12-02T03:24:37.516645Z"
    }
   },
   "outputs": [
    {
     "data": {
      "text/html": [
       "<div>\n",
       "<style scoped>\n",
       "    .dataframe tbody tr th:only-of-type {\n",
       "        vertical-align: middle;\n",
       "    }\n",
       "\n",
       "    .dataframe tbody tr th {\n",
       "        vertical-align: top;\n",
       "    }\n",
       "\n",
       "    .dataframe thead th {\n",
       "        text-align: right;\n",
       "    }\n",
       "</style>\n",
       "<table border=\"1\" class=\"dataframe\">\n",
       "  <thead>\n",
       "    <tr style=\"text-align: right;\">\n",
       "      <th></th>\n",
       "      <th>State</th>\n",
       "      <th>Name</th>\n",
       "      <th>Term</th>\n",
       "      <th>start of term</th>\n",
       "      <th>end of term</th>\n",
       "    </tr>\n",
       "  </thead>\n",
       "  <tbody>\n",
       "    <tr>\n",
       "      <th>1538</th>\n",
       "      <td>Oklahoma</td>\n",
       "      <td>Mike Hunter</td>\n",
       "      <td>2017 – Present</td>\n",
       "      <td>2017</td>\n",
       "      <td>Present</td>\n",
       "    </tr>\n",
       "    <tr>\n",
       "      <th>1539</th>\n",
       "      <td>Oklahoma</td>\n",
       "      <td>Cara Rodrigues</td>\n",
       "      <td>2017</td>\n",
       "      <td>2017</td>\n",
       "      <td>None</td>\n",
       "    </tr>\n",
       "    <tr>\n",
       "      <th>1540</th>\n",
       "      <td>Oklahoma</td>\n",
       "      <td>Scott Pruitt</td>\n",
       "      <td>2011 – 2017</td>\n",
       "      <td>2011</td>\n",
       "      <td>2017</td>\n",
       "    </tr>\n",
       "    <tr>\n",
       "      <th>1541</th>\n",
       "      <td>Oklahoma</td>\n",
       "      <td>Drew Edmondson</td>\n",
       "      <td>1995 – 2011</td>\n",
       "      <td>1995</td>\n",
       "      <td>2011</td>\n",
       "    </tr>\n",
       "    <tr>\n",
       "      <th>1542</th>\n",
       "      <td>Oklahoma</td>\n",
       "      <td>Susan B. Loving</td>\n",
       "      <td>1991 – 1995</td>\n",
       "      <td>1991</td>\n",
       "      <td>1995</td>\n",
       "    </tr>\n",
       "    <tr>\n",
       "      <th>1543</th>\n",
       "      <td>Oklahoma</td>\n",
       "      <td>Robert H. Henry</td>\n",
       "      <td>1987 – 1991</td>\n",
       "      <td>1987</td>\n",
       "      <td>1991</td>\n",
       "    </tr>\n",
       "    <tr>\n",
       "      <th>1544</th>\n",
       "      <td>Oklahoma</td>\n",
       "      <td>Mike Turpen</td>\n",
       "      <td>1983 – 1987</td>\n",
       "      <td>1983</td>\n",
       "      <td>1987</td>\n",
       "    </tr>\n",
       "    <tr>\n",
       "      <th>1545</th>\n",
       "      <td>Oklahoma</td>\n",
       "      <td>Jan Eric Cartwright</td>\n",
       "      <td>1979 – 1983</td>\n",
       "      <td>1979</td>\n",
       "      <td>1983</td>\n",
       "    </tr>\n",
       "    <tr>\n",
       "      <th>1546</th>\n",
       "      <td>Oklahoma</td>\n",
       "      <td>Larry Derryberry</td>\n",
       "      <td>1971 – 1979</td>\n",
       "      <td>1971</td>\n",
       "      <td>1979</td>\n",
       "    </tr>\n",
       "    <tr>\n",
       "      <th>1547</th>\n",
       "      <td>Oklahoma</td>\n",
       "      <td>G.T. Blankenship</td>\n",
       "      <td>1967 – 1971</td>\n",
       "      <td>1967</td>\n",
       "      <td>1971</td>\n",
       "    </tr>\n",
       "    <tr>\n",
       "      <th>1548</th>\n",
       "      <td>Oklahoma</td>\n",
       "      <td>Charles Nesbitt</td>\n",
       "      <td>1963 – 1967</td>\n",
       "      <td>1963</td>\n",
       "      <td>1967</td>\n",
       "    </tr>\n",
       "    <tr>\n",
       "      <th>1549</th>\n",
       "      <td>Oklahoma</td>\n",
       "      <td>Mac Q. Williamson</td>\n",
       "      <td>1946 – 1963</td>\n",
       "      <td>1946</td>\n",
       "      <td>1963</td>\n",
       "    </tr>\n",
       "    <tr>\n",
       "      <th>1550</th>\n",
       "      <td>Oklahoma</td>\n",
       "      <td>Randell S. Cobb</td>\n",
       "      <td>1943 – 1946</td>\n",
       "      <td>1943</td>\n",
       "      <td>1946</td>\n",
       "    </tr>\n",
       "    <tr>\n",
       "      <th>1551</th>\n",
       "      <td>Oklahoma</td>\n",
       "      <td>J. Berry King</td>\n",
       "      <td>1931 – 1935</td>\n",
       "      <td>1931</td>\n",
       "      <td>1935</td>\n",
       "    </tr>\n",
       "    <tr>\n",
       "      <th>1552</th>\n",
       "      <td>Oklahoma</td>\n",
       "      <td>Ed Dabney</td>\n",
       "      <td>1927 – 1931</td>\n",
       "      <td>1927</td>\n",
       "      <td>1931</td>\n",
       "    </tr>\n",
       "    <tr>\n",
       "      <th>1553</th>\n",
       "      <td>Oklahoma</td>\n",
       "      <td>George Short</td>\n",
       "      <td>1923 – 1927</td>\n",
       "      <td>1923</td>\n",
       "      <td>1927</td>\n",
       "    </tr>\n",
       "    <tr>\n",
       "      <th>1554</th>\n",
       "      <td>Oklahoma</td>\n",
       "      <td>S.P Freeling</td>\n",
       "      <td>1915 – 1923</td>\n",
       "      <td>1915</td>\n",
       "      <td>1923</td>\n",
       "    </tr>\n",
       "    <tr>\n",
       "      <th>1555</th>\n",
       "      <td>Oklahoma</td>\n",
       "      <td>Charles West</td>\n",
       "      <td>1907 – 1915</td>\n",
       "      <td>1907</td>\n",
       "      <td>1915</td>\n",
       "    </tr>\n",
       "  </tbody>\n",
       "</table>\n",
       "</div>"
      ],
      "text/plain": [
       "         State                 Name            Term  start of term end of term\n",
       "1538  Oklahoma          Mike Hunter  2017 – Present           2017     Present\n",
       "1539  Oklahoma       Cara Rodrigues            2017           2017        None\n",
       "1540  Oklahoma         Scott Pruitt     2011 – 2017           2011        2017\n",
       "1541  Oklahoma       Drew Edmondson     1995 – 2011           1995        2011\n",
       "1542  Oklahoma      Susan B. Loving     1991 – 1995           1991        1995\n",
       "1543  Oklahoma      Robert H. Henry     1987 – 1991           1987        1991\n",
       "1544  Oklahoma          Mike Turpen     1983 – 1987           1983        1987\n",
       "1545  Oklahoma  Jan Eric Cartwright     1979 – 1983           1979        1983\n",
       "1546  Oklahoma     Larry Derryberry     1971 – 1979           1971        1979\n",
       "1547  Oklahoma     G.T. Blankenship     1967 – 1971           1967        1971\n",
       "1548  Oklahoma      Charles Nesbitt     1963 – 1967           1963        1967\n",
       "1549  Oklahoma    Mac Q. Williamson     1946 – 1963           1946        1963\n",
       "1550  Oklahoma      Randell S. Cobb     1943 – 1946           1943        1946\n",
       "1551  Oklahoma        J. Berry King     1931 – 1935           1931        1935\n",
       "1552  Oklahoma            Ed Dabney     1927 – 1931           1927        1931\n",
       "1553  Oklahoma         George Short     1923 – 1927           1923        1927\n",
       "1554  Oklahoma         S.P Freeling     1915 – 1923           1915        1923\n",
       "1555  Oklahoma         Charles West     1907 – 1915           1907        1915"
      ]
     },
     "execution_count": 56,
     "metadata": {},
     "output_type": "execute_result"
    }
   ],
   "source": [
    "former_ag[former_ag['State'] == 'Oklahoma']"
   ]
  },
  {
   "cell_type": "code",
   "execution_count": 57,
   "id": "ad6d2df0-94f5-43b4-aa41-04c9c8bbf19d",
   "metadata": {
    "execution": {
     "iopub.execute_input": "2021-12-02T03:24:39.094002Z",
     "iopub.status.busy": "2021-12-02T03:24:39.094002Z",
     "iopub.status.idle": "2021-12-02T03:24:39.117003Z",
     "shell.execute_reply": "2021-12-02T03:24:39.116004Z",
     "shell.execute_reply.started": "2021-12-02T03:24:39.094002Z"
    }
   },
   "outputs": [],
   "source": [
    "cal = {'State': 'California', 'Name' : 'Xavier Becerra', 'Term': '2017 - 2020', 'start of term' : '2017', 'end of term': '2020'}\n",
    "former_ag = former_ag.append(cal, ignore_index = True)"
   ]
  },
  {
   "cell_type": "code",
   "execution_count": 58,
   "id": "88fc7cf4-7328-48dd-b895-d47010306c0a",
   "metadata": {
    "execution": {
     "iopub.execute_input": "2021-12-02T03:24:39.600941Z",
     "iopub.status.busy": "2021-12-02T03:24:39.599939Z",
     "iopub.status.idle": "2021-12-02T03:24:39.629941Z",
     "shell.execute_reply": "2021-12-02T03:24:39.628972Z",
     "shell.execute_reply.started": "2021-12-02T03:24:39.600941Z"
    }
   },
   "outputs": [],
   "source": [
    "former_ag[former_ag['State'] == 'Oklahoma'] = former_ag[former_ag['State'] == 'Oklahoma'].replace({'Present': '2020', None : '2017'})"
   ]
  },
  {
   "cell_type": "code",
   "execution_count": 59,
   "id": "3cc085f8-a4ee-4e03-be71-3576ada152d2",
   "metadata": {
    "execution": {
     "iopub.execute_input": "2021-12-02T03:24:40.310967Z",
     "iopub.status.busy": "2021-12-02T03:24:40.309964Z",
     "iopub.status.idle": "2021-12-02T03:24:40.332964Z",
     "shell.execute_reply": "2021-12-02T03:24:40.331966Z",
     "shell.execute_reply.started": "2021-12-02T03:24:40.310967Z"
    }
   },
   "outputs": [
    {
     "data": {
      "text/html": [
       "<div>\n",
       "<style scoped>\n",
       "    .dataframe tbody tr th:only-of-type {\n",
       "        vertical-align: middle;\n",
       "    }\n",
       "\n",
       "    .dataframe tbody tr th {\n",
       "        vertical-align: top;\n",
       "    }\n",
       "\n",
       "    .dataframe thead th {\n",
       "        text-align: right;\n",
       "    }\n",
       "</style>\n",
       "<table border=\"1\" class=\"dataframe\">\n",
       "  <thead>\n",
       "    <tr style=\"text-align: right;\">\n",
       "      <th></th>\n",
       "      <th>State</th>\n",
       "      <th>Name</th>\n",
       "      <th>Term</th>\n",
       "      <th>start of term</th>\n",
       "      <th>end of term</th>\n",
       "    </tr>\n",
       "  </thead>\n",
       "  <tbody>\n",
       "    <tr>\n",
       "      <th>524</th>\n",
       "      <td>Idaho</td>\n",
       "      <td>Lawrence Wasden</td>\n",
       "      <td>2003 – Present</td>\n",
       "      <td>2003</td>\n",
       "      <td>Present</td>\n",
       "    </tr>\n",
       "    <tr>\n",
       "      <th>964</th>\n",
       "      <td>Michigan</td>\n",
       "      <td>Dana Nessel</td>\n",
       "      <td>2019 – Present</td>\n",
       "      <td>2019</td>\n",
       "      <td>Present</td>\n",
       "    </tr>\n",
       "    <tr>\n",
       "      <th>1248</th>\n",
       "      <td>New Jersey</td>\n",
       "      <td>Gurbir S. Grewal</td>\n",
       "      <td>2018 – Present</td>\n",
       "      <td>2018</td>\n",
       "      <td>Present</td>\n",
       "    </tr>\n",
       "    <tr>\n",
       "      <th>1311</th>\n",
       "      <td>New Mexico</td>\n",
       "      <td>Hector Balderas</td>\n",
       "      <td>2015 – Present</td>\n",
       "      <td>2015</td>\n",
       "      <td>Present</td>\n",
       "    </tr>\n",
       "    <tr>\n",
       "      <th>1342</th>\n",
       "      <td>New York</td>\n",
       "      <td>Letitia James</td>\n",
       "      <td>2019 – Present</td>\n",
       "      <td>2019</td>\n",
       "      <td>Present</td>\n",
       "    </tr>\n",
       "    <tr>\n",
       "      <th>1484</th>\n",
       "      <td>Ohio</td>\n",
       "      <td>Dave Yost</td>\n",
       "      <td>2019 – Present</td>\n",
       "      <td>2019</td>\n",
       "      <td>Present</td>\n",
       "    </tr>\n",
       "    <tr>\n",
       "      <th>1553</th>\n",
       "      <td>Oregon</td>\n",
       "      <td>Ellen Rosenblum</td>\n",
       "      <td>2012 – Present</td>\n",
       "      <td>2012</td>\n",
       "      <td>Present</td>\n",
       "    </tr>\n",
       "    <tr>\n",
       "      <th>1570</th>\n",
       "      <td>Pennsylvania</td>\n",
       "      <td>Josh Shapiro</td>\n",
       "      <td>2017 – Present</td>\n",
       "      <td>2017</td>\n",
       "      <td>Present</td>\n",
       "    </tr>\n",
       "    <tr>\n",
       "      <th>1659</th>\n",
       "      <td>Rhode Island</td>\n",
       "      <td>Peter F. Neronha</td>\n",
       "      <td>2019 – Present</td>\n",
       "      <td>2019</td>\n",
       "      <td>Present</td>\n",
       "    </tr>\n",
       "    <tr>\n",
       "      <th>1747</th>\n",
       "      <td>South Carolina</td>\n",
       "      <td>Alan Wilson</td>\n",
       "      <td>2011 – Present</td>\n",
       "      <td>2011</td>\n",
       "      <td>Present</td>\n",
       "    </tr>\n",
       "    <tr>\n",
       "      <th>1793</th>\n",
       "      <td>South Dakota</td>\n",
       "      <td>Jason Ravnborg</td>\n",
       "      <td>2019 – Present</td>\n",
       "      <td>2019</td>\n",
       "      <td>Present</td>\n",
       "    </tr>\n",
       "    <tr>\n",
       "      <th>1824</th>\n",
       "      <td>Tennessee</td>\n",
       "      <td>Herbert H. Slatery, III</td>\n",
       "      <td>2014 – Present</td>\n",
       "      <td>2014</td>\n",
       "      <td>Present</td>\n",
       "    </tr>\n",
       "    <tr>\n",
       "      <th>1841</th>\n",
       "      <td>Texas</td>\n",
       "      <td>Ken Paxton</td>\n",
       "      <td>2015 – Present</td>\n",
       "      <td>2015</td>\n",
       "      <td>Present</td>\n",
       "    </tr>\n",
       "    <tr>\n",
       "      <th>1880</th>\n",
       "      <td>Vermont</td>\n",
       "      <td>TJ Donovan</td>\n",
       "      <td>2016 – Present</td>\n",
       "      <td>2016</td>\n",
       "      <td>Present</td>\n",
       "    </tr>\n",
       "    <tr>\n",
       "      <th>1901</th>\n",
       "      <td>Virginia</td>\n",
       "      <td>Mark Herring</td>\n",
       "      <td>2014 – Present</td>\n",
       "      <td>2014</td>\n",
       "      <td>Present</td>\n",
       "    </tr>\n",
       "    <tr>\n",
       "      <th>1948</th>\n",
       "      <td>Washington</td>\n",
       "      <td>Bob Ferguson</td>\n",
       "      <td>2013 – Present</td>\n",
       "      <td>2013</td>\n",
       "      <td>Present</td>\n",
       "    </tr>\n",
       "    <tr>\n",
       "      <th>1966</th>\n",
       "      <td>West Virginia</td>\n",
       "      <td>Patrick Morrisey</td>\n",
       "      <td>2012 – Present</td>\n",
       "      <td>2012</td>\n",
       "      <td>Present</td>\n",
       "    </tr>\n",
       "    <tr>\n",
       "      <th>1986</th>\n",
       "      <td>Wisconsin</td>\n",
       "      <td>Josh Kaul</td>\n",
       "      <td>2019 – Present</td>\n",
       "      <td>2019</td>\n",
       "      <td>Present</td>\n",
       "    </tr>\n",
       "    <tr>\n",
       "      <th>2028</th>\n",
       "      <td>Wyoming</td>\n",
       "      <td>Bridget Hill</td>\n",
       "      <td>2019 – Present</td>\n",
       "      <td>2019</td>\n",
       "      <td>Present</td>\n",
       "    </tr>\n",
       "  </tbody>\n",
       "</table>\n",
       "</div>"
      ],
      "text/plain": [
       "               State                     Name            Term start of term  \\\n",
       "524            Idaho          Lawrence Wasden  2003 – Present          2003   \n",
       "964         Michigan              Dana Nessel  2019 – Present          2019   \n",
       "1248      New Jersey         Gurbir S. Grewal  2018 – Present          2018   \n",
       "1311      New Mexico          Hector Balderas  2015 – Present          2015   \n",
       "1342        New York            Letitia James  2019 – Present          2019   \n",
       "1484            Ohio                Dave Yost  2019 – Present          2019   \n",
       "1553          Oregon          Ellen Rosenblum  2012 – Present          2012   \n",
       "1570    Pennsylvania             Josh Shapiro  2017 – Present          2017   \n",
       "1659    Rhode Island         Peter F. Neronha  2019 – Present          2019   \n",
       "1747  South Carolina              Alan Wilson  2011 – Present          2011   \n",
       "1793    South Dakota           Jason Ravnborg  2019 – Present          2019   \n",
       "1824       Tennessee  Herbert H. Slatery, III  2014 – Present          2014   \n",
       "1841           Texas               Ken Paxton  2015 – Present          2015   \n",
       "1880         Vermont               TJ Donovan  2016 – Present          2016   \n",
       "1901        Virginia             Mark Herring  2014 – Present          2014   \n",
       "1948      Washington             Bob Ferguson  2013 – Present          2013   \n",
       "1966   West Virginia         Patrick Morrisey  2012 – Present          2012   \n",
       "1986       Wisconsin                Josh Kaul  2019 – Present          2019   \n",
       "2028         Wyoming             Bridget Hill  2019 – Present          2019   \n",
       "\n",
       "     end of term  \n",
       "524      Present  \n",
       "964      Present  \n",
       "1248     Present  \n",
       "1311     Present  \n",
       "1342     Present  \n",
       "1484     Present  \n",
       "1553     Present  \n",
       "1570     Present  \n",
       "1659     Present  \n",
       "1747     Present  \n",
       "1793     Present  \n",
       "1824     Present  \n",
       "1841     Present  \n",
       "1880     Present  \n",
       "1901     Present  \n",
       "1948     Present  \n",
       "1966     Present  \n",
       "1986     Present  \n",
       "2028     Present  "
      ]
     },
     "execution_count": 59,
     "metadata": {},
     "output_type": "execute_result"
    }
   ],
   "source": [
    "former_ag[former_ag['end of term'] == 'Present'] "
   ]
  },
  {
   "cell_type": "code",
   "execution_count": 60,
   "id": "10f795d3-26fe-4dc5-8886-731f42a48e16",
   "metadata": {
    "execution": {
     "iopub.execute_input": "2021-12-02T03:24:42.877619Z",
     "iopub.status.busy": "2021-12-02T03:24:42.877619Z",
     "iopub.status.idle": "2021-12-02T03:24:42.899619Z",
     "shell.execute_reply": "2021-12-02T03:24:42.898618Z",
     "shell.execute_reply.started": "2021-12-02T03:24:42.877619Z"
    }
   },
   "outputs": [],
   "source": [
    "former_ag[former_ag['end of term'] == 'Present']  = former_ag[former_ag['end of term'] == 'Present'].replace({'Present': '2020'})"
   ]
  },
  {
   "cell_type": "markdown",
   "id": "702f1480-3d53-4fc7-bb5b-dd958309d6e0",
   "metadata": {},
   "source": [
    "We will use the drop duplicates process in a moment to handle anyone who is duplicated across the frames. "
   ]
  },
  {
   "cell_type": "code",
   "execution_count": 61,
   "id": "684b15e7-3d1e-4952-92dc-e2c05be6fe91",
   "metadata": {
    "execution": {
     "iopub.execute_input": "2021-12-02T03:24:45.102007Z",
     "iopub.status.busy": "2021-12-02T03:24:45.100939Z",
     "iopub.status.idle": "2021-12-02T03:24:45.139431Z",
     "shell.execute_reply": "2021-12-02T03:24:45.138460Z",
     "shell.execute_reply.started": "2021-12-02T03:24:45.102007Z"
    }
   },
   "outputs": [
    {
     "name": "stdout",
     "output_type": "stream",
     "text": [
      "the string None could not be converted\n",
      "the string None could not be converted\n",
      "the string None could not be converted\n",
      "the string None could not be converted\n",
      "the string None could not be converted\n",
      "the string None could not be converted\n",
      "the string None could not be converted\n",
      "the string None could not be converted\n",
      "the string None could not be converted\n",
      "the string None could not be converted\n",
      "the string None could not be converted\n",
      "the string None could not be converted\n",
      "the string None could not be converted\n",
      "the string None could not be converted\n",
      "the string None could not be converted\n",
      "the string None could not be converted\n",
      "the string None could not be converted\n",
      "the string None could not be converted\n",
      "the string None could not be converted\n",
      "the string None could not be converted\n",
      "the string None could not be converted\n",
      "the string None could not be converted\n",
      "the string None could not be converted\n",
      "the string None could not be converted\n",
      "the string None could not be converted\n",
      "the string None could not be converted\n",
      "the string None could not be converted\n",
      "the string None could not be converted\n",
      "the string None could not be converted\n",
      "the string None could not be converted\n",
      "the string None could not be converted\n",
      "the string None could not be converted\n",
      "the string None could not be converted\n",
      "the string None could not be converted\n",
      "the string None could not be converted\n",
      "the string None could not be converted\n",
      "the string None could not be converted\n",
      "the string None could not be converted\n",
      "the string None could not be converted\n",
      "the string None could not be converted\n",
      "the string None could not be converted\n",
      "the string None could not be converted\n",
      "the string None could not be converted\n",
      "the string None could not be converted\n",
      "the string None could not be converted\n",
      "the string None could not be converted\n",
      "the string None could not be converted\n",
      "the string None could not be converted\n",
      "the string None could not be converted\n",
      "the string None could not be converted\n",
      "the string None could not be converted\n",
      "the string None could not be converted\n",
      "the string None could not be converted\n",
      "the string None could not be converted\n",
      "the string None could not be converted\n",
      "the string None could not be converted\n",
      "the string None could not be converted\n",
      "the string None could not be converted\n",
      "the string None could not be converted\n",
      "the string None could not be converted\n",
      "the string None could not be converted\n",
      "the string None could not be converted\n",
      "the string None could not be converted\n",
      "the string None could not be converted\n",
      "the string None could not be converted\n",
      "the string None could not be converted\n",
      "the string None could not be converted\n",
      "the string None could not be converted\n",
      "the string None could not be converted\n",
      "the string None could not be converted\n",
      "the string None could not be converted\n",
      "the string None could not be converted\n",
      "the string None could not be converted\n",
      "the string None could not be converted\n",
      "the string None could not be converted\n",
      "the string None could not be converted\n",
      "the string None could not be converted\n",
      "the string None could not be converted\n",
      "the string None could not be converted\n",
      "the string None could not be converted\n",
      "the string None could not be converted\n",
      "the string None could not be converted\n",
      "the string None could not be converted\n",
      "the string None could not be converted\n",
      "the string None could not be converted\n",
      "the string None could not be converted\n",
      "the string None could not be converted\n",
      "the string None could not be converted\n",
      "the string None could not be converted\n",
      "the string None could not be converted\n",
      "the string None could not be converted\n",
      "the string None could not be converted\n",
      "the string None could not be converted\n",
      "the string None could not be converted\n",
      "the string None could not be converted\n",
      "the string None could not be converted\n",
      "the string None could not be converted\n",
      "the string None could not be converted\n",
      "the string None could not be converted\n",
      "the string None could not be converted\n",
      "the string None could not be converted\n",
      "the string None could not be converted\n",
      "the string None could not be converted\n",
      "the string None could not be converted\n",
      "the string None could not be converted\n",
      "the string None could not be converted\n",
      "the string None could not be converted\n",
      "the string None could not be converted\n",
      "the string None could not be converted\n",
      "the string None could not be converted\n",
      "the string None could not be converted\n",
      "the string None could not be converted\n",
      "the string None could not be converted\n",
      "the string None could not be converted\n",
      "the string None could not be converted\n",
      "the string None could not be converted\n",
      "the string None could not be converted\n",
      "the string None could not be converted\n",
      "the string None could not be converted\n",
      "the string None could not be converted\n",
      "the string None could not be converted\n",
      "the string None could not be converted\n"
     ]
    },
    {
     "data": {
      "text/plain": [
       "0       2017.0\n",
       "1       2010.0\n",
       "2       2004.0\n",
       "3       1997.0\n",
       "4       1995.0\n",
       "         ...  \n",
       "2059    1905.0\n",
       "2060    1898.0\n",
       "2061    1895.0\n",
       "2062    1891.0\n",
       "2063    2020.0\n",
       "Name: end of term, Length: 2064, dtype: float64"
      ]
     },
     "execution_count": 61,
     "metadata": {},
     "output_type": "execute_result"
    }
   ],
   "source": [
    "former_ag['end of term'].apply(to_num)"
   ]
  },
  {
   "cell_type": "code",
   "execution_count": 62,
   "id": "623dfece-6288-4165-9f9f-e04a016f2ce7",
   "metadata": {
    "execution": {
     "iopub.execute_input": "2021-12-02T03:24:49.411475Z",
     "iopub.status.busy": "2021-12-02T03:24:49.411475Z",
     "iopub.status.idle": "2021-12-02T03:24:49.421477Z",
     "shell.execute_reply": "2021-12-02T03:24:49.420472Z",
     "shell.execute_reply.started": "2021-12-02T03:24:49.411475Z"
    }
   },
   "outputs": [],
   "source": [
    "former_ag = former_ag.dropna()"
   ]
  },
  {
   "cell_type": "code",
   "execution_count": 63,
   "id": "3a446e14-8c6a-4b6d-89ec-ed801632b3cc",
   "metadata": {
    "execution": {
     "iopub.execute_input": "2021-12-02T03:24:52.269694Z",
     "iopub.status.busy": "2021-12-02T03:24:52.269694Z",
     "iopub.status.idle": "2021-12-02T03:24:52.280691Z",
     "shell.execute_reply": "2021-12-02T03:24:52.279690Z",
     "shell.execute_reply.started": "2021-12-02T03:24:52.269694Z"
    }
   },
   "outputs": [
    {
     "name": "stdout",
     "output_type": "stream",
     "text": [
      "<class 'pandas.core.frame.DataFrame'>\n",
      "Int64Index: 1942 entries, 0 to 2063\n",
      "Data columns (total 5 columns):\n",
      " #   Column         Non-Null Count  Dtype \n",
      "---  ------         --------------  ----- \n",
      " 0   State          1942 non-null   object\n",
      " 1   Name           1942 non-null   object\n",
      " 2   Term           1942 non-null   object\n",
      " 3   start of term  1942 non-null   object\n",
      " 4   end of term    1942 non-null   object\n",
      "dtypes: object(5)\n",
      "memory usage: 91.0+ KB\n"
     ]
    }
   ],
   "source": [
    "former_ag.info()"
   ]
  },
  {
   "cell_type": "code",
   "execution_count": 64,
   "id": "91113592-1051-450a-a4ad-439a416b6faa",
   "metadata": {
    "execution": {
     "iopub.execute_input": "2021-12-02T03:24:55.970478Z",
     "iopub.status.busy": "2021-12-02T03:24:55.970478Z",
     "iopub.status.idle": "2021-12-02T03:24:55.990499Z",
     "shell.execute_reply": "2021-12-02T03:24:55.989498Z",
     "shell.execute_reply.started": "2021-12-02T03:24:55.970478Z"
    }
   },
   "outputs": [],
   "source": [
    "former_ag['start of term'] = former_ag['start of term'].apply(to_num)\n",
    "former_ag['end of term'] = former_ag['end of term'].apply(to_num)"
   ]
  },
  {
   "cell_type": "code",
   "execution_count": 65,
   "id": "0819b589-7b3c-4fd8-87f0-3a709f5411ed",
   "metadata": {
    "execution": {
     "iopub.execute_input": "2021-12-02T03:25:31.331107Z",
     "iopub.status.busy": "2021-12-02T03:25:31.330107Z",
     "iopub.status.idle": "2021-12-02T03:25:31.344109Z",
     "shell.execute_reply": "2021-12-02T03:25:31.343107Z",
     "shell.execute_reply.started": "2021-12-02T03:25:31.331107Z"
    }
   },
   "outputs": [
    {
     "data": {
      "text/html": [
       "<div>\n",
       "<style scoped>\n",
       "    .dataframe tbody tr th:only-of-type {\n",
       "        vertical-align: middle;\n",
       "    }\n",
       "\n",
       "    .dataframe tbody tr th {\n",
       "        vertical-align: top;\n",
       "    }\n",
       "\n",
       "    .dataframe thead th {\n",
       "        text-align: right;\n",
       "    }\n",
       "</style>\n",
       "<table border=\"1\" class=\"dataframe\">\n",
       "  <thead>\n",
       "    <tr style=\"text-align: right;\">\n",
       "      <th></th>\n",
       "      <th>State</th>\n",
       "      <th>Name</th>\n",
       "      <th>Term</th>\n",
       "      <th>start of term</th>\n",
       "      <th>end of term</th>\n",
       "    </tr>\n",
       "  </thead>\n",
       "  <tbody>\n",
       "    <tr>\n",
       "      <th>0</th>\n",
       "      <td>Alabama</td>\n",
       "      <td>Luther Strange</td>\n",
       "      <td>2010 – 2017</td>\n",
       "      <td>2010</td>\n",
       "      <td>2017</td>\n",
       "    </tr>\n",
       "    <tr>\n",
       "      <th>1</th>\n",
       "      <td>Alabama</td>\n",
       "      <td>Troy King</td>\n",
       "      <td>2004 – 2010</td>\n",
       "      <td>2004</td>\n",
       "      <td>2010</td>\n",
       "    </tr>\n",
       "    <tr>\n",
       "      <th>2</th>\n",
       "      <td>Alabama</td>\n",
       "      <td>Bill Pryor</td>\n",
       "      <td>1997 – 2004</td>\n",
       "      <td>1997</td>\n",
       "      <td>2004</td>\n",
       "    </tr>\n",
       "    <tr>\n",
       "      <th>3</th>\n",
       "      <td>Alabama</td>\n",
       "      <td>Jeff Sessions</td>\n",
       "      <td>1995 – 1997</td>\n",
       "      <td>1995</td>\n",
       "      <td>1997</td>\n",
       "    </tr>\n",
       "    <tr>\n",
       "      <th>4</th>\n",
       "      <td>Alabama</td>\n",
       "      <td>Jimmy Evans</td>\n",
       "      <td>1991 – 1995</td>\n",
       "      <td>1991</td>\n",
       "      <td>1995</td>\n",
       "    </tr>\n",
       "  </tbody>\n",
       "</table>\n",
       "</div>"
      ],
      "text/plain": [
       "     State            Name         Term  start of term  end of term\n",
       "0  Alabama  Luther Strange  2010 – 2017           2010         2017\n",
       "1  Alabama       Troy King  2004 – 2010           2004         2010\n",
       "2  Alabama      Bill Pryor  1997 – 2004           1997         2004\n",
       "3  Alabama   Jeff Sessions  1995 – 1997           1995         1997\n",
       "4  Alabama     Jimmy Evans  1991 – 1995           1991         1995"
      ]
     },
     "execution_count": 65,
     "metadata": {},
     "output_type": "execute_result"
    }
   ],
   "source": [
    "former_ag.head()"
   ]
  },
  {
   "cell_type": "code",
   "execution_count": 66,
   "id": "56b0a500-2cbb-4c97-8704-620353a65a9a",
   "metadata": {
    "execution": {
     "iopub.execute_input": "2021-12-02T03:25:33.824504Z",
     "iopub.status.busy": "2021-12-02T03:25:33.824504Z",
     "iopub.status.idle": "2021-12-02T03:25:33.848500Z",
     "shell.execute_reply": "2021-12-02T03:25:33.847497Z",
     "shell.execute_reply.started": "2021-12-02T03:25:33.824504Z"
    }
   },
   "outputs": [
    {
     "name": "stdout",
     "output_type": "stream",
     "text": [
      "<class 'pandas.core.frame.DataFrame'>\n",
      "Int64Index: 1942 entries, 0 to 2063\n",
      "Data columns (total 5 columns):\n",
      " #   Column         Non-Null Count  Dtype \n",
      "---  ------         --------------  ----- \n",
      " 0   State          1942 non-null   object\n",
      " 1   Name           1942 non-null   object\n",
      " 2   Term           1942 non-null   object\n",
      " 3   start of term  1942 non-null   int64 \n",
      " 4   end of term    1942 non-null   int64 \n",
      "dtypes: int64(2), object(3)\n",
      "memory usage: 91.0+ KB\n"
     ]
    }
   ],
   "source": [
    "#Check to ensure that the string for year has converted to int. \n",
    "former_ag.info()"
   ]
  },
  {
   "cell_type": "code",
   "execution_count": 67,
   "id": "2f90a240-cca1-4381-b640-8d50d6f1493a",
   "metadata": {
    "execution": {
     "iopub.execute_input": "2021-12-02T03:27:01.937220Z",
     "iopub.status.busy": "2021-12-02T03:27:01.936216Z",
     "iopub.status.idle": "2021-12-02T03:27:01.950218Z",
     "shell.execute_reply": "2021-12-02T03:27:01.949250Z",
     "shell.execute_reply.started": "2021-12-02T03:27:01.937220Z"
    }
   },
   "outputs": [],
   "source": [
    "#setup wiki utility to call for each row. \n",
    "def get_party(name):\n",
    "    '''\n",
    "    Accepts a dataframe row as argument. Intended to be called in a .apply() manner to search over wikipedia data to obtain values for df['party'] column.\n",
    "    '''\n",
    "    \n",
    "    #search wikipedia for named person\n",
    "\n",
    "    #ag = wk.page(f'{name} attorney general', redirect = True)\n",
    "\n",
    "    try:\n",
    "        ag = wk.page(f'{name} attorney general', redirect = True)\n",
    "        for cat in ag.categories:\n",
    "            if f'Republicans' in cat:\n",
    "                party = 'Republican'\n",
    "                return party\n",
    "            elif 'Democrats' in cat:\n",
    "                party = 'Democrat'\n",
    "                return party\n",
    "    except:\n",
    "        party = np.nan\n",
    "        return party\n"
   ]
  },
  {
   "cell_type": "code",
   "execution_count": 73,
   "id": "2e58bb68-2fd1-40f3-ab9c-7d49786ef76c",
   "metadata": {
    "execution": {
     "iopub.execute_input": "2021-12-02T03:34:07.891220Z",
     "iopub.status.busy": "2021-12-02T03:34:07.891220Z",
     "iopub.status.idle": "2021-12-02T03:34:07.901220Z",
     "shell.execute_reply": "2021-12-02T03:34:07.900219Z",
     "shell.execute_reply.started": "2021-12-02T03:34:07.891220Z"
    }
   },
   "outputs": [],
   "source": [
    "ag_since_1960 = former_ag[former_ag['start of term']>1960].copy()"
   ]
  },
  {
   "cell_type": "code",
   "execution_count": 74,
   "id": "4759e122-dceb-4ca1-bc98-595eb4a4dbb1",
   "metadata": {
    "execution": {
     "iopub.execute_input": "2021-12-02T03:34:08.483623Z",
     "iopub.status.busy": "2021-12-02T03:34:08.483623Z",
     "iopub.status.idle": "2021-12-02T03:34:08.507613Z",
     "shell.execute_reply": "2021-12-02T03:34:08.506608Z",
     "shell.execute_reply.started": "2021-12-02T03:34:08.483623Z"
    }
   },
   "outputs": [
    {
     "name": "stdout",
     "output_type": "stream",
     "text": [
      "<class 'pandas.core.frame.DataFrame'>\n",
      "Int64Index: 496 entries, 0 to 2063\n",
      "Data columns (total 5 columns):\n",
      " #   Column         Non-Null Count  Dtype \n",
      "---  ------         --------------  ----- \n",
      " 0   State          496 non-null    object\n",
      " 1   Name           496 non-null    object\n",
      " 2   Term           496 non-null    object\n",
      " 3   start of term  496 non-null    int64 \n",
      " 4   end of term    496 non-null    int64 \n",
      "dtypes: int64(2), object(3)\n",
      "memory usage: 23.2+ KB\n"
     ]
    }
   ],
   "source": [
    "ag_since_1960.info()"
   ]
  },
  {
   "cell_type": "code",
   "execution_count": 75,
   "id": "98f8bca3-68c4-4f79-bfb1-b75ab735d6cc",
   "metadata": {
    "execution": {
     "iopub.execute_input": "2021-12-02T03:34:13.794193Z",
     "iopub.status.busy": "2021-12-02T03:34:13.794193Z",
     "iopub.status.idle": "2021-12-02T03:34:13.814201Z",
     "shell.execute_reply": "2021-12-02T03:34:13.813424Z",
     "shell.execute_reply.started": "2021-12-02T03:34:13.794193Z"
    }
   },
   "outputs": [],
   "source": [
    "ag_since_1960['party'] = np.nan"
   ]
  },
  {
   "cell_type": "code",
   "execution_count": 76,
   "id": "5b6d3aff-3e4f-401e-82d3-45c723d35c78",
   "metadata": {
    "execution": {
     "iopub.execute_input": "2021-12-02T03:34:14.303668Z",
     "iopub.status.busy": "2021-12-02T03:34:14.302669Z",
     "iopub.status.idle": "2021-12-02T03:34:14.327669Z",
     "shell.execute_reply": "2021-12-02T03:34:14.326675Z",
     "shell.execute_reply.started": "2021-12-02T03:34:14.303668Z"
    }
   },
   "outputs": [
    {
     "name": "stdout",
     "output_type": "stream",
     "text": [
      "<class 'pandas.core.frame.DataFrame'>\n",
      "Int64Index: 496 entries, 0 to 2063\n",
      "Data columns (total 6 columns):\n",
      " #   Column         Non-Null Count  Dtype  \n",
      "---  ------         --------------  -----  \n",
      " 0   State          496 non-null    object \n",
      " 1   Name           496 non-null    object \n",
      " 2   Term           496 non-null    object \n",
      " 3   start of term  496 non-null    int64  \n",
      " 4   end of term    496 non-null    int64  \n",
      " 5   party          0 non-null      float64\n",
      "dtypes: float64(1), int64(2), object(3)\n",
      "memory usage: 27.1+ KB\n"
     ]
    }
   ],
   "source": [
    "ag_since_1960.info()"
   ]
  },
  {
   "cell_type": "code",
   "execution_count": 77,
   "id": "af27bcdb-21ea-4c3f-a077-af788773a071",
   "metadata": {
    "execution": {
     "iopub.execute_input": "2021-12-02T03:34:22.209864Z",
     "iopub.status.busy": "2021-12-02T03:34:22.209864Z",
     "iopub.status.idle": "2021-12-02T03:43:14.988880Z",
     "shell.execute_reply": "2021-12-02T03:43:14.987822Z",
     "shell.execute_reply.started": "2021-12-02T03:34:22.209864Z"
    }
   },
   "outputs": [
    {
     "name": "stderr",
     "output_type": "stream",
     "text": [
      "C:\\Users\\yumst\\anaconda3\\lib\\site-packages\\wikipedia\\wikipedia.py:389: GuessedAtParserWarning: No parser was explicitly specified, so I'm using the best available HTML parser for this system (\"lxml\"). This usually isn't a problem, but if you run this code on another system, or in a different virtual environment, it may use a different parser and behave differently.\n",
      "\n",
      "The code that caused this warning is on line 389 of the file C:\\Users\\yumst\\anaconda3\\lib\\site-packages\\wikipedia\\wikipedia.py. To get rid of this warning, pass the additional argument 'features=\"lxml\"' to the BeautifulSoup constructor.\n",
      "\n",
      "  lis = BeautifulSoup(html).find_all('li')\n"
     ]
    }
   ],
   "source": [
    "ag_since_1960['party'] = ag_since_1960['Name'].apply(get_party)"
   ]
  },
  {
   "cell_type": "code",
   "execution_count": 78,
   "id": "56c3909a-9189-4631-a0ab-7517c8684af1",
   "metadata": {
    "execution": {
     "iopub.execute_input": "2021-12-02T03:43:14.989832Z",
     "iopub.status.busy": "2021-12-02T03:43:14.989832Z",
     "iopub.status.idle": "2021-12-02T03:43:15.004834Z",
     "shell.execute_reply": "2021-12-02T03:43:15.003829Z",
     "shell.execute_reply.started": "2021-12-02T03:43:14.989832Z"
    }
   },
   "outputs": [
    {
     "name": "stdout",
     "output_type": "stream",
     "text": [
      "<class 'pandas.core.frame.DataFrame'>\n",
      "Int64Index: 496 entries, 0 to 2063\n",
      "Data columns (total 6 columns):\n",
      " #   Column         Non-Null Count  Dtype \n",
      "---  ------         --------------  ----- \n",
      " 0   State          496 non-null    object\n",
      " 1   Name           496 non-null    object\n",
      " 2   Term           496 non-null    object\n",
      " 3   start of term  496 non-null    int64 \n",
      " 4   end of term    496 non-null    int64 \n",
      " 5   party          294 non-null    object\n",
      "dtypes: int64(2), object(4)\n",
      "memory usage: 27.1+ KB\n"
     ]
    }
   ],
   "source": [
    "ag_since_1960.info()"
   ]
  },
  {
   "cell_type": "code",
   "execution_count": 79,
   "id": "08c1abfd-5eb9-438e-8d01-1bd3b0584d4f",
   "metadata": {
    "execution": {
     "iopub.execute_input": "2021-12-02T03:43:15.005833Z",
     "iopub.status.busy": "2021-12-02T03:43:15.005833Z",
     "iopub.status.idle": "2021-12-02T03:43:15.020832Z",
     "shell.execute_reply": "2021-12-02T03:43:15.019865Z",
     "shell.execute_reply.started": "2021-12-02T03:43:15.005833Z"
    }
   },
   "outputs": [
    {
     "data": {
      "text/plain": [
       "0.6004016064257028"
      ]
     },
     "execution_count": 79,
     "metadata": {},
     "output_type": "execute_result"
    }
   ],
   "source": [
    "299/498\n"
   ]
  },
  {
   "cell_type": "code",
   "execution_count": 80,
   "id": "09f4f1ed-ea20-445b-9404-e457b3c17aee",
   "metadata": {
    "execution": {
     "iopub.execute_input": "2021-12-02T03:43:20.909845Z",
     "iopub.status.busy": "2021-12-02T03:43:20.909845Z",
     "iopub.status.idle": "2021-12-02T03:43:20.922848Z",
     "shell.execute_reply": "2021-12-02T03:43:20.921845Z",
     "shell.execute_reply.started": "2021-12-02T03:43:20.909845Z"
    }
   },
   "outputs": [
    {
     "data": {
      "text/plain": [
       "Democrat      161\n",
       "Republican    133\n",
       "Name: party, dtype: int64"
      ]
     },
     "execution_count": 80,
     "metadata": {},
     "output_type": "execute_result"
    }
   ],
   "source": [
    "ag_since_1960['party'].value_counts()"
   ]
  },
  {
   "cell_type": "code",
   "execution_count": 81,
   "id": "f81415c4-d211-4609-8b7d-131ca80166ec",
   "metadata": {
    "execution": {
     "iopub.execute_input": "2021-12-02T03:43:21.608661Z",
     "iopub.status.busy": "2021-12-02T03:43:21.608661Z",
     "iopub.status.idle": "2021-12-02T03:43:21.621659Z",
     "shell.execute_reply": "2021-12-02T03:43:21.620661Z",
     "shell.execute_reply.started": "2021-12-02T03:43:21.608661Z"
    }
   },
   "outputs": [
    {
     "data": {
      "text/plain": [
       "District of Columbia    19\n",
       "Alaska                  17\n",
       "Pennsylvania            11\n",
       "Hawaii                  10\n",
       "New Jersey              10\n",
       "Tennessee                9\n",
       "New Hampshire            9\n",
       "Wyoming                  7\n",
       "Maine                    6\n",
       "Nevada                   6\n",
       "Kentucky                 5\n",
       "Indiana                  5\n",
       "Utah                     5\n",
       "Oregon                   4\n",
       "Idaho                    4\n",
       "Ohio                     4\n",
       "Arkansas                 4\n",
       "Nebraska                 4\n",
       "Montana                  4\n",
       "Arizona                  4\n",
       "South Dakota             3\n",
       "West Virginia            3\n",
       "Rhode Island             3\n",
       "Illinois                 3\n",
       "Virginia                 3\n",
       "New Mexico               3\n",
       "California               3\n",
       "Iowa                     2\n",
       "Massachusetts            2\n",
       "Missouri                 2\n",
       "Wisconsin                2\n",
       "South Carolina           2\n",
       "Kansas                   2\n",
       "Texas                    2\n",
       "Colorado                 2\n",
       "Oklahoma                 2\n",
       "Florida                  2\n",
       "North Carolina           2\n",
       "Vermont                  2\n",
       "Maryland                 2\n",
       "Georgia                  2\n",
       "Connecticut              1\n",
       "Alabama                  1\n",
       "Minnesota                1\n",
       "Delaware                 1\n",
       "Louisiana                1\n",
       "Mississippi              1\n",
       "Name: State, dtype: int64"
      ]
     },
     "execution_count": 81,
     "metadata": {},
     "output_type": "execute_result"
    }
   ],
   "source": [
    "ag_since_1960[ag_since_1960['party'].isnull()]['State'].value_counts()"
   ]
  },
  {
   "cell_type": "code",
   "execution_count": 82,
   "id": "958d91d2-803f-4853-bdd6-fe02161bd817",
   "metadata": {
    "execution": {
     "iopub.execute_input": "2021-12-02T03:43:24.846882Z",
     "iopub.status.busy": "2021-12-02T03:43:24.846882Z",
     "iopub.status.idle": "2021-12-02T03:43:24.863886Z",
     "shell.execute_reply": "2021-12-02T03:43:24.862886Z",
     "shell.execute_reply.started": "2021-12-02T03:43:24.846882Z"
    }
   },
   "outputs": [
    {
     "data": {
      "text/plain": [
       "District of Columbia    19\n",
       "Alaska                  17\n",
       "Pennsylvania            11\n",
       "Hawaii                  10\n",
       "New Jersey              10\n",
       "Tennessee                9\n",
       "New Hampshire            9\n",
       "Wyoming                  7\n",
       "Maine                    6\n",
       "Nevada                   6\n",
       "Kentucky                 5\n",
       "Indiana                  5\n",
       "Utah                     5\n",
       "Oregon                   4\n",
       "Idaho                    4\n",
       "Ohio                     4\n",
       "Arkansas                 4\n",
       "Nebraska                 4\n",
       "Montana                  4\n",
       "Arizona                  4\n",
       "South Dakota             3\n",
       "West Virginia            3\n",
       "Rhode Island             3\n",
       "Illinois                 3\n",
       "Virginia                 3\n",
       "New Mexico               3\n",
       "California               3\n",
       "Iowa                     2\n",
       "Massachusetts            2\n",
       "Missouri                 2\n",
       "Wisconsin                2\n",
       "South Carolina           2\n",
       "Kansas                   2\n",
       "Texas                    2\n",
       "Colorado                 2\n",
       "Oklahoma                 2\n",
       "Florida                  2\n",
       "North Carolina           2\n",
       "Vermont                  2\n",
       "Maryland                 2\n",
       "Georgia                  2\n",
       "Connecticut              1\n",
       "Alabama                  1\n",
       "Minnesota                1\n",
       "Delaware                 1\n",
       "Louisiana                1\n",
       "Mississippi              1\n",
       "Name: State, dtype: int64"
      ]
     },
     "execution_count": 82,
     "metadata": {},
     "output_type": "execute_result"
    }
   ],
   "source": [
    "ag_since_1960[ag_since_1960['party'].isnull()]['State'].value_counts()"
   ]
  },
  {
   "cell_type": "code",
   "execution_count": 83,
   "id": "066500db-3e1a-4b41-969e-4eb71c1bf745",
   "metadata": {
    "execution": {
     "iopub.execute_input": "2021-12-02T03:43:25.296749Z",
     "iopub.status.busy": "2021-12-02T03:43:25.296749Z",
     "iopub.status.idle": "2021-12-02T03:43:25.314752Z",
     "shell.execute_reply": "2021-12-02T03:43:25.313749Z",
     "shell.execute_reply.started": "2021-12-02T03:43:25.296749Z"
    }
   },
   "outputs": [
    {
     "data": {
      "text/html": [
       "<div>\n",
       "<style scoped>\n",
       "    .dataframe tbody tr th:only-of-type {\n",
       "        vertical-align: middle;\n",
       "    }\n",
       "\n",
       "    .dataframe tbody tr th {\n",
       "        vertical-align: top;\n",
       "    }\n",
       "\n",
       "    .dataframe thead th {\n",
       "        text-align: right;\n",
       "    }\n",
       "</style>\n",
       "<table border=\"1\" class=\"dataframe\">\n",
       "  <thead>\n",
       "    <tr style=\"text-align: right;\">\n",
       "      <th></th>\n",
       "      <th>State</th>\n",
       "      <th>Name</th>\n",
       "      <th>Term</th>\n",
       "      <th>start of term</th>\n",
       "      <th>end of term</th>\n",
       "      <th>party</th>\n",
       "    </tr>\n",
       "  </thead>\n",
       "  <tbody>\n",
       "    <tr>\n",
       "      <th>906</th>\n",
       "      <td>Massachusetts</td>\n",
       "      <td>Martha Coakley</td>\n",
       "      <td>2007 – 2015</td>\n",
       "      <td>2007</td>\n",
       "      <td>2015</td>\n",
       "      <td>Democrat</td>\n",
       "    </tr>\n",
       "    <tr>\n",
       "      <th>907</th>\n",
       "      <td>Massachusetts</td>\n",
       "      <td>Thomas Reilly</td>\n",
       "      <td>1999 – 2007</td>\n",
       "      <td>1999</td>\n",
       "      <td>2007</td>\n",
       "      <td>Democrat</td>\n",
       "    </tr>\n",
       "    <tr>\n",
       "      <th>908</th>\n",
       "      <td>Massachusetts</td>\n",
       "      <td>L. Scott Harshbarger</td>\n",
       "      <td>1991 – 1999</td>\n",
       "      <td>1991</td>\n",
       "      <td>1999</td>\n",
       "      <td>None</td>\n",
       "    </tr>\n",
       "    <tr>\n",
       "      <th>909</th>\n",
       "      <td>Massachusetts</td>\n",
       "      <td>James M. Shannon</td>\n",
       "      <td>1987 – 1991</td>\n",
       "      <td>1987</td>\n",
       "      <td>1991</td>\n",
       "      <td>Democrat</td>\n",
       "    </tr>\n",
       "    <tr>\n",
       "      <th>910</th>\n",
       "      <td>Massachusetts</td>\n",
       "      <td>Francis X. Bellotti</td>\n",
       "      <td>1975 – 1987</td>\n",
       "      <td>1975</td>\n",
       "      <td>1987</td>\n",
       "      <td>Democrat</td>\n",
       "    </tr>\n",
       "    <tr>\n",
       "      <th>911</th>\n",
       "      <td>Massachusetts</td>\n",
       "      <td>Robert H. Quinn</td>\n",
       "      <td>1969 – 1975</td>\n",
       "      <td>1969</td>\n",
       "      <td>1975</td>\n",
       "      <td>NaN</td>\n",
       "    </tr>\n",
       "    <tr>\n",
       "      <th>912</th>\n",
       "      <td>Massachusetts</td>\n",
       "      <td>Elliot L. Richardson</td>\n",
       "      <td>1967 – 1969</td>\n",
       "      <td>1967</td>\n",
       "      <td>1969</td>\n",
       "      <td>Republican</td>\n",
       "    </tr>\n",
       "    <tr>\n",
       "      <th>914</th>\n",
       "      <td>Massachusetts</td>\n",
       "      <td>Edward W. Brooke</td>\n",
       "      <td>1963 – 1967</td>\n",
       "      <td>1963</td>\n",
       "      <td>1967</td>\n",
       "      <td>Republican</td>\n",
       "    </tr>\n",
       "  </tbody>\n",
       "</table>\n",
       "</div>"
      ],
      "text/plain": [
       "             State                  Name         Term  start of term  \\\n",
       "906  Massachusetts        Martha Coakley  2007 – 2015           2007   \n",
       "907  Massachusetts         Thomas Reilly  1999 – 2007           1999   \n",
       "908  Massachusetts  L. Scott Harshbarger  1991 – 1999           1991   \n",
       "909  Massachusetts      James M. Shannon  1987 – 1991           1987   \n",
       "910  Massachusetts   Francis X. Bellotti  1975 – 1987           1975   \n",
       "911  Massachusetts       Robert H. Quinn  1969 – 1975           1969   \n",
       "912  Massachusetts  Elliot L. Richardson  1967 – 1969           1967   \n",
       "914  Massachusetts      Edward W. Brooke  1963 – 1967           1963   \n",
       "\n",
       "     end of term       party  \n",
       "906         2015    Democrat  \n",
       "907         2007    Democrat  \n",
       "908         1999        None  \n",
       "909         1991    Democrat  \n",
       "910         1987    Democrat  \n",
       "911         1975         NaN  \n",
       "912         1969  Republican  \n",
       "914         1967  Republican  "
      ]
     },
     "execution_count": 83,
     "metadata": {},
     "output_type": "execute_result"
    }
   ],
   "source": [
    "ag_since_1960[ag_since_1960['State']== 'Massachusetts']"
   ]
  },
  {
   "cell_type": "code",
   "execution_count": 84,
   "id": "aab13372-e957-4a77-a2b7-853876f602ac",
   "metadata": {
    "execution": {
     "iopub.execute_input": "2021-12-02T03:43:27.097146Z",
     "iopub.status.busy": "2021-12-02T03:43:27.097146Z",
     "iopub.status.idle": "2021-12-02T03:43:27.113145Z",
     "shell.execute_reply": "2021-12-02T03:43:27.112151Z",
     "shell.execute_reply.started": "2021-12-02T03:43:27.097146Z"
    }
   },
   "outputs": [
    {
     "data": {
      "text/plain": [
       "'Democrat'"
      ]
     },
     "execution_count": 84,
     "metadata": {},
     "output_type": "execute_result"
    }
   ],
   "source": [
    "ag_since_1960[ag_since_1960['State']== 'Massachusetts']['party'].mode().iloc[0]"
   ]
  },
  {
   "cell_type": "code",
   "execution_count": 85,
   "id": "ac1ffbd4-fbea-4404-91c3-34156f8188af",
   "metadata": {
    "execution": {
     "iopub.execute_input": "2021-12-02T03:43:27.580626Z",
     "iopub.status.busy": "2021-12-02T03:43:27.580626Z",
     "iopub.status.idle": "2021-12-02T03:43:27.598629Z",
     "shell.execute_reply": "2021-12-02T03:43:27.597625Z",
     "shell.execute_reply.started": "2021-12-02T03:43:27.580626Z"
    }
   },
   "outputs": [],
   "source": [
    "ag_since_1960[ag_since_1960['State']== 'Massachusetts'] = ag_since_1960[ag_since_1960['State']== 'Massachusetts'].fillna(ag_since_1960[ag_since_1960['State']== 'Massachusetts']['party'].mode().iloc[0])"
   ]
  },
  {
   "cell_type": "code",
   "execution_count": 86,
   "id": "3c7e5000-0de5-4710-bdcd-5f58a6e76fef",
   "metadata": {
    "execution": {
     "iopub.execute_input": "2021-12-02T03:43:28.120532Z",
     "iopub.status.busy": "2021-12-02T03:43:28.119543Z",
     "iopub.status.idle": "2021-12-02T03:43:28.141528Z",
     "shell.execute_reply": "2021-12-02T03:43:28.141528Z",
     "shell.execute_reply.started": "2021-12-02T03:43:28.120532Z"
    }
   },
   "outputs": [
    {
     "data": {
      "text/html": [
       "<div>\n",
       "<style scoped>\n",
       "    .dataframe tbody tr th:only-of-type {\n",
       "        vertical-align: middle;\n",
       "    }\n",
       "\n",
       "    .dataframe tbody tr th {\n",
       "        vertical-align: top;\n",
       "    }\n",
       "\n",
       "    .dataframe thead th {\n",
       "        text-align: right;\n",
       "    }\n",
       "</style>\n",
       "<table border=\"1\" class=\"dataframe\">\n",
       "  <thead>\n",
       "    <tr style=\"text-align: right;\">\n",
       "      <th></th>\n",
       "      <th>State</th>\n",
       "      <th>Name</th>\n",
       "      <th>Term</th>\n",
       "      <th>start of term</th>\n",
       "      <th>end of term</th>\n",
       "      <th>party</th>\n",
       "    </tr>\n",
       "  </thead>\n",
       "  <tbody>\n",
       "    <tr>\n",
       "      <th>906</th>\n",
       "      <td>Massachusetts</td>\n",
       "      <td>Martha Coakley</td>\n",
       "      <td>2007 – 2015</td>\n",
       "      <td>2007</td>\n",
       "      <td>2015</td>\n",
       "      <td>Democrat</td>\n",
       "    </tr>\n",
       "    <tr>\n",
       "      <th>907</th>\n",
       "      <td>Massachusetts</td>\n",
       "      <td>Thomas Reilly</td>\n",
       "      <td>1999 – 2007</td>\n",
       "      <td>1999</td>\n",
       "      <td>2007</td>\n",
       "      <td>Democrat</td>\n",
       "    </tr>\n",
       "    <tr>\n",
       "      <th>908</th>\n",
       "      <td>Massachusetts</td>\n",
       "      <td>L. Scott Harshbarger</td>\n",
       "      <td>1991 – 1999</td>\n",
       "      <td>1991</td>\n",
       "      <td>1999</td>\n",
       "      <td>Democrat</td>\n",
       "    </tr>\n",
       "    <tr>\n",
       "      <th>909</th>\n",
       "      <td>Massachusetts</td>\n",
       "      <td>James M. Shannon</td>\n",
       "      <td>1987 – 1991</td>\n",
       "      <td>1987</td>\n",
       "      <td>1991</td>\n",
       "      <td>Democrat</td>\n",
       "    </tr>\n",
       "    <tr>\n",
       "      <th>910</th>\n",
       "      <td>Massachusetts</td>\n",
       "      <td>Francis X. Bellotti</td>\n",
       "      <td>1975 – 1987</td>\n",
       "      <td>1975</td>\n",
       "      <td>1987</td>\n",
       "      <td>Democrat</td>\n",
       "    </tr>\n",
       "    <tr>\n",
       "      <th>911</th>\n",
       "      <td>Massachusetts</td>\n",
       "      <td>Robert H. Quinn</td>\n",
       "      <td>1969 – 1975</td>\n",
       "      <td>1969</td>\n",
       "      <td>1975</td>\n",
       "      <td>Democrat</td>\n",
       "    </tr>\n",
       "    <tr>\n",
       "      <th>912</th>\n",
       "      <td>Massachusetts</td>\n",
       "      <td>Elliot L. Richardson</td>\n",
       "      <td>1967 – 1969</td>\n",
       "      <td>1967</td>\n",
       "      <td>1969</td>\n",
       "      <td>Republican</td>\n",
       "    </tr>\n",
       "    <tr>\n",
       "      <th>914</th>\n",
       "      <td>Massachusetts</td>\n",
       "      <td>Edward W. Brooke</td>\n",
       "      <td>1963 – 1967</td>\n",
       "      <td>1963</td>\n",
       "      <td>1967</td>\n",
       "      <td>Republican</td>\n",
       "    </tr>\n",
       "  </tbody>\n",
       "</table>\n",
       "</div>"
      ],
      "text/plain": [
       "             State                  Name         Term  start of term  \\\n",
       "906  Massachusetts        Martha Coakley  2007 – 2015           2007   \n",
       "907  Massachusetts         Thomas Reilly  1999 – 2007           1999   \n",
       "908  Massachusetts  L. Scott Harshbarger  1991 – 1999           1991   \n",
       "909  Massachusetts      James M. Shannon  1987 – 1991           1987   \n",
       "910  Massachusetts   Francis X. Bellotti  1975 – 1987           1975   \n",
       "911  Massachusetts       Robert H. Quinn  1969 – 1975           1969   \n",
       "912  Massachusetts  Elliot L. Richardson  1967 – 1969           1967   \n",
       "914  Massachusetts      Edward W. Brooke  1963 – 1967           1963   \n",
       "\n",
       "     end of term       party  \n",
       "906         2015    Democrat  \n",
       "907         2007    Democrat  \n",
       "908         1999    Democrat  \n",
       "909         1991    Democrat  \n",
       "910         1987    Democrat  \n",
       "911         1975    Democrat  \n",
       "912         1969  Republican  \n",
       "914         1967  Republican  "
      ]
     },
     "execution_count": 86,
     "metadata": {},
     "output_type": "execute_result"
    }
   ],
   "source": [
    "ag_since_1960[ag_since_1960['State']== 'Massachusetts']"
   ]
  },
  {
   "cell_type": "code",
   "execution_count": 87,
   "id": "e5ea8a25-483c-4289-bedb-830f503cd429",
   "metadata": {
    "execution": {
     "iopub.execute_input": "2021-12-02T03:43:28.412923Z",
     "iopub.status.busy": "2021-12-02T03:43:28.412923Z",
     "iopub.status.idle": "2021-12-02T03:43:28.436916Z",
     "shell.execute_reply": "2021-12-02T03:43:28.435949Z",
     "shell.execute_reply.started": "2021-12-02T03:43:28.412923Z"
    }
   },
   "outputs": [
    {
     "name": "stdout",
     "output_type": "stream",
     "text": [
      "<class 'pandas.core.frame.DataFrame'>\n",
      "Int64Index: 496 entries, 0 to 2063\n",
      "Data columns (total 6 columns):\n",
      " #   Column         Non-Null Count  Dtype \n",
      "---  ------         --------------  ----- \n",
      " 0   State          496 non-null    object\n",
      " 1   Name           496 non-null    object\n",
      " 2   Term           496 non-null    object\n",
      " 3   start of term  496 non-null    int64 \n",
      " 4   end of term    496 non-null    int64 \n",
      " 5   party          296 non-null    object\n",
      "dtypes: int64(2), object(4)\n",
      "memory usage: 27.1+ KB\n"
     ]
    }
   ],
   "source": [
    "ag_since_1960.info()"
   ]
  },
  {
   "cell_type": "code",
   "execution_count": 88,
   "id": "bf441a05-8a9d-4877-845e-6f8d1c571a2f",
   "metadata": {
    "execution": {
     "iopub.execute_input": "2021-12-02T03:43:31.867357Z",
     "iopub.status.busy": "2021-12-02T03:43:31.866356Z",
     "iopub.status.idle": "2021-12-02T03:43:31.888361Z",
     "shell.execute_reply": "2021-12-02T03:43:31.886427Z",
     "shell.execute_reply.started": "2021-12-02T03:43:31.867357Z"
    }
   },
   "outputs": [],
   "source": [
    "ag_since_1960 = ag_since_1960.fillna('Unknown')"
   ]
  },
  {
   "cell_type": "code",
   "execution_count": 89,
   "id": "da190e42-d046-498e-9a6e-3f5632e224b1",
   "metadata": {
    "execution": {
     "iopub.execute_input": "2021-12-02T03:43:32.285069Z",
     "iopub.status.busy": "2021-12-02T03:43:32.283053Z",
     "iopub.status.idle": "2021-12-02T03:43:32.308041Z",
     "shell.execute_reply": "2021-12-02T03:43:32.308041Z",
     "shell.execute_reply.started": "2021-12-02T03:43:32.284070Z"
    }
   },
   "outputs": [
    {
     "name": "stdout",
     "output_type": "stream",
     "text": [
      "<class 'pandas.core.frame.DataFrame'>\n",
      "Int64Index: 496 entries, 0 to 2063\n",
      "Data columns (total 6 columns):\n",
      " #   Column         Non-Null Count  Dtype \n",
      "---  ------         --------------  ----- \n",
      " 0   State          496 non-null    object\n",
      " 1   Name           496 non-null    object\n",
      " 2   Term           496 non-null    object\n",
      " 3   start of term  496 non-null    int64 \n",
      " 4   end of term    496 non-null    int64 \n",
      " 5   party          496 non-null    object\n",
      "dtypes: int64(2), object(4)\n",
      "memory usage: 27.1+ KB\n"
     ]
    }
   ],
   "source": [
    "ag_since_1960.info()"
   ]
  },
  {
   "cell_type": "code",
   "execution_count": 90,
   "id": "9fba269e-a7b5-4377-86f1-a760c5ec5c09",
   "metadata": {
    "execution": {
     "iopub.execute_input": "2021-12-02T03:43:34.387082Z",
     "iopub.status.busy": "2021-12-02T03:43:34.387082Z",
     "iopub.status.idle": "2021-12-02T03:43:34.414301Z",
     "shell.execute_reply": "2021-12-02T03:43:34.413292Z",
     "shell.execute_reply.started": "2021-12-02T03:43:34.387082Z"
    }
   },
   "outputs": [
    {
     "data": {
      "text/html": [
       "<div>\n",
       "<style scoped>\n",
       "    .dataframe tbody tr th:only-of-type {\n",
       "        vertical-align: middle;\n",
       "    }\n",
       "\n",
       "    .dataframe tbody tr th {\n",
       "        vertical-align: top;\n",
       "    }\n",
       "\n",
       "    .dataframe thead th {\n",
       "        text-align: right;\n",
       "    }\n",
       "</style>\n",
       "<table border=\"1\" class=\"dataframe\">\n",
       "  <thead>\n",
       "    <tr style=\"text-align: right;\">\n",
       "      <th></th>\n",
       "      <th>State</th>\n",
       "      <th>Name</th>\n",
       "      <th>Term</th>\n",
       "      <th>start of term</th>\n",
       "      <th>end of term</th>\n",
       "      <th>party</th>\n",
       "    </tr>\n",
       "  </thead>\n",
       "  <tbody>\n",
       "    <tr>\n",
       "      <th>0</th>\n",
       "      <td>Alabama</td>\n",
       "      <td>Luther Strange</td>\n",
       "      <td>2010 – 2017</td>\n",
       "      <td>2010</td>\n",
       "      <td>2017</td>\n",
       "      <td>Republican</td>\n",
       "    </tr>\n",
       "    <tr>\n",
       "      <th>1</th>\n",
       "      <td>Alabama</td>\n",
       "      <td>Troy King</td>\n",
       "      <td>2004 – 2010</td>\n",
       "      <td>2004</td>\n",
       "      <td>2010</td>\n",
       "      <td>Republican</td>\n",
       "    </tr>\n",
       "    <tr>\n",
       "      <th>2</th>\n",
       "      <td>Alabama</td>\n",
       "      <td>Bill Pryor</td>\n",
       "      <td>1997 – 2004</td>\n",
       "      <td>1997</td>\n",
       "      <td>2004</td>\n",
       "      <td>Democrat</td>\n",
       "    </tr>\n",
       "    <tr>\n",
       "      <th>3</th>\n",
       "      <td>Alabama</td>\n",
       "      <td>Jeff Sessions</td>\n",
       "      <td>1995 – 1997</td>\n",
       "      <td>1995</td>\n",
       "      <td>1997</td>\n",
       "      <td>Republican</td>\n",
       "    </tr>\n",
       "    <tr>\n",
       "      <th>4</th>\n",
       "      <td>Alabama</td>\n",
       "      <td>Jimmy Evans</td>\n",
       "      <td>1991 – 1995</td>\n",
       "      <td>1991</td>\n",
       "      <td>1995</td>\n",
       "      <td>Unknown</td>\n",
       "    </tr>\n",
       "    <tr>\n",
       "      <th>...</th>\n",
       "      <td>...</td>\n",
       "      <td>...</td>\n",
       "      <td>...</td>\n",
       "      <td>...</td>\n",
       "      <td>...</td>\n",
       "      <td>...</td>\n",
       "    </tr>\n",
       "    <tr>\n",
       "      <th>2040</th>\n",
       "      <td>Wyoming</td>\n",
       "      <td>Clarence A. Brimmer</td>\n",
       "      <td>1971 – 1974</td>\n",
       "      <td>1971</td>\n",
       "      <td>1974</td>\n",
       "      <td>Republican</td>\n",
       "    </tr>\n",
       "    <tr>\n",
       "      <th>2041</th>\n",
       "      <td>Wyoming</td>\n",
       "      <td>James E. Barrett</td>\n",
       "      <td>1967 – 1971</td>\n",
       "      <td>1967</td>\n",
       "      <td>1971</td>\n",
       "      <td>Unknown</td>\n",
       "    </tr>\n",
       "    <tr>\n",
       "      <th>2042</th>\n",
       "      <td>Wyoming</td>\n",
       "      <td>Dean W. Borthwick</td>\n",
       "      <td>1965 – 1967</td>\n",
       "      <td>1965</td>\n",
       "      <td>1967</td>\n",
       "      <td>Republican</td>\n",
       "    </tr>\n",
       "    <tr>\n",
       "      <th>2043</th>\n",
       "      <td>Wyoming</td>\n",
       "      <td>John F. Raper</td>\n",
       "      <td>1963 – 1965</td>\n",
       "      <td>1963</td>\n",
       "      <td>1965</td>\n",
       "      <td>Republican</td>\n",
       "    </tr>\n",
       "    <tr>\n",
       "      <th>2063</th>\n",
       "      <td>California</td>\n",
       "      <td>Xavier Becerra</td>\n",
       "      <td>2017 - 2020</td>\n",
       "      <td>2017</td>\n",
       "      <td>2020</td>\n",
       "      <td>Democrat</td>\n",
       "    </tr>\n",
       "  </tbody>\n",
       "</table>\n",
       "<p>496 rows × 6 columns</p>\n",
       "</div>"
      ],
      "text/plain": [
       "           State                 Name         Term  start of term  \\\n",
       "0        Alabama       Luther Strange  2010 – 2017           2010   \n",
       "1        Alabama            Troy King  2004 – 2010           2004   \n",
       "2        Alabama           Bill Pryor  1997 – 2004           1997   \n",
       "3        Alabama        Jeff Sessions  1995 – 1997           1995   \n",
       "4        Alabama          Jimmy Evans  1991 – 1995           1991   \n",
       "...          ...                  ...          ...            ...   \n",
       "2040     Wyoming  Clarence A. Brimmer  1971 – 1974           1971   \n",
       "2041     Wyoming     James E. Barrett  1967 – 1971           1967   \n",
       "2042     Wyoming    Dean W. Borthwick  1965 – 1967           1965   \n",
       "2043     Wyoming        John F. Raper  1963 – 1965           1963   \n",
       "2063  California       Xavier Becerra  2017 - 2020           2017   \n",
       "\n",
       "      end of term       party  \n",
       "0            2017  Republican  \n",
       "1            2010  Republican  \n",
       "2            2004    Democrat  \n",
       "3            1997  Republican  \n",
       "4            1995     Unknown  \n",
       "...           ...         ...  \n",
       "2040         1974  Republican  \n",
       "2041         1971     Unknown  \n",
       "2042         1967  Republican  \n",
       "2043         1965  Republican  \n",
       "2063         2020    Democrat  \n",
       "\n",
       "[496 rows x 6 columns]"
      ]
     },
     "execution_count": 90,
     "metadata": {},
     "output_type": "execute_result"
    }
   ],
   "source": [
    "ag_since_1960"
   ]
  },
  {
   "cell_type": "code",
   "execution_count": 91,
   "id": "b198b62a-600c-4834-95e9-c4e92d9db673",
   "metadata": {
    "execution": {
     "iopub.execute_input": "2021-12-02T03:43:35.556171Z",
     "iopub.status.busy": "2021-12-02T03:43:35.556171Z",
     "iopub.status.idle": "2021-12-02T03:43:35.586595Z",
     "shell.execute_reply": "2021-12-02T03:43:35.585599Z",
     "shell.execute_reply.started": "2021-12-02T03:43:35.556171Z"
    }
   },
   "outputs": [
    {
     "data": {
      "text/html": [
       "<div>\n",
       "<style scoped>\n",
       "    .dataframe tbody tr th:only-of-type {\n",
       "        vertical-align: middle;\n",
       "    }\n",
       "\n",
       "    .dataframe tbody tr th {\n",
       "        vertical-align: top;\n",
       "    }\n",
       "\n",
       "    .dataframe thead th {\n",
       "        text-align: right;\n",
       "    }\n",
       "</style>\n",
       "<table border=\"1\" class=\"dataframe\">\n",
       "  <thead>\n",
       "    <tr style=\"text-align: right;\">\n",
       "      <th></th>\n",
       "      <th>State</th>\n",
       "      <th>Name</th>\n",
       "      <th>Term</th>\n",
       "      <th>start of term</th>\n",
       "      <th>end of term</th>\n",
       "      <th>party</th>\n",
       "    </tr>\n",
       "  </thead>\n",
       "  <tbody>\n",
       "    <tr>\n",
       "      <th>4</th>\n",
       "      <td>Alabama</td>\n",
       "      <td>Jimmy Evans</td>\n",
       "      <td>1991 – 1995</td>\n",
       "      <td>1991</td>\n",
       "      <td>1995</td>\n",
       "      <td>Unknown</td>\n",
       "    </tr>\n",
       "    <tr>\n",
       "      <th>48</th>\n",
       "      <td>Alaska</td>\n",
       "      <td>Jahna Lindemuth</td>\n",
       "      <td>2016 – 2018</td>\n",
       "      <td>2016</td>\n",
       "      <td>2018</td>\n",
       "      <td>Unknown</td>\n",
       "    </tr>\n",
       "    <tr>\n",
       "      <th>49</th>\n",
       "      <td>Alaska</td>\n",
       "      <td>Craig W. Richards</td>\n",
       "      <td>2014 – 2016</td>\n",
       "      <td>2014</td>\n",
       "      <td>2016</td>\n",
       "      <td>Unknown</td>\n",
       "    </tr>\n",
       "    <tr>\n",
       "      <th>50</th>\n",
       "      <td>Alaska</td>\n",
       "      <td>Michael C. Geraghty</td>\n",
       "      <td>2012 – 2014</td>\n",
       "      <td>2012</td>\n",
       "      <td>2014</td>\n",
       "      <td>Unknown</td>\n",
       "    </tr>\n",
       "    <tr>\n",
       "      <th>51</th>\n",
       "      <td>Alaska</td>\n",
       "      <td>John J Burns</td>\n",
       "      <td>2010 – 2012</td>\n",
       "      <td>2010</td>\n",
       "      <td>2012</td>\n",
       "      <td>Unknown</td>\n",
       "    </tr>\n",
       "    <tr>\n",
       "      <th>...</th>\n",
       "      <td>...</td>\n",
       "      <td>...</td>\n",
       "      <td>...</td>\n",
       "      <td>...</td>\n",
       "      <td>...</td>\n",
       "      <td>...</td>\n",
       "    </tr>\n",
       "    <tr>\n",
       "      <th>2032</th>\n",
       "      <td>Wyoming</td>\n",
       "      <td>Patrick J. Crank</td>\n",
       "      <td>2003 – 2007</td>\n",
       "      <td>2003</td>\n",
       "      <td>2007</td>\n",
       "      <td>Unknown</td>\n",
       "    </tr>\n",
       "    <tr>\n",
       "      <th>2033</th>\n",
       "      <td>Wyoming</td>\n",
       "      <td>Hoke MacMillan</td>\n",
       "      <td>2002 – 2002</td>\n",
       "      <td>2002</td>\n",
       "      <td>2002</td>\n",
       "      <td>Unknown</td>\n",
       "    </tr>\n",
       "    <tr>\n",
       "      <th>2035</th>\n",
       "      <td>Wyoming</td>\n",
       "      <td>William U. Hill</td>\n",
       "      <td>1995 – 1998</td>\n",
       "      <td>1995</td>\n",
       "      <td>1998</td>\n",
       "      <td>Unknown</td>\n",
       "    </tr>\n",
       "    <tr>\n",
       "      <th>2037</th>\n",
       "      <td>Wyoming</td>\n",
       "      <td>A.G. McClintock</td>\n",
       "      <td>1983 – 1986</td>\n",
       "      <td>1983</td>\n",
       "      <td>1986</td>\n",
       "      <td>Unknown</td>\n",
       "    </tr>\n",
       "    <tr>\n",
       "      <th>2041</th>\n",
       "      <td>Wyoming</td>\n",
       "      <td>James E. Barrett</td>\n",
       "      <td>1967 – 1971</td>\n",
       "      <td>1967</td>\n",
       "      <td>1971</td>\n",
       "      <td>Unknown</td>\n",
       "    </tr>\n",
       "  </tbody>\n",
       "</table>\n",
       "<p>200 rows × 6 columns</p>\n",
       "</div>"
      ],
      "text/plain": [
       "        State                 Name         Term  start of term  end of term  \\\n",
       "4     Alabama          Jimmy Evans  1991 – 1995           1991         1995   \n",
       "48     Alaska      Jahna Lindemuth  2016 – 2018           2016         2018   \n",
       "49     Alaska    Craig W. Richards  2014 – 2016           2014         2016   \n",
       "50     Alaska  Michael C. Geraghty  2012 – 2014           2012         2014   \n",
       "51     Alaska         John J Burns  2010 – 2012           2010         2012   \n",
       "...       ...                  ...          ...            ...          ...   \n",
       "2032  Wyoming     Patrick J. Crank  2003 – 2007           2003         2007   \n",
       "2033  Wyoming       Hoke MacMillan  2002 – 2002           2002         2002   \n",
       "2035  Wyoming      William U. Hill  1995 – 1998           1995         1998   \n",
       "2037  Wyoming      A.G. McClintock  1983 – 1986           1983         1986   \n",
       "2041  Wyoming     James E. Barrett  1967 – 1971           1967         1971   \n",
       "\n",
       "        party  \n",
       "4     Unknown  \n",
       "48    Unknown  \n",
       "49    Unknown  \n",
       "50    Unknown  \n",
       "51    Unknown  \n",
       "...       ...  \n",
       "2032  Unknown  \n",
       "2033  Unknown  \n",
       "2035  Unknown  \n",
       "2037  Unknown  \n",
       "2041  Unknown  \n",
       "\n",
       "[200 rows x 6 columns]"
      ]
     },
     "execution_count": 91,
     "metadata": {},
     "output_type": "execute_result"
    }
   ],
   "source": [
    "ag_since_1960[ag_since_1960['party'] == 'Unknown']"
   ]
  },
  {
   "cell_type": "markdown",
   "id": "a5c60946-5b68-458b-bd07-5eaaca34a06d",
   "metadata": {},
   "source": [
    "### Combining Current and former Attorney General dataframes. "
   ]
  },
  {
   "cell_type": "code",
   "execution_count": 92,
   "id": "1110fdc6-b7ed-47ff-8dc8-3ba6f648b004",
   "metadata": {
    "execution": {
     "iopub.execute_input": "2021-12-02T03:43:47.628086Z",
     "iopub.status.busy": "2021-12-02T03:43:47.628086Z",
     "iopub.status.idle": "2021-12-02T03:43:47.644087Z",
     "shell.execute_reply": "2021-12-02T03:43:47.643085Z",
     "shell.execute_reply.started": "2021-12-02T03:43:47.628086Z"
    }
   },
   "outputs": [
    {
     "name": "stdout",
     "output_type": "stream",
     "text": [
      "(44, 7)\n",
      "(496, 6)\n"
     ]
    }
   ],
   "source": [
    "print(sag.shape)\n",
    "print(ag_since_1960.shape)"
   ]
  },
  {
   "cell_type": "code",
   "execution_count": 93,
   "id": "f9b8fc6d-2c89-4174-9996-6dff365540ba",
   "metadata": {
    "execution": {
     "iopub.execute_input": "2021-12-02T03:43:48.280116Z",
     "iopub.status.busy": "2021-12-02T03:43:48.280116Z",
     "iopub.status.idle": "2021-12-02T03:43:48.299119Z",
     "shell.execute_reply": "2021-12-02T03:43:48.298120Z",
     "shell.execute_reply.started": "2021-12-02T03:43:48.280116Z"
    }
   },
   "outputs": [
    {
     "name": "stdout",
     "output_type": "stream",
     "text": [
      "Index(['level_0', 'index', 'Name', 'State', 'party', 'start of term',\n",
      "       'end of term'],\n",
      "      dtype='object')\n"
     ]
    }
   ],
   "source": [
    "print(sag.columns)"
   ]
  },
  {
   "cell_type": "code",
   "execution_count": 94,
   "id": "1a9dcb47-6219-4712-9d69-dc56fa3ad783",
   "metadata": {
    "execution": {
     "iopub.execute_input": "2021-12-02T03:43:51.790099Z",
     "iopub.status.busy": "2021-12-02T03:43:51.789095Z",
     "iopub.status.idle": "2021-12-02T03:43:51.808084Z",
     "shell.execute_reply": "2021-12-02T03:43:51.807119Z",
     "shell.execute_reply.started": "2021-12-02T03:43:51.790099Z"
    }
   },
   "outputs": [
    {
     "name": "stdout",
     "output_type": "stream",
     "text": [
      "Index(['State', 'Name', 'Term', 'start of term', 'end of term', 'party'], dtype='object')\n"
     ]
    }
   ],
   "source": [
    "print(ag_since_1960.columns)"
   ]
  },
  {
   "cell_type": "code",
   "execution_count": 95,
   "id": "441f3757-4fd4-40c9-ba5d-37828ed97ea0",
   "metadata": {
    "execution": {
     "iopub.execute_input": "2021-12-02T03:44:01.723425Z",
     "iopub.status.busy": "2021-12-02T03:44:01.723425Z",
     "iopub.status.idle": "2021-12-02T03:44:01.738423Z",
     "shell.execute_reply": "2021-12-02T03:44:01.737422Z",
     "shell.execute_reply.started": "2021-12-02T03:44:01.723425Z"
    }
   },
   "outputs": [],
   "source": [
    "sag = sag.drop(columns=['level_0', 'index'])"
   ]
  },
  {
   "cell_type": "code",
   "execution_count": 96,
   "id": "8a05cac9-11c2-4050-8df5-ece780dce7b8",
   "metadata": {
    "execution": {
     "iopub.execute_input": "2021-12-02T03:44:02.276282Z",
     "iopub.status.busy": "2021-12-02T03:44:02.276282Z",
     "iopub.status.idle": "2021-12-02T03:44:02.287289Z",
     "shell.execute_reply": "2021-12-02T03:44:02.286370Z",
     "shell.execute_reply.started": "2021-12-02T03:44:02.276282Z"
    }
   },
   "outputs": [],
   "source": [
    "ag_since_1960 = ag_since_1960.drop(columns=['Term'])"
   ]
  },
  {
   "cell_type": "code",
   "execution_count": 97,
   "id": "325708bc-e30d-4801-872c-d48dba163ba1",
   "metadata": {
    "execution": {
     "iopub.execute_input": "2021-12-02T03:44:03.096707Z",
     "iopub.status.busy": "2021-12-02T03:44:03.096707Z",
     "iopub.status.idle": "2021-12-02T03:44:03.109732Z",
     "shell.execute_reply": "2021-12-02T03:44:03.108698Z",
     "shell.execute_reply.started": "2021-12-02T03:44:03.096707Z"
    }
   },
   "outputs": [
    {
     "name": "stdout",
     "output_type": "stream",
     "text": [
      "(44, 5)\n",
      "(496, 5)\n"
     ]
    }
   ],
   "source": [
    "print(sag.shape)\n",
    "print(ag_since_1960.shape)"
   ]
  },
  {
   "cell_type": "code",
   "execution_count": 98,
   "id": "9a360b9b-3542-4bd8-a3af-bae41e0d371a",
   "metadata": {
    "execution": {
     "iopub.execute_input": "2021-12-02T03:44:03.726009Z",
     "iopub.status.busy": "2021-12-02T03:44:03.726009Z",
     "iopub.status.idle": "2021-12-02T03:44:03.731986Z",
     "shell.execute_reply": "2021-12-02T03:44:03.730983Z",
     "shell.execute_reply.started": "2021-12-02T03:44:03.726009Z"
    }
   },
   "outputs": [
    {
     "name": "stdout",
     "output_type": "stream",
     "text": [
      "Index(['Name', 'State', 'party', 'start of term', 'end of term'], dtype='object')\n",
      "Index(['State', 'Name', 'start of term', 'end of term', 'party'], dtype='object')\n"
     ]
    }
   ],
   "source": [
    "print(sag.columns)\n",
    "print(ag_since_1960.columns)"
   ]
  },
  {
   "cell_type": "code",
   "execution_count": 99,
   "id": "bd1b4bb1-849a-498d-b082-15fb90eb4041",
   "metadata": {
    "execution": {
     "iopub.execute_input": "2021-12-02T03:44:04.412755Z",
     "iopub.status.busy": "2021-12-02T03:44:04.412755Z",
     "iopub.status.idle": "2021-12-02T03:44:04.430758Z",
     "shell.execute_reply": "2021-12-02T03:44:04.429788Z",
     "shell.execute_reply.started": "2021-12-02T03:44:04.412755Z"
    }
   },
   "outputs": [],
   "source": [
    "cols = ag_since_1960.columns.tolist()"
   ]
  },
  {
   "cell_type": "code",
   "execution_count": 100,
   "id": "e4380862-2f9b-45b6-b2eb-fe5f172e8c8a",
   "metadata": {
    "execution": {
     "iopub.execute_input": "2021-12-02T03:44:04.987443Z",
     "iopub.status.busy": "2021-12-02T03:44:04.986444Z",
     "iopub.status.idle": "2021-12-02T03:44:05.005979Z",
     "shell.execute_reply": "2021-12-02T03:44:05.004984Z",
     "shell.execute_reply.started": "2021-12-02T03:44:04.987443Z"
    }
   },
   "outputs": [],
   "source": [
    "sag = sag[cols]"
   ]
  },
  {
   "cell_type": "code",
   "execution_count": 101,
   "id": "b1e0258a-cfd9-4710-9863-9a0815255b00",
   "metadata": {
    "execution": {
     "iopub.execute_input": "2021-12-02T03:44:08.158180Z",
     "iopub.status.busy": "2021-12-02T03:44:08.158180Z",
     "iopub.status.idle": "2021-12-02T03:44:08.169179Z",
     "shell.execute_reply": "2021-12-02T03:44:08.168177Z",
     "shell.execute_reply.started": "2021-12-02T03:44:08.158180Z"
    }
   },
   "outputs": [
    {
     "name": "stdout",
     "output_type": "stream",
     "text": [
      "Index(['State', 'Name', 'start of term', 'end of term', 'party'], dtype='object')\n",
      "Index(['State', 'Name', 'start of term', 'end of term', 'party'], dtype='object')\n"
     ]
    }
   ],
   "source": [
    "print(sag.columns)\n",
    "print(ag_since_1960.columns)"
   ]
  },
  {
   "cell_type": "code",
   "execution_count": 102,
   "id": "5f4d806e-0073-4372-a99b-b00ed941a993",
   "metadata": {
    "execution": {
     "iopub.execute_input": "2021-12-02T03:44:10.678936Z",
     "iopub.status.busy": "2021-12-02T03:44:10.678936Z",
     "iopub.status.idle": "2021-12-02T03:44:10.699937Z",
     "shell.execute_reply": "2021-12-02T03:44:10.698963Z",
     "shell.execute_reply.started": "2021-12-02T03:44:10.678936Z"
    }
   },
   "outputs": [
    {
     "data": {
      "text/html": [
       "<div>\n",
       "<style scoped>\n",
       "    .dataframe tbody tr th:only-of-type {\n",
       "        vertical-align: middle;\n",
       "    }\n",
       "\n",
       "    .dataframe tbody tr th {\n",
       "        vertical-align: top;\n",
       "    }\n",
       "\n",
       "    .dataframe thead th {\n",
       "        text-align: right;\n",
       "    }\n",
       "</style>\n",
       "<table border=\"1\" class=\"dataframe\">\n",
       "  <thead>\n",
       "    <tr style=\"text-align: right;\">\n",
       "      <th></th>\n",
       "      <th>State</th>\n",
       "      <th>Name</th>\n",
       "      <th>start of term</th>\n",
       "      <th>end of term</th>\n",
       "      <th>party</th>\n",
       "    </tr>\n",
       "  </thead>\n",
       "  <tbody>\n",
       "    <tr>\n",
       "      <th>0</th>\n",
       "      <td>Alabama</td>\n",
       "      <td>Steve Marshall</td>\n",
       "      <td>2017</td>\n",
       "      <td>2023</td>\n",
       "      <td>Republican</td>\n",
       "    </tr>\n",
       "    <tr>\n",
       "      <th>1</th>\n",
       "      <td>Arizona</td>\n",
       "      <td>Mark Brnovich</td>\n",
       "      <td>2015</td>\n",
       "      <td>2023</td>\n",
       "      <td>Republican</td>\n",
       "    </tr>\n",
       "    <tr>\n",
       "      <th>2</th>\n",
       "      <td>Arkansas</td>\n",
       "      <td>Leslie Rutledge</td>\n",
       "      <td>2015</td>\n",
       "      <td>2023</td>\n",
       "      <td>Republican</td>\n",
       "    </tr>\n",
       "  </tbody>\n",
       "</table>\n",
       "</div>"
      ],
      "text/plain": [
       "      State             Name  start of term  end of term       party\n",
       "0   Alabama   Steve Marshall           2017         2023  Republican\n",
       "1   Arizona    Mark Brnovich           2015         2023  Republican\n",
       "2  Arkansas  Leslie Rutledge           2015         2023  Republican"
      ]
     },
     "execution_count": 102,
     "metadata": {},
     "output_type": "execute_result"
    }
   ],
   "source": [
    "sag.head(3)"
   ]
  },
  {
   "cell_type": "code",
   "execution_count": 103,
   "id": "333b4b8e-3d3a-47fe-b7c6-1309cc125f10",
   "metadata": {
    "execution": {
     "iopub.execute_input": "2021-12-02T03:44:12.861017Z",
     "iopub.status.busy": "2021-12-02T03:44:12.861017Z",
     "iopub.status.idle": "2021-12-02T03:44:12.883980Z",
     "shell.execute_reply": "2021-12-02T03:44:12.882981Z",
     "shell.execute_reply.started": "2021-12-02T03:44:12.861017Z"
    }
   },
   "outputs": [
    {
     "data": {
      "text/html": [
       "<div>\n",
       "<style scoped>\n",
       "    .dataframe tbody tr th:only-of-type {\n",
       "        vertical-align: middle;\n",
       "    }\n",
       "\n",
       "    .dataframe tbody tr th {\n",
       "        vertical-align: top;\n",
       "    }\n",
       "\n",
       "    .dataframe thead th {\n",
       "        text-align: right;\n",
       "    }\n",
       "</style>\n",
       "<table border=\"1\" class=\"dataframe\">\n",
       "  <thead>\n",
       "    <tr style=\"text-align: right;\">\n",
       "      <th></th>\n",
       "      <th>State</th>\n",
       "      <th>Name</th>\n",
       "      <th>start of term</th>\n",
       "      <th>end of term</th>\n",
       "      <th>party</th>\n",
       "    </tr>\n",
       "  </thead>\n",
       "  <tbody>\n",
       "    <tr>\n",
       "      <th>0</th>\n",
       "      <td>Alabama</td>\n",
       "      <td>Luther Strange</td>\n",
       "      <td>2010</td>\n",
       "      <td>2017</td>\n",
       "      <td>Republican</td>\n",
       "    </tr>\n",
       "    <tr>\n",
       "      <th>1</th>\n",
       "      <td>Alabama</td>\n",
       "      <td>Troy King</td>\n",
       "      <td>2004</td>\n",
       "      <td>2010</td>\n",
       "      <td>Republican</td>\n",
       "    </tr>\n",
       "    <tr>\n",
       "      <th>2</th>\n",
       "      <td>Alabama</td>\n",
       "      <td>Bill Pryor</td>\n",
       "      <td>1997</td>\n",
       "      <td>2004</td>\n",
       "      <td>Democrat</td>\n",
       "    </tr>\n",
       "  </tbody>\n",
       "</table>\n",
       "</div>"
      ],
      "text/plain": [
       "     State            Name  start of term  end of term       party\n",
       "0  Alabama  Luther Strange           2010         2017  Republican\n",
       "1  Alabama       Troy King           2004         2010  Republican\n",
       "2  Alabama      Bill Pryor           1997         2004    Democrat"
      ]
     },
     "execution_count": 103,
     "metadata": {},
     "output_type": "execute_result"
    }
   ],
   "source": [
    "ag_since_1960.head(3)"
   ]
  },
  {
   "cell_type": "code",
   "execution_count": 104,
   "id": "b393091b-7bca-4aaf-ad1f-8ad17c3f14cd",
   "metadata": {
    "execution": {
     "iopub.execute_input": "2021-12-02T03:44:14.751710Z",
     "iopub.status.busy": "2021-12-02T03:44:14.751710Z",
     "iopub.status.idle": "2021-12-02T03:44:14.764712Z",
     "shell.execute_reply": "2021-12-02T03:44:14.763709Z",
     "shell.execute_reply.started": "2021-12-02T03:44:14.751710Z"
    }
   },
   "outputs": [],
   "source": [
    "frames = [sag, ag_since_1960]"
   ]
  },
  {
   "cell_type": "code",
   "execution_count": 105,
   "id": "976296a8-c1d1-4a10-885f-61d097a0d348",
   "metadata": {
    "execution": {
     "iopub.execute_input": "2021-12-02T03:44:15.796896Z",
     "iopub.status.busy": "2021-12-02T03:44:15.796896Z",
     "iopub.status.idle": "2021-12-02T03:44:15.821863Z",
     "shell.execute_reply": "2021-12-02T03:44:15.820862Z",
     "shell.execute_reply.started": "2021-12-02T03:44:15.796896Z"
    }
   },
   "outputs": [],
   "source": [
    "atty_general = pd.concat(frames).reset_index()"
   ]
  },
  {
   "cell_type": "code",
   "execution_count": 106,
   "id": "aba82593-50a9-4393-899f-27de9fbed06b",
   "metadata": {
    "execution": {
     "iopub.execute_input": "2021-12-02T03:44:18.195920Z",
     "iopub.status.busy": "2021-12-02T03:44:18.194903Z",
     "iopub.status.idle": "2021-12-02T03:44:18.210899Z",
     "shell.execute_reply": "2021-12-02T03:44:18.209899Z",
     "shell.execute_reply.started": "2021-12-02T03:44:18.195920Z"
    }
   },
   "outputs": [],
   "source": [
    "atty_general = atty_general.drop(columns = ['index'])"
   ]
  },
  {
   "cell_type": "markdown",
   "id": "b577474f-d351-4a7e-8c5a-4133a7159755",
   "metadata": {},
   "source": [
    "atty_generalcombined DataFrame gets a few transformations and cleaning tasks \n",
    "1.check for duplicated entries. \n"
   ]
  },
  {
   "cell_type": "markdown",
   "id": "a1fd6bd2-a441-4448-a21d-b11c938b896c",
   "metadata": {},
   "source": [
    "Checking for duplicated entries"
   ]
  },
  {
   "cell_type": "code",
   "execution_count": 108,
   "id": "8c8eecdd-1f05-4720-a721-e3a3a9169d6a",
   "metadata": {
    "execution": {
     "iopub.execute_input": "2021-12-02T03:44:42.549579Z",
     "iopub.status.busy": "2021-12-02T03:44:42.549579Z",
     "iopub.status.idle": "2021-12-02T03:44:42.563578Z",
     "shell.execute_reply": "2021-12-02T03:44:42.562606Z",
     "shell.execute_reply.started": "2021-12-02T03:44:42.549579Z"
    }
   },
   "outputs": [],
   "source": [
    "dupes = atty_general[atty_general.duplicated()]"
   ]
  },
  {
   "cell_type": "code",
   "execution_count": 109,
   "id": "7a5b1442-c639-4889-b21b-e4a48593c543",
   "metadata": {
    "execution": {
     "iopub.execute_input": "2021-12-02T03:44:43.000512Z",
     "iopub.status.busy": "2021-12-02T03:44:42.999503Z",
     "iopub.status.idle": "2021-12-02T03:44:43.028520Z",
     "shell.execute_reply": "2021-12-02T03:44:43.027751Z",
     "shell.execute_reply.started": "2021-12-02T03:44:43.000512Z"
    }
   },
   "outputs": [
    {
     "data": {
      "text/html": [
       "<div>\n",
       "<style scoped>\n",
       "    .dataframe tbody tr th:only-of-type {\n",
       "        vertical-align: middle;\n",
       "    }\n",
       "\n",
       "    .dataframe tbody tr th {\n",
       "        vertical-align: top;\n",
       "    }\n",
       "\n",
       "    .dataframe thead th {\n",
       "        text-align: right;\n",
       "    }\n",
       "</style>\n",
       "<table border=\"1\" class=\"dataframe\">\n",
       "  <thead>\n",
       "    <tr style=\"text-align: right;\">\n",
       "      <th></th>\n",
       "      <th>State</th>\n",
       "      <th>Name</th>\n",
       "      <th>start of term</th>\n",
       "      <th>end of term</th>\n",
       "      <th>party</th>\n",
       "    </tr>\n",
       "  </thead>\n",
       "  <tbody>\n",
       "    <tr>\n",
       "      <th>325</th>\n",
       "      <td>New Jersey</td>\n",
       "      <td>Stuart Rabner</td>\n",
       "      <td>2006</td>\n",
       "      <td>2007</td>\n",
       "      <td>Democrat</td>\n",
       "    </tr>\n",
       "    <tr>\n",
       "      <th>448</th>\n",
       "      <td>Tennessee</td>\n",
       "      <td>Robert E. Cooper, Jr.</td>\n",
       "      <td>2006</td>\n",
       "      <td>2014</td>\n",
       "      <td>Unknown</td>\n",
       "    </tr>\n",
       "    <tr>\n",
       "      <th>524</th>\n",
       "      <td>Wyoming</td>\n",
       "      <td>Bridget Hill</td>\n",
       "      <td>2019</td>\n",
       "      <td>2020</td>\n",
       "      <td>Republican</td>\n",
       "    </tr>\n",
       "  </tbody>\n",
       "</table>\n",
       "</div>"
      ],
      "text/plain": [
       "          State                   Name  start of term  end of term       party\n",
       "325  New Jersey          Stuart Rabner           2006         2007    Democrat\n",
       "448   Tennessee  Robert E. Cooper, Jr.           2006         2014     Unknown\n",
       "524     Wyoming           Bridget Hill           2019         2020  Republican"
      ]
     },
     "execution_count": 109,
     "metadata": {},
     "output_type": "execute_result"
    }
   ],
   "source": [
    "dupes"
   ]
  },
  {
   "cell_type": "markdown",
   "id": "b22dc09c-c8f6-4489-8123-6505c7552b48",
   "metadata": {},
   "source": [
    "Only duplicated 3 instances from frame 1 (sag) to frame 2 (ag_since_1960)"
   ]
  },
  {
   "cell_type": "code",
   "execution_count": 110,
   "id": "f4d139a5-794c-4db1-a0aa-337d41aded3e",
   "metadata": {
    "execution": {
     "iopub.execute_input": "2021-12-02T03:44:49.119597Z",
     "iopub.status.busy": "2021-12-02T03:44:49.119597Z",
     "iopub.status.idle": "2021-12-02T03:44:49.136569Z",
     "shell.execute_reply": "2021-12-02T03:44:49.135569Z",
     "shell.execute_reply.started": "2021-12-02T03:44:49.119597Z"
    }
   },
   "outputs": [],
   "source": [
    "atty_general = atty_general.drop_duplicates()"
   ]
  },
  {
   "cell_type": "code",
   "execution_count": 111,
   "id": "32a00ae1-a88f-4e9f-83eb-7c75e64aa530",
   "metadata": {
    "execution": {
     "iopub.execute_input": "2021-12-02T03:44:52.898844Z",
     "iopub.status.busy": "2021-12-02T03:44:52.898844Z",
     "iopub.status.idle": "2021-12-02T03:44:52.909845Z",
     "shell.execute_reply": "2021-12-02T03:44:52.908871Z",
     "shell.execute_reply.started": "2021-12-02T03:44:52.898844Z"
    }
   },
   "outputs": [
    {
     "data": {
      "text/html": [
       "<div>\n",
       "<style scoped>\n",
       "    .dataframe tbody tr th:only-of-type {\n",
       "        vertical-align: middle;\n",
       "    }\n",
       "\n",
       "    .dataframe tbody tr th {\n",
       "        vertical-align: top;\n",
       "    }\n",
       "\n",
       "    .dataframe thead th {\n",
       "        text-align: right;\n",
       "    }\n",
       "</style>\n",
       "<table border=\"1\" class=\"dataframe\">\n",
       "  <thead>\n",
       "    <tr style=\"text-align: right;\">\n",
       "      <th></th>\n",
       "      <th>State</th>\n",
       "      <th>Name</th>\n",
       "      <th>start of term</th>\n",
       "      <th>end of term</th>\n",
       "      <th>party</th>\n",
       "    </tr>\n",
       "  </thead>\n",
       "  <tbody>\n",
       "  </tbody>\n",
       "</table>\n",
       "</div>"
      ],
      "text/plain": [
       "Empty DataFrame\n",
       "Columns: [State, Name, start of term, end of term, party]\n",
       "Index: []"
      ]
     },
     "execution_count": 111,
     "metadata": {},
     "output_type": "execute_result"
    }
   ],
   "source": [
    "dupes = atty_general[atty_general.duplicated()]\n",
    "dupes"
   ]
  },
  {
   "cell_type": "code",
   "execution_count": 112,
   "id": "03da2841-a8bc-495c-a83b-672d66487d19",
   "metadata": {
    "execution": {
     "iopub.execute_input": "2021-12-02T03:45:01.460827Z",
     "iopub.status.busy": "2021-12-02T03:45:01.459826Z",
     "iopub.status.idle": "2021-12-02T03:45:01.479865Z",
     "shell.execute_reply": "2021-12-02T03:45:01.479865Z",
     "shell.execute_reply.started": "2021-12-02T03:45:01.460827Z"
    }
   },
   "outputs": [
    {
     "name": "stdout",
     "output_type": "stream",
     "text": [
      "<class 'pandas.core.frame.DataFrame'>\n",
      "Int64Index: 537 entries, 0 to 539\n",
      "Data columns (total 5 columns):\n",
      " #   Column         Non-Null Count  Dtype \n",
      "---  ------         --------------  ----- \n",
      " 0   State          537 non-null    object\n",
      " 1   Name           537 non-null    object\n",
      " 2   start of term  537 non-null    int64 \n",
      " 3   end of term    537 non-null    int64 \n",
      " 4   party          537 non-null    object\n",
      "dtypes: int64(2), object(3)\n",
      "memory usage: 25.2+ KB\n"
     ]
    }
   ],
   "source": [
    "atty_general.info()"
   ]
  },
  {
   "cell_type": "code",
   "execution_count": 113,
   "id": "fe786263-49bc-40e4-8021-0a5d6f646cf0",
   "metadata": {
    "execution": {
     "iopub.execute_input": "2021-12-02T03:45:07.288126Z",
     "iopub.status.busy": "2021-12-02T03:45:07.288126Z",
     "iopub.status.idle": "2021-12-02T03:45:07.298124Z",
     "shell.execute_reply": "2021-12-02T03:45:07.298124Z",
     "shell.execute_reply.started": "2021-12-02T03:45:07.288126Z"
    }
   },
   "outputs": [
    {
     "data": {
      "text/plain": [
       "Dave Yost                  2\n",
       "Josh Shapiro               2\n",
       "Letitia James              2\n",
       "Ellen Rosenblum            2\n",
       "Josh Kaul                  2\n",
       "Ken Paxton                 2\n",
       "Alan Wilson                2\n",
       "Patrick Morrisey           2\n",
       "Bob Ferguson               2\n",
       "Dana Nessel                2\n",
       "Lawrence Wasden            2\n",
       "Mark Herring               2\n",
       "Hector Balderas            2\n",
       "Kathy Jennings             1\n",
       "Tim Fox                    1\n",
       "Xavier Becerra             1\n",
       "Mark Brnovich              1\n",
       "Kwame Raoul                1\n",
       "Karl Racine                1\n",
       "Derek Schmidt              1\n",
       "Lynn Fitch                 1\n",
       "Curtis T. Hill             1\n",
       "Sean Reyes                 1\n",
       "Herbert H. Slatery, III    1\n",
       "Leslie Rutledge            1\n",
       "Steve Marshall             1\n",
       "Kevin G. Clarkson          1\n",
       "Peter F. Neronha           1\n",
       "Josh Stein                 1\n",
       "Gordon MacDonald           1\n",
       "Clare Connors              1\n",
       "Ashley Moody               1\n",
       "Phil Weiser                1\n",
       "Peter Neronha              1\n",
       "Jeff Landry                1\n",
       "Mike Hunter                1\n",
       "Daniel Cameron             1\n",
       "Aaron Frey                 1\n",
       "Jason Ravnborg             1\n",
       "Chris Carr                 1\n",
       "Doug Peterson              1\n",
       "Keith Ellison              1\n",
       "Herbert Slatery            1\n",
       "Jason Ravnsborg            1\n",
       "T. J. Donovan              1\n",
       "Aaron Ford                 1\n",
       "William Tong               1\n",
       "Eric S. Schmitt            1\n",
       "TJ Donovan                 1\n",
       "Tom Miller                 1\n",
       "Brian Frosh                1\n",
       "Maura Healey               1\n",
       "Jim Hood                   1\n",
       "Wayne Stenehjem            1\n",
       "Gurbir S. Grewal           1\n",
       "Bridget Hill               1\n",
       "Name: Name, dtype: int64"
      ]
     },
     "execution_count": 113,
     "metadata": {},
     "output_type": "execute_result"
    }
   ],
   "source": [
    "atty_general[atty_general['end of term'] >= 2020]['Name'].value_counts()"
   ]
  },
  {
   "cell_type": "code",
   "execution_count": 114,
   "id": "c93a5384-a18f-420f-a774-8089e66c55ae",
   "metadata": {
    "execution": {
     "iopub.execute_input": "2021-12-02T03:45:11.462295Z",
     "iopub.status.busy": "2021-12-02T03:45:11.462295Z",
     "iopub.status.idle": "2021-12-02T03:45:11.487255Z",
     "shell.execute_reply": "2021-12-02T03:45:11.486253Z",
     "shell.execute_reply.started": "2021-12-02T03:45:11.462295Z"
    }
   },
   "outputs": [
    {
     "data": {
      "text/html": [
       "<div>\n",
       "<style scoped>\n",
       "    .dataframe tbody tr th:only-of-type {\n",
       "        vertical-align: middle;\n",
       "    }\n",
       "\n",
       "    .dataframe tbody tr th {\n",
       "        vertical-align: top;\n",
       "    }\n",
       "\n",
       "    .dataframe thead th {\n",
       "        text-align: right;\n",
       "    }\n",
       "</style>\n",
       "<table border=\"1\" class=\"dataframe\">\n",
       "  <thead>\n",
       "    <tr style=\"text-align: right;\">\n",
       "      <th></th>\n",
       "      <th>State</th>\n",
       "      <th>Name</th>\n",
       "      <th>start of term</th>\n",
       "      <th>end of term</th>\n",
       "      <th>party</th>\n",
       "    </tr>\n",
       "  </thead>\n",
       "  <tbody>\n",
       "    <tr>\n",
       "      <th>42</th>\n",
       "      <td>Wisconsin</td>\n",
       "      <td>Josh Kaul</td>\n",
       "      <td>2019</td>\n",
       "      <td>2023</td>\n",
       "      <td>Democrat</td>\n",
       "    </tr>\n",
       "    <tr>\n",
       "      <th>515</th>\n",
       "      <td>Wisconsin</td>\n",
       "      <td>Josh Kaul</td>\n",
       "      <td>2019</td>\n",
       "      <td>2020</td>\n",
       "      <td>Democrat</td>\n",
       "    </tr>\n",
       "  </tbody>\n",
       "</table>\n",
       "</div>"
      ],
      "text/plain": [
       "         State       Name  start of term  end of term     party\n",
       "42   Wisconsin  Josh Kaul           2019         2023  Democrat\n",
       "515  Wisconsin  Josh Kaul           2019         2020  Democrat"
      ]
     },
     "execution_count": 114,
     "metadata": {},
     "output_type": "execute_result"
    }
   ],
   "source": [
    "atty_general[atty_general['Name'] == 'Josh Kaul']\n"
   ]
  },
  {
   "cell_type": "code",
   "execution_count": 115,
   "id": "63911483-7a57-4456-bc72-68955fadee65",
   "metadata": {
    "execution": {
     "iopub.execute_input": "2021-12-02T03:45:18.571681Z",
     "iopub.status.busy": "2021-12-02T03:45:18.571681Z",
     "iopub.status.idle": "2021-12-02T03:45:18.580681Z",
     "shell.execute_reply": "2021-12-02T03:45:18.580681Z",
     "shell.execute_reply.started": "2021-12-02T03:45:18.571681Z"
    }
   },
   "outputs": [
    {
     "name": "stdout",
     "output_type": "stream",
     "text": [
      "              State               Name  start of term  end of term       party\n",
      "10            Idaho    Lawrence Wasden           2003         2023  Republican\n",
      "12             Iowa         Tom Miller           1995         2023    Democrat\n",
      "19         Michigan        Dana Nessel           2019         2023    Democrat\n",
      "25       New Mexico    Hector Balderas           2015         2023    Democrat\n",
      "26         New York      Letitia James           2019         2023    Democrat\n",
      "29             Ohio          Dave Yost           2019         2023  Republican\n",
      "30           Oregon    Ellen Rosenblum           2012         2025    Democrat\n",
      "31     Pennsylvania       Josh Shapiro           2017         2025    Democrat\n",
      "33   South Carolina        Alan Wilson           2011         2023  Republican\n",
      "36            Texas         Ken Paxton           2015         2023  Republican\n",
      "39         Virginia       Mark Herring           2014         2022    Democrat\n",
      "40       Washington       Bob Ferguson           2013         2025    Democrat\n",
      "41    West Virginia   Patrick Morrisey           2013         2025  Republican\n",
      "42        Wisconsin          Josh Kaul           2019         2023    Democrat\n",
      "68           Alaska  Norman C. Gorsuch           1982         1985     Unknown\n",
      "232           Maine     Janet T. Mills           2013         2019    Democrat\n"
     ]
    }
   ],
   "source": [
    "dupes2 = atty_general[atty_general.duplicated(['State','Name'], keep = 'last')]\n",
    "to_drop = dupes2.index.tolist()\n",
    "print(dupes2)"
   ]
  },
  {
   "cell_type": "code",
   "execution_count": 116,
   "id": "6471052d-67b1-46a3-8426-2eb2ced495cc",
   "metadata": {
    "execution": {
     "iopub.execute_input": "2021-12-02T03:45:20.765680Z",
     "iopub.status.busy": "2021-12-02T03:45:20.765680Z",
     "iopub.status.idle": "2021-12-02T03:45:20.774680Z",
     "shell.execute_reply": "2021-12-02T03:45:20.773681Z",
     "shell.execute_reply.started": "2021-12-02T03:45:20.765680Z"
    }
   },
   "outputs": [
    {
     "data": {
      "text/html": [
       "<div>\n",
       "<style scoped>\n",
       "    .dataframe tbody tr th:only-of-type {\n",
       "        vertical-align: middle;\n",
       "    }\n",
       "\n",
       "    .dataframe tbody tr th {\n",
       "        vertical-align: top;\n",
       "    }\n",
       "\n",
       "    .dataframe thead th {\n",
       "        text-align: right;\n",
       "    }\n",
       "</style>\n",
       "<table border=\"1\" class=\"dataframe\">\n",
       "  <thead>\n",
       "    <tr style=\"text-align: right;\">\n",
       "      <th></th>\n",
       "      <th>State</th>\n",
       "      <th>Name</th>\n",
       "      <th>start of term</th>\n",
       "      <th>end of term</th>\n",
       "      <th>party</th>\n",
       "    </tr>\n",
       "  </thead>\n",
       "  <tbody>\n",
       "    <tr>\n",
       "      <th>68</th>\n",
       "      <td>Alaska</td>\n",
       "      <td>Norman C. Gorsuch</td>\n",
       "      <td>1982</td>\n",
       "      <td>1985</td>\n",
       "      <td>Unknown</td>\n",
       "    </tr>\n",
       "    <tr>\n",
       "      <th>71</th>\n",
       "      <td>Alaska</td>\n",
       "      <td>Norman C. Gorsuch</td>\n",
       "      <td>1973</td>\n",
       "      <td>1974</td>\n",
       "      <td>Unknown</td>\n",
       "    </tr>\n",
       "  </tbody>\n",
       "</table>\n",
       "</div>"
      ],
      "text/plain": [
       "     State               Name  start of term  end of term    party\n",
       "68  Alaska  Norman C. Gorsuch           1982         1985  Unknown\n",
       "71  Alaska  Norman C. Gorsuch           1973         1974  Unknown"
      ]
     },
     "execution_count": 116,
     "metadata": {},
     "output_type": "execute_result"
    }
   ],
   "source": [
    "atty_general[atty_general['Name'] == 'Norman C. Gorsuch']"
   ]
  },
  {
   "cell_type": "code",
   "execution_count": 117,
   "id": "aa839acd-7a9f-4a65-98fb-07ba1302e118",
   "metadata": {
    "execution": {
     "iopub.execute_input": "2021-12-02T03:45:29.395174Z",
     "iopub.status.busy": "2021-12-02T03:45:29.395174Z",
     "iopub.status.idle": "2021-12-02T03:45:29.407173Z",
     "shell.execute_reply": "2021-12-02T03:45:29.407173Z",
     "shell.execute_reply.started": "2021-12-02T03:45:29.395174Z"
    }
   },
   "outputs": [
    {
     "data": {
      "text/plain": [
       "[10, 12, 19, 25, 26, 29, 30, 31, 33, 36, 39, 40, 41, 42, 68, 232]"
      ]
     },
     "execution_count": 117,
     "metadata": {},
     "output_type": "execute_result"
    }
   ],
   "source": [
    "to_drop"
   ]
  },
  {
   "cell_type": "code",
   "execution_count": 118,
   "id": "c081851b-f1cf-4ff5-8a15-85b73e913c50",
   "metadata": {
    "execution": {
     "iopub.execute_input": "2021-12-02T03:45:38.506862Z",
     "iopub.status.busy": "2021-12-02T03:45:38.505846Z",
     "iopub.status.idle": "2021-12-02T03:45:38.520847Z",
     "shell.execute_reply": "2021-12-02T03:45:38.519843Z",
     "shell.execute_reply.started": "2021-12-02T03:45:38.506862Z"
    }
   },
   "outputs": [],
   "source": [
    "for index in to_drop:\n",
    "    atty_general = atty_general.drop(index)"
   ]
  },
  {
   "cell_type": "code",
   "execution_count": 119,
   "id": "ec0e8917-1956-4668-808c-01cba96a973d",
   "metadata": {
    "execution": {
     "iopub.execute_input": "2021-12-02T03:45:42.658803Z",
     "iopub.status.busy": "2021-12-02T03:45:42.657795Z",
     "iopub.status.idle": "2021-12-02T03:45:42.670800Z",
     "shell.execute_reply": "2021-12-02T03:45:42.669830Z",
     "shell.execute_reply.started": "2021-12-02T03:45:42.658803Z"
    }
   },
   "outputs": [
    {
     "data": {
      "text/html": [
       "<div>\n",
       "<style scoped>\n",
       "    .dataframe tbody tr th:only-of-type {\n",
       "        vertical-align: middle;\n",
       "    }\n",
       "\n",
       "    .dataframe tbody tr th {\n",
       "        vertical-align: top;\n",
       "    }\n",
       "\n",
       "    .dataframe thead th {\n",
       "        text-align: right;\n",
       "    }\n",
       "</style>\n",
       "<table border=\"1\" class=\"dataframe\">\n",
       "  <thead>\n",
       "    <tr style=\"text-align: right;\">\n",
       "      <th></th>\n",
       "      <th>State</th>\n",
       "      <th>Name</th>\n",
       "      <th>start of term</th>\n",
       "      <th>end of term</th>\n",
       "      <th>party</th>\n",
       "    </tr>\n",
       "  </thead>\n",
       "  <tbody>\n",
       "  </tbody>\n",
       "</table>\n",
       "</div>"
      ],
      "text/plain": [
       "Empty DataFrame\n",
       "Columns: [State, Name, start of term, end of term, party]\n",
       "Index: []"
      ]
     },
     "execution_count": 119,
     "metadata": {},
     "output_type": "execute_result"
    }
   ],
   "source": [
    "atty_general[atty_general.duplicated(['State','Name'], keep = 'last')]"
   ]
  },
  {
   "cell_type": "code",
   "execution_count": 120,
   "id": "1ef755a3-143c-4916-b12d-3c0d8ccec234",
   "metadata": {
    "execution": {
     "iopub.execute_input": "2021-12-02T03:45:44.705133Z",
     "iopub.status.busy": "2021-12-02T03:45:44.705133Z",
     "iopub.status.idle": "2021-12-02T03:45:44.713135Z",
     "shell.execute_reply": "2021-12-02T03:45:44.712146Z",
     "shell.execute_reply.started": "2021-12-02T03:45:44.705133Z"
    }
   },
   "outputs": [
    {
     "data": {
      "text/plain": [
       "2023    21\n",
       "2021     3\n",
       "2024     3\n",
       "2025     3\n",
       "2022     1\n",
       "Name: end of term, dtype: int64"
      ]
     },
     "execution_count": 120,
     "metadata": {},
     "output_type": "execute_result"
    }
   ],
   "source": [
    "atty_general[atty_general['end of term'] > 2020]['end of term'].value_counts()"
   ]
  },
  {
   "cell_type": "code",
   "execution_count": 121,
   "id": "ad33c55c-9616-4f9c-8120-3bdbe9950390",
   "metadata": {
    "execution": {
     "iopub.execute_input": "2021-12-02T03:45:48.934664Z",
     "iopub.status.busy": "2021-12-02T03:45:48.934664Z",
     "iopub.status.idle": "2021-12-02T03:45:48.954663Z",
     "shell.execute_reply": "2021-12-02T03:45:48.953664Z",
     "shell.execute_reply.started": "2021-12-02T03:45:48.934664Z"
    }
   },
   "outputs": [],
   "source": [
    "atty_general[atty_general['end of term'] > 2020] = atty_general[atty_general['end of term'] > 2020].replace({2023: 2020, 2024 : 2020, 2025: 2020, 2022:2020, 2021:2020})"
   ]
  },
  {
   "cell_type": "code",
   "execution_count": 122,
   "id": "6e54689d-233d-4278-9245-014732c36fec",
   "metadata": {
    "execution": {
     "iopub.execute_input": "2021-12-02T03:45:50.273918Z",
     "iopub.status.busy": "2021-12-02T03:45:50.273918Z",
     "iopub.status.idle": "2021-12-02T03:45:50.282919Z",
     "shell.execute_reply": "2021-12-02T03:45:50.281916Z",
     "shell.execute_reply.started": "2021-12-02T03:45:50.273918Z"
    }
   },
   "outputs": [
    {
     "data": {
      "text/plain": [
       "Series([], Name: end of term, dtype: int64)"
      ]
     },
     "execution_count": 122,
     "metadata": {},
     "output_type": "execute_result"
    }
   ],
   "source": [
    "atty_general[atty_general['end of term'] > 2020]['end of term'].value_counts()"
   ]
  },
  {
   "cell_type": "code",
   "execution_count": 123,
   "id": "2848473d-4392-4233-bee9-f02eea285ee5",
   "metadata": {
    "execution": {
     "iopub.execute_input": "2021-12-02T03:45:52.208922Z",
     "iopub.status.busy": "2021-12-02T03:45:52.208922Z",
     "iopub.status.idle": "2021-12-02T03:45:52.226920Z",
     "shell.execute_reply": "2021-12-02T03:45:52.225938Z",
     "shell.execute_reply.started": "2021-12-02T03:45:52.208922Z"
    }
   },
   "outputs": [],
   "source": [
    "atty_general = atty_general.reset_index()\n",
    "atty_general = atty_general.drop(columns = ['index'])"
   ]
  },
  {
   "cell_type": "code",
   "execution_count": 124,
   "id": "d08a81fd-2f5d-46a6-8cde-e7ba5dda3b23",
   "metadata": {
    "execution": {
     "iopub.execute_input": "2021-12-02T03:45:53.514205Z",
     "iopub.status.busy": "2021-12-02T03:45:53.513177Z",
     "iopub.status.idle": "2021-12-02T03:45:53.535956Z",
     "shell.execute_reply": "2021-12-02T03:45:53.535956Z",
     "shell.execute_reply.started": "2021-12-02T03:45:53.514205Z"
    }
   },
   "outputs": [
    {
     "name": "stdout",
     "output_type": "stream",
     "text": [
      "<class 'pandas.core.frame.DataFrame'>\n",
      "RangeIndex: 521 entries, 0 to 520\n",
      "Data columns (total 5 columns):\n",
      " #   Column         Non-Null Count  Dtype \n",
      "---  ------         --------------  ----- \n",
      " 0   State          521 non-null    object\n",
      " 1   Name           521 non-null    object\n",
      " 2   start of term  521 non-null    int64 \n",
      " 3   end of term    521 non-null    int64 \n",
      " 4   party          521 non-null    object\n",
      "dtypes: int64(2), object(3)\n",
      "memory usage: 20.5+ KB\n"
     ]
    }
   ],
   "source": [
    "atty_general.info()"
   ]
  },
  {
   "cell_type": "markdown",
   "id": "ddfe0bf6-6f56-4b97-9260-bc4b95202f1f",
   "metadata": {
    "tags": []
   },
   "source": [
    "### Expanding the list of Attorney Generals to one row per year per instance. \n",
    "In this processing section. Our aim it give each year its own label so it could be used in our predictor series which is also indexed by year since 1979 by state.\n",
    "1. expand all rows equal to the amount of years a person spent in office. \n",
    "\n",
    "1. determine which party had control in a given year. if only one party was identified then that cell has the same value as the political affiliation as the lone member; `Republican`, `Democratic`, or `Unknown`. \n",
    "1. if more than one person was in office during a year -and- their political party affiliation are not the same, then the category becomes `Mixed`"
   ]
  },
  {
   "cell_type": "code",
   "execution_count": 125,
   "id": "43f62428-68bc-4950-9f66-bf94a7850433",
   "metadata": {
    "execution": {
     "iopub.execute_input": "2021-12-02T03:46:10.737230Z",
     "iopub.status.busy": "2021-12-02T03:46:10.736196Z",
     "iopub.status.idle": "2021-12-02T03:46:17.245354Z",
     "shell.execute_reply": "2021-12-02T03:46:17.244556Z",
     "shell.execute_reply.started": "2021-12-02T03:46:10.737230Z"
    }
   },
   "outputs": [],
   "source": [
    "output = False\n",
    "for i in range(len(atty_general)):\n",
    "    for j in range(atty_general.loc[i,'start of term'], atty_general.loc[i,'end of term']+1):\n",
    "        #print(clean_ag.loc[i,'Name'],j)\n",
    "        if output is False:\n",
    "            output = pd.DataFrame({'State' : atty_general.loc[i, 'State'],\n",
    "                                   'Name': atty_general.loc[i,'Name'], \n",
    "                                   'party': atty_general.loc[i,'party'],\n",
    "                                   'year': j}, index = [i])\n",
    "        else:\n",
    "            output = output.append({'State' : atty_general.loc[i, 'State'],\n",
    "                                    'Name': atty_general.loc[i,'Name'], \n",
    "                                   'party': atty_general.loc[i,'party'],\n",
    "                                   'year': j}, ignore_index=True)"
   ]
  },
  {
   "cell_type": "code",
   "execution_count": 126,
   "id": "36bdc370-7fca-48f0-9848-3cb93ba84096",
   "metadata": {
    "execution": {
     "iopub.execute_input": "2021-12-02T03:46:22.944843Z",
     "iopub.status.busy": "2021-12-02T03:46:22.944843Z",
     "iopub.status.idle": "2021-12-02T03:46:22.960844Z",
     "shell.execute_reply": "2021-12-02T03:46:22.959882Z",
     "shell.execute_reply.started": "2021-12-02T03:46:22.944843Z"
    }
   },
   "outputs": [
    {
     "name": "stdout",
     "output_type": "stream",
     "text": [
      "<class 'pandas.core.frame.DataFrame'>\n",
      "RangeIndex: 3210 entries, 0 to 3209\n",
      "Data columns (total 4 columns):\n",
      " #   Column  Non-Null Count  Dtype \n",
      "---  ------  --------------  ----- \n",
      " 0   State   3210 non-null   object\n",
      " 1   Name    3210 non-null   object\n",
      " 2   party   3210 non-null   object\n",
      " 3   year    3210 non-null   int64 \n",
      "dtypes: int64(1), object(3)\n",
      "memory usage: 100.4+ KB\n"
     ]
    }
   ],
   "source": [
    "output.info()"
   ]
  },
  {
   "cell_type": "code",
   "execution_count": 127,
   "id": "62e1481e-04ac-4a4c-b2f4-322c3d713b06",
   "metadata": {
    "execution": {
     "iopub.execute_input": "2021-12-02T03:46:23.576550Z",
     "iopub.status.busy": "2021-12-02T03:46:23.575555Z",
     "iopub.status.idle": "2021-12-02T03:46:23.598534Z",
     "shell.execute_reply": "2021-12-02T03:46:23.597530Z",
     "shell.execute_reply.started": "2021-12-02T03:46:23.576550Z"
    }
   },
   "outputs": [
    {
     "data": {
      "text/html": [
       "<div>\n",
       "<style scoped>\n",
       "    .dataframe tbody tr th:only-of-type {\n",
       "        vertical-align: middle;\n",
       "    }\n",
       "\n",
       "    .dataframe tbody tr th {\n",
       "        vertical-align: top;\n",
       "    }\n",
       "\n",
       "    .dataframe thead th {\n",
       "        text-align: right;\n",
       "    }\n",
       "</style>\n",
       "<table border=\"1\" class=\"dataframe\">\n",
       "  <thead>\n",
       "    <tr style=\"text-align: right;\">\n",
       "      <th></th>\n",
       "      <th>State</th>\n",
       "      <th>Name</th>\n",
       "      <th>party</th>\n",
       "      <th>year</th>\n",
       "    </tr>\n",
       "  </thead>\n",
       "  <tbody>\n",
       "    <tr>\n",
       "      <th>192</th>\n",
       "      <td>Alabama</td>\n",
       "      <td>Richmond M. Flowers</td>\n",
       "      <td>Democrat</td>\n",
       "      <td>1963</td>\n",
       "    </tr>\n",
       "    <tr>\n",
       "      <th>193</th>\n",
       "      <td>Alabama</td>\n",
       "      <td>Richmond M. Flowers</td>\n",
       "      <td>Democrat</td>\n",
       "      <td>1964</td>\n",
       "    </tr>\n",
       "    <tr>\n",
       "      <th>194</th>\n",
       "      <td>Alabama</td>\n",
       "      <td>Richmond M. Flowers</td>\n",
       "      <td>Democrat</td>\n",
       "      <td>1965</td>\n",
       "    </tr>\n",
       "    <tr>\n",
       "      <th>195</th>\n",
       "      <td>Alabama</td>\n",
       "      <td>Richmond M. Flowers</td>\n",
       "      <td>Democrat</td>\n",
       "      <td>1966</td>\n",
       "    </tr>\n",
       "    <tr>\n",
       "      <th>187</th>\n",
       "      <td>Alabama</td>\n",
       "      <td>MacDonald Gallion</td>\n",
       "      <td>Democrat</td>\n",
       "      <td>1967</td>\n",
       "    </tr>\n",
       "    <tr>\n",
       "      <th>196</th>\n",
       "      <td>Alabama</td>\n",
       "      <td>Richmond M. Flowers</td>\n",
       "      <td>Democrat</td>\n",
       "      <td>1967</td>\n",
       "    </tr>\n",
       "    <tr>\n",
       "      <th>188</th>\n",
       "      <td>Alabama</td>\n",
       "      <td>MacDonald Gallion</td>\n",
       "      <td>Democrat</td>\n",
       "      <td>1968</td>\n",
       "    </tr>\n",
       "    <tr>\n",
       "      <th>189</th>\n",
       "      <td>Alabama</td>\n",
       "      <td>MacDonald Gallion</td>\n",
       "      <td>Democrat</td>\n",
       "      <td>1969</td>\n",
       "    </tr>\n",
       "    <tr>\n",
       "      <th>190</th>\n",
       "      <td>Alabama</td>\n",
       "      <td>MacDonald Gallion</td>\n",
       "      <td>Democrat</td>\n",
       "      <td>1970</td>\n",
       "    </tr>\n",
       "    <tr>\n",
       "      <th>178</th>\n",
       "      <td>Alabama</td>\n",
       "      <td>William J. Baxley</td>\n",
       "      <td>Democrat</td>\n",
       "      <td>1971</td>\n",
       "    </tr>\n",
       "    <tr>\n",
       "      <th>191</th>\n",
       "      <td>Alabama</td>\n",
       "      <td>MacDonald Gallion</td>\n",
       "      <td>Democrat</td>\n",
       "      <td>1971</td>\n",
       "    </tr>\n",
       "    <tr>\n",
       "      <th>179</th>\n",
       "      <td>Alabama</td>\n",
       "      <td>William J. Baxley</td>\n",
       "      <td>Democrat</td>\n",
       "      <td>1972</td>\n",
       "    </tr>\n",
       "    <tr>\n",
       "      <th>180</th>\n",
       "      <td>Alabama</td>\n",
       "      <td>William J. Baxley</td>\n",
       "      <td>Democrat</td>\n",
       "      <td>1973</td>\n",
       "    </tr>\n",
       "    <tr>\n",
       "      <th>181</th>\n",
       "      <td>Alabama</td>\n",
       "      <td>William J. Baxley</td>\n",
       "      <td>Democrat</td>\n",
       "      <td>1974</td>\n",
       "    </tr>\n",
       "    <tr>\n",
       "      <th>182</th>\n",
       "      <td>Alabama</td>\n",
       "      <td>William J. Baxley</td>\n",
       "      <td>Democrat</td>\n",
       "      <td>1975</td>\n",
       "    </tr>\n",
       "    <tr>\n",
       "      <th>183</th>\n",
       "      <td>Alabama</td>\n",
       "      <td>William J. Baxley</td>\n",
       "      <td>Democrat</td>\n",
       "      <td>1976</td>\n",
       "    </tr>\n",
       "    <tr>\n",
       "      <th>184</th>\n",
       "      <td>Alabama</td>\n",
       "      <td>William J. Baxley</td>\n",
       "      <td>Democrat</td>\n",
       "      <td>1977</td>\n",
       "    </tr>\n",
       "    <tr>\n",
       "      <th>185</th>\n",
       "      <td>Alabama</td>\n",
       "      <td>William J. Baxley</td>\n",
       "      <td>Democrat</td>\n",
       "      <td>1978</td>\n",
       "    </tr>\n",
       "    <tr>\n",
       "      <th>169</th>\n",
       "      <td>Alabama</td>\n",
       "      <td>Charles A. Graddick</td>\n",
       "      <td>Democrat</td>\n",
       "      <td>1979</td>\n",
       "    </tr>\n",
       "    <tr>\n",
       "      <th>186</th>\n",
       "      <td>Alabama</td>\n",
       "      <td>William J. Baxley</td>\n",
       "      <td>Democrat</td>\n",
       "      <td>1979</td>\n",
       "    </tr>\n",
       "    <tr>\n",
       "      <th>170</th>\n",
       "      <td>Alabama</td>\n",
       "      <td>Charles A. Graddick</td>\n",
       "      <td>Democrat</td>\n",
       "      <td>1980</td>\n",
       "    </tr>\n",
       "    <tr>\n",
       "      <th>171</th>\n",
       "      <td>Alabama</td>\n",
       "      <td>Charles A. Graddick</td>\n",
       "      <td>Democrat</td>\n",
       "      <td>1981</td>\n",
       "    </tr>\n",
       "    <tr>\n",
       "      <th>172</th>\n",
       "      <td>Alabama</td>\n",
       "      <td>Charles A. Graddick</td>\n",
       "      <td>Democrat</td>\n",
       "      <td>1982</td>\n",
       "    </tr>\n",
       "    <tr>\n",
       "      <th>173</th>\n",
       "      <td>Alabama</td>\n",
       "      <td>Charles A. Graddick</td>\n",
       "      <td>Democrat</td>\n",
       "      <td>1983</td>\n",
       "    </tr>\n",
       "    <tr>\n",
       "      <th>174</th>\n",
       "      <td>Alabama</td>\n",
       "      <td>Charles A. Graddick</td>\n",
       "      <td>Democrat</td>\n",
       "      <td>1984</td>\n",
       "    </tr>\n",
       "  </tbody>\n",
       "</table>\n",
       "</div>"
      ],
      "text/plain": [
       "       State                 Name     party  year\n",
       "192  Alabama  Richmond M. Flowers  Democrat  1963\n",
       "193  Alabama  Richmond M. Flowers  Democrat  1964\n",
       "194  Alabama  Richmond M. Flowers  Democrat  1965\n",
       "195  Alabama  Richmond M. Flowers  Democrat  1966\n",
       "187  Alabama    MacDonald Gallion  Democrat  1967\n",
       "196  Alabama  Richmond M. Flowers  Democrat  1967\n",
       "188  Alabama    MacDonald Gallion  Democrat  1968\n",
       "189  Alabama    MacDonald Gallion  Democrat  1969\n",
       "190  Alabama    MacDonald Gallion  Democrat  1970\n",
       "178  Alabama    William J. Baxley  Democrat  1971\n",
       "191  Alabama    MacDonald Gallion  Democrat  1971\n",
       "179  Alabama    William J. Baxley  Democrat  1972\n",
       "180  Alabama    William J. Baxley  Democrat  1973\n",
       "181  Alabama    William J. Baxley  Democrat  1974\n",
       "182  Alabama    William J. Baxley  Democrat  1975\n",
       "183  Alabama    William J. Baxley  Democrat  1976\n",
       "184  Alabama    William J. Baxley  Democrat  1977\n",
       "185  Alabama    William J. Baxley  Democrat  1978\n",
       "169  Alabama  Charles A. Graddick  Democrat  1979\n",
       "186  Alabama    William J. Baxley  Democrat  1979\n",
       "170  Alabama  Charles A. Graddick  Democrat  1980\n",
       "171  Alabama  Charles A. Graddick  Democrat  1981\n",
       "172  Alabama  Charles A. Graddick  Democrat  1982\n",
       "173  Alabama  Charles A. Graddick  Democrat  1983\n",
       "174  Alabama  Charles A. Graddick  Democrat  1984"
      ]
     },
     "execution_count": 127,
     "metadata": {},
     "output_type": "execute_result"
    }
   ],
   "source": [
    "output.sort_values(by = ['State', 'year']).head(25)"
   ]
  },
  {
   "cell_type": "markdown",
   "id": "1e902b55-4247-427d-966c-485b36c6cc70",
   "metadata": {},
   "source": [
    "Quite a lot of data here. Pruning to match the shape of our basic predictor data. Masking to retrain all rows of 1979 and greater prior to any further transformations. "
   ]
  },
  {
   "cell_type": "code",
   "execution_count": 293,
   "id": "329b6247-f020-4ae7-a68a-72e1b081d998",
   "metadata": {
    "execution": {
     "iopub.execute_input": "2021-12-02T04:23:30.727143Z",
     "iopub.status.busy": "2021-12-02T04:23:30.727143Z",
     "iopub.status.idle": "2021-12-02T04:23:30.739139Z",
     "shell.execute_reply": "2021-12-02T04:23:30.738176Z",
     "shell.execute_reply.started": "2021-12-02T04:23:30.727143Z"
    },
    "tags": []
   },
   "outputs": [],
   "source": [
    "ag_since_79 = output[output['year'] > 1978].copy()"
   ]
  },
  {
   "cell_type": "code",
   "execution_count": 294,
   "id": "c7a1aeda-a8a9-4d48-9141-b40f819a00ad",
   "metadata": {
    "execution": {
     "iopub.execute_input": "2021-12-02T04:23:30.965016Z",
     "iopub.status.busy": "2021-12-02T04:23:30.965016Z",
     "iopub.status.idle": "2021-12-02T04:23:30.987985Z",
     "shell.execute_reply": "2021-12-02T04:23:30.987018Z",
     "shell.execute_reply.started": "2021-12-02T04:23:30.965016Z"
    },
    "tags": []
   },
   "outputs": [
    {
     "name": "stdout",
     "output_type": "stream",
     "text": [
      "<class 'pandas.core.frame.DataFrame'>\n",
      "Int64Index: 2394 entries, 0 to 3209\n",
      "Data columns (total 4 columns):\n",
      " #   Column  Non-Null Count  Dtype \n",
      "---  ------  --------------  ----- \n",
      " 0   State   2394 non-null   object\n",
      " 1   Name    2394 non-null   object\n",
      " 2   party   2394 non-null   object\n",
      " 3   year    2394 non-null   int64 \n",
      "dtypes: int64(1), object(3)\n",
      "memory usage: 93.5+ KB\n"
     ]
    }
   ],
   "source": [
    "ag_since_79.info()"
   ]
  },
  {
   "cell_type": "code",
   "execution_count": 295,
   "id": "fb7f8d69-beaa-4041-9bd5-f78b97ff4002",
   "metadata": {
    "execution": {
     "iopub.execute_input": "2021-12-02T04:23:32.567924Z",
     "iopub.status.busy": "2021-12-02T04:23:32.567924Z",
     "iopub.status.idle": "2021-12-02T04:23:32.578920Z",
     "shell.execute_reply": "2021-12-02T04:23:32.577923Z",
     "shell.execute_reply.started": "2021-12-02T04:23:32.567924Z"
    },
    "tags": []
   },
   "outputs": [
    {
     "data": {
      "text/html": [
       "<div>\n",
       "<style scoped>\n",
       "    .dataframe tbody tr th:only-of-type {\n",
       "        vertical-align: middle;\n",
       "    }\n",
       "\n",
       "    .dataframe tbody tr th {\n",
       "        vertical-align: top;\n",
       "    }\n",
       "\n",
       "    .dataframe thead th {\n",
       "        text-align: right;\n",
       "    }\n",
       "</style>\n",
       "<table border=\"1\" class=\"dataframe\">\n",
       "  <thead>\n",
       "    <tr style=\"text-align: right;\">\n",
       "      <th></th>\n",
       "      <th>State</th>\n",
       "      <th>Name</th>\n",
       "      <th>party</th>\n",
       "      <th>year</th>\n",
       "    </tr>\n",
       "  </thead>\n",
       "  <tbody>\n",
       "    <tr>\n",
       "      <th>0</th>\n",
       "      <td>Alabama</td>\n",
       "      <td>Steve Marshall</td>\n",
       "      <td>Republican</td>\n",
       "      <td>2017</td>\n",
       "    </tr>\n",
       "    <tr>\n",
       "      <th>1</th>\n",
       "      <td>Alabama</td>\n",
       "      <td>Steve Marshall</td>\n",
       "      <td>Republican</td>\n",
       "      <td>2018</td>\n",
       "    </tr>\n",
       "    <tr>\n",
       "      <th>2</th>\n",
       "      <td>Alabama</td>\n",
       "      <td>Steve Marshall</td>\n",
       "      <td>Republican</td>\n",
       "      <td>2019</td>\n",
       "    </tr>\n",
       "    <tr>\n",
       "      <th>3</th>\n",
       "      <td>Alabama</td>\n",
       "      <td>Steve Marshall</td>\n",
       "      <td>Republican</td>\n",
       "      <td>2020</td>\n",
       "    </tr>\n",
       "    <tr>\n",
       "      <th>4</th>\n",
       "      <td>Arizona</td>\n",
       "      <td>Mark Brnovich</td>\n",
       "      <td>Republican</td>\n",
       "      <td>2015</td>\n",
       "    </tr>\n",
       "  </tbody>\n",
       "</table>\n",
       "</div>"
      ],
      "text/plain": [
       "     State            Name       party  year\n",
       "0  Alabama  Steve Marshall  Republican  2017\n",
       "1  Alabama  Steve Marshall  Republican  2018\n",
       "2  Alabama  Steve Marshall  Republican  2019\n",
       "3  Alabama  Steve Marshall  Republican  2020\n",
       "4  Arizona   Mark Brnovich  Republican  2015"
      ]
     },
     "execution_count": 295,
     "metadata": {},
     "output_type": "execute_result"
    }
   ],
   "source": [
    "ag_since_79.head()"
   ]
  },
  {
   "cell_type": "code",
   "execution_count": 296,
   "id": "5e4c443f-265a-45ad-9d41-10ef3ca201f9",
   "metadata": {
    "execution": {
     "iopub.execute_input": "2021-12-02T04:23:33.551760Z",
     "iopub.status.busy": "2021-12-02T04:23:33.550796Z",
     "iopub.status.idle": "2021-12-02T04:23:33.562755Z",
     "shell.execute_reply": "2021-12-02T04:23:33.561751Z",
     "shell.execute_reply.started": "2021-12-02T04:23:33.551760Z"
    },
    "tags": []
   },
   "outputs": [],
   "source": [
    "states_and_years = ag_since_79.copy()"
   ]
  },
  {
   "cell_type": "code",
   "execution_count": 297,
   "id": "f3802eb7-9918-4f3d-9363-cea13a4c240c",
   "metadata": {
    "execution": {
     "iopub.execute_input": "2021-12-02T04:23:35.327528Z",
     "iopub.status.busy": "2021-12-02T04:23:35.327528Z",
     "iopub.status.idle": "2021-12-02T04:23:35.333533Z",
     "shell.execute_reply": "2021-12-02T04:23:35.332527Z",
     "shell.execute_reply.started": "2021-12-02T04:23:35.327528Z"
    },
    "tags": []
   },
   "outputs": [],
   "source": [
    "states_and_years = states_and_years[['State','year']]"
   ]
  },
  {
   "cell_type": "code",
   "execution_count": 298,
   "id": "25451733-4596-4d98-9863-7926425c7af1",
   "metadata": {
    "execution": {
     "iopub.execute_input": "2021-12-02T04:23:36.858189Z",
     "iopub.status.busy": "2021-12-02T04:23:36.858189Z",
     "iopub.status.idle": "2021-12-02T04:23:36.871171Z",
     "shell.execute_reply": "2021-12-02T04:23:36.870194Z",
     "shell.execute_reply.started": "2021-12-02T04:23:36.858189Z"
    },
    "tags": []
   },
   "outputs": [],
   "source": [
    "states_and_years.drop_duplicates(inplace=True)"
   ]
  },
  {
   "cell_type": "code",
   "execution_count": 300,
   "id": "dea31438-3df3-4c27-8d49-80f9ead58903",
   "metadata": {
    "execution": {
     "iopub.execute_input": "2021-12-02T04:23:57.788067Z",
     "iopub.status.busy": "2021-12-02T04:23:57.787036Z",
     "iopub.status.idle": "2021-12-02T04:23:57.805058Z",
     "shell.execute_reply": "2021-12-02T04:23:57.804070Z",
     "shell.execute_reply.started": "2021-12-02T04:23:57.788067Z"
    },
    "tags": []
   },
   "outputs": [],
   "source": [
    "states_and_years.sort_values(['State','year'],inplace=True)"
   ]
  },
  {
   "cell_type": "code",
   "execution_count": 302,
   "id": "20bb1fce-2588-41f1-9b0d-f8cd30201441",
   "metadata": {
    "execution": {
     "iopub.execute_input": "2021-12-02T04:24:07.901247Z",
     "iopub.status.busy": "2021-12-02T04:24:07.901247Z",
     "iopub.status.idle": "2021-12-02T04:24:07.915247Z",
     "shell.execute_reply": "2021-12-02T04:24:07.914286Z",
     "shell.execute_reply.started": "2021-12-02T04:24:07.901247Z"
    },
    "tags": []
   },
   "outputs": [],
   "source": [
    "states_and_years.reset_index(inplace=True)"
   ]
  },
  {
   "cell_type": "code",
   "execution_count": 306,
   "id": "aaec5146-6915-47fc-acb5-48c706f4bd92",
   "metadata": {
    "execution": {
     "iopub.execute_input": "2021-12-02T04:24:32.257485Z",
     "iopub.status.busy": "2021-12-02T04:24:32.257485Z",
     "iopub.status.idle": "2021-12-02T04:24:32.277495Z",
     "shell.execute_reply": "2021-12-02T04:24:32.276487Z",
     "shell.execute_reply.started": "2021-12-02T04:24:32.257485Z"
    },
    "tags": []
   },
   "outputs": [],
   "source": [
    "states_and_years.drop(columns=['index'], inplace=True)"
   ]
  },
  {
   "cell_type": "code",
   "execution_count": 307,
   "id": "c74caf86-4ac3-4f58-a980-8d77d8c078a8",
   "metadata": {
    "execution": {
     "iopub.execute_input": "2021-12-02T04:24:36.039532Z",
     "iopub.status.busy": "2021-12-02T04:24:36.038504Z",
     "iopub.status.idle": "2021-12-02T04:24:36.066502Z",
     "shell.execute_reply": "2021-12-02T04:24:36.065540Z",
     "shell.execute_reply.started": "2021-12-02T04:24:36.039532Z"
    },
    "tags": []
   },
   "outputs": [
    {
     "data": {
      "text/html": [
       "<div>\n",
       "<style scoped>\n",
       "    .dataframe tbody tr th:only-of-type {\n",
       "        vertical-align: middle;\n",
       "    }\n",
       "\n",
       "    .dataframe tbody tr th {\n",
       "        vertical-align: top;\n",
       "    }\n",
       "\n",
       "    .dataframe thead th {\n",
       "        text-align: right;\n",
       "    }\n",
       "</style>\n",
       "<table border=\"1\" class=\"dataframe\">\n",
       "  <thead>\n",
       "    <tr style=\"text-align: right;\">\n",
       "      <th></th>\n",
       "      <th>State</th>\n",
       "      <th>year</th>\n",
       "    </tr>\n",
       "  </thead>\n",
       "  <tbody>\n",
       "    <tr>\n",
       "      <th>0</th>\n",
       "      <td>Alabama</td>\n",
       "      <td>1979</td>\n",
       "    </tr>\n",
       "    <tr>\n",
       "      <th>1</th>\n",
       "      <td>Alabama</td>\n",
       "      <td>1980</td>\n",
       "    </tr>\n",
       "    <tr>\n",
       "      <th>2</th>\n",
       "      <td>Alabama</td>\n",
       "      <td>1981</td>\n",
       "    </tr>\n",
       "    <tr>\n",
       "      <th>3</th>\n",
       "      <td>Alabama</td>\n",
       "      <td>1982</td>\n",
       "    </tr>\n",
       "    <tr>\n",
       "      <th>4</th>\n",
       "      <td>Alabama</td>\n",
       "      <td>1983</td>\n",
       "    </tr>\n",
       "    <tr>\n",
       "      <th>...</th>\n",
       "      <td>...</td>\n",
       "      <td>...</td>\n",
       "    </tr>\n",
       "    <tr>\n",
       "      <th>2079</th>\n",
       "      <td>Wyoming</td>\n",
       "      <td>2016</td>\n",
       "    </tr>\n",
       "    <tr>\n",
       "      <th>2080</th>\n",
       "      <td>Wyoming</td>\n",
       "      <td>2017</td>\n",
       "    </tr>\n",
       "    <tr>\n",
       "      <th>2081</th>\n",
       "      <td>Wyoming</td>\n",
       "      <td>2018</td>\n",
       "    </tr>\n",
       "    <tr>\n",
       "      <th>2082</th>\n",
       "      <td>Wyoming</td>\n",
       "      <td>2019</td>\n",
       "    </tr>\n",
       "    <tr>\n",
       "      <th>2083</th>\n",
       "      <td>Wyoming</td>\n",
       "      <td>2020</td>\n",
       "    </tr>\n",
       "  </tbody>\n",
       "</table>\n",
       "<p>2084 rows × 2 columns</p>\n",
       "</div>"
      ],
      "text/plain": [
       "        State  year\n",
       "0     Alabama  1979\n",
       "1     Alabama  1980\n",
       "2     Alabama  1981\n",
       "3     Alabama  1982\n",
       "4     Alabama  1983\n",
       "...       ...   ...\n",
       "2079  Wyoming  2016\n",
       "2080  Wyoming  2017\n",
       "2081  Wyoming  2018\n",
       "2082  Wyoming  2019\n",
       "2083  Wyoming  2020\n",
       "\n",
       "[2084 rows x 2 columns]"
      ]
     },
     "execution_count": 307,
     "metadata": {},
     "output_type": "execute_result"
    }
   ],
   "source": [
    "states_and_years"
   ]
  },
  {
   "cell_type": "code",
   "execution_count": 230,
   "id": "d231c84c-121b-438b-a1a0-d86f8040447c",
   "metadata": {
    "execution": {
     "iopub.execute_input": "2021-12-02T04:13:25.280789Z",
     "iopub.status.busy": "2021-12-02T04:13:25.279782Z",
     "iopub.status.idle": "2021-12-02T04:13:25.290786Z",
     "shell.execute_reply": "2021-12-02T04:13:25.289782Z",
     "shell.execute_reply.started": "2021-12-02T04:13:25.280789Z"
    },
    "tags": []
   },
   "outputs": [],
   "source": [
    "def get_ag_control(state, year):\n",
    "    df = ag_since_79.copy()\n",
    "    df = df[(df['State']==state) & (df['year']==year)]\n",
    "    count_R = len(df[df['party']=='Republican'])\n",
    "    count_D = len(df[df['party']=='Democrat'])\n",
    "    count_U = len(df[df['party']=='Unknown'])\n",
    "    \n",
    "    if count_U > 0:\n",
    "        return 'Unknown'\n",
    "    elif count_R > 0 and count_D > 0:\n",
    "        return 'Mixed'\n",
    "    elif count_R > 0:\n",
    "        return 'Republican'\n",
    "    else:\n",
    "        return 'Democrat'"
   ]
  },
  {
   "cell_type": "code",
   "execution_count": 309,
   "id": "44fdd2b7-d235-49e9-a13b-37e570b1f549",
   "metadata": {
    "execution": {
     "iopub.execute_input": "2021-12-02T04:26:13.042080Z",
     "iopub.status.busy": "2021-12-02T04:26:13.042080Z",
     "iopub.status.idle": "2021-12-02T04:26:16.878248Z",
     "shell.execute_reply": "2021-12-02T04:26:16.878248Z",
     "shell.execute_reply.started": "2021-12-02T04:26:13.042080Z"
    },
    "tags": []
   },
   "outputs": [],
   "source": [
    "control = []\n",
    "for i in range(len(states_and_years)):\n",
    "    control.control(get_ag_counts(states_and_years.loc[i,'State'],states_and_years.loc[i,'year']))"
   ]
  },
  {
   "cell_type": "code",
   "execution_count": 315,
   "id": "2172aaed-8859-4c20-aa65-4b97b6327d63",
   "metadata": {
    "execution": {
     "iopub.execute_input": "2021-12-02T04:27:20.810788Z",
     "iopub.status.busy": "2021-12-02T04:27:20.810788Z",
     "iopub.status.idle": "2021-12-02T04:27:20.817790Z",
     "shell.execute_reply": "2021-12-02T04:27:20.816787Z",
     "shell.execute_reply.started": "2021-12-02T04:27:20.810788Z"
    },
    "tags": []
   },
   "outputs": [],
   "source": [
    "states_and_years['control'] = control"
   ]
  },
  {
   "cell_type": "code",
   "execution_count": 317,
   "id": "4d0001b8-866a-4ae4-89e3-f637d7e4d654",
   "metadata": {
    "execution": {
     "iopub.execute_input": "2021-12-02T04:27:39.191707Z",
     "iopub.status.busy": "2021-12-02T04:27:39.191707Z",
     "iopub.status.idle": "2021-12-02T04:27:39.204745Z",
     "shell.execute_reply": "2021-12-02T04:27:39.204745Z",
     "shell.execute_reply.started": "2021-12-02T04:27:39.191707Z"
    },
    "tags": []
   },
   "outputs": [
    {
     "data": {
      "text/plain": [
       "Democrat      854\n",
       "Unknown       663\n",
       "Republican    519\n",
       "Mixed          48\n",
       "Name: control, dtype: int64"
      ]
     },
     "execution_count": 317,
     "metadata": {},
     "output_type": "execute_result"
    }
   ],
   "source": [
    "states_and_years['control'].value_counts()"
   ]
  },
  {
   "cell_type": "code",
   "execution_count": 320,
   "id": "d7999cdc-8e28-4e5e-8136-502b54b914c5",
   "metadata": {
    "execution": {
     "iopub.execute_input": "2021-12-02T04:32:00.404692Z",
     "iopub.status.busy": "2021-12-02T04:32:00.404692Z",
     "iopub.status.idle": "2021-12-02T04:32:00.427693Z",
     "shell.execute_reply": "2021-12-02T04:32:00.426691Z",
     "shell.execute_reply.started": "2021-12-02T04:32:00.404692Z"
    },
    "tags": []
   },
   "outputs": [],
   "source": [
    "states_and_years = pd.get_dummies(states_and_years,columns=['control'])"
   ]
  },
  {
   "cell_type": "code",
   "execution_count": 322,
   "id": "5acce290-6b8f-4b93-b86a-26bab6836afd",
   "metadata": {
    "execution": {
     "iopub.execute_input": "2021-12-02T04:32:22.621297Z",
     "iopub.status.busy": "2021-12-02T04:32:22.620332Z",
     "iopub.status.idle": "2021-12-02T04:32:22.631298Z",
     "shell.execute_reply": "2021-12-02T04:32:22.630331Z",
     "shell.execute_reply.started": "2021-12-02T04:32:22.621297Z"
    },
    "tags": []
   },
   "outputs": [],
   "source": [
    "states_and_years.columns = ['State', 'year', 'ag_Democrat', 'ag_Mixed',\n",
    "       'ag_Republican', 'ag_Unknown']"
   ]
  },
  {
   "cell_type": "code",
   "execution_count": 324,
   "id": "e5276be1-68f2-41c6-b130-07bbac23809d",
   "metadata": {
    "execution": {
     "iopub.execute_input": "2021-12-02T04:32:30.035408Z",
     "iopub.status.busy": "2021-12-02T04:32:30.035408Z",
     "iopub.status.idle": "2021-12-02T04:32:30.053405Z",
     "shell.execute_reply": "2021-12-02T04:32:30.052404Z",
     "shell.execute_reply.started": "2021-12-02T04:32:30.035408Z"
    },
    "tags": []
   },
   "outputs": [
    {
     "data": {
      "text/plain": [
       "(2084, 6)"
      ]
     },
     "execution_count": 324,
     "metadata": {},
     "output_type": "execute_result"
    }
   ],
   "source": [
    "states_and_years.shape"
   ]
  },
  {
   "cell_type": "code",
   "execution_count": 325,
   "id": "9737032f-9074-482a-831c-c2270ccb12af",
   "metadata": {
    "execution": {
     "iopub.execute_input": "2021-12-02T04:32:33.004626Z",
     "iopub.status.busy": "2021-12-02T04:32:33.004626Z",
     "iopub.status.idle": "2021-12-02T04:32:33.027592Z",
     "shell.execute_reply": "2021-12-02T04:32:33.026594Z",
     "shell.execute_reply.started": "2021-12-02T04:32:33.004626Z"
    },
    "tags": []
   },
   "outputs": [],
   "source": [
    "states_and_years.to_csv('../data/AG.csv',index = False)"
   ]
  }
 ],
 "metadata": {
  "kernelspec": {
   "display_name": "Python 3",
   "language": "python",
   "name": "python3"
  },
  "language_info": {
   "codemirror_mode": {
    "name": "ipython",
    "version": 3
   },
   "file_extension": ".py",
   "mimetype": "text/x-python",
   "name": "python",
   "nbconvert_exporter": "python",
   "pygments_lexer": "ipython3",
   "version": "3.8.8"
  }
 },
 "nbformat": 4,
 "nbformat_minor": 5
}
