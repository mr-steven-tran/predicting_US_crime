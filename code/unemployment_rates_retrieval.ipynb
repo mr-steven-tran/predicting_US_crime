{
 "cells": [
  {
   "cell_type": "markdown",
   "id": "ed97945c-c988-45b2-957d-e19cfbdb5f05",
   "metadata": {},
   "source": [
    "[header stuff here]\n",
    "\n",
    "In this notebook, we will access the [BLS Public Data API](https://www.bls.gov/developers/) to pull unemployment data by state over time. We'll also do some preprocessing to annualize rates by averaging.\n",
    "\n",
    "---"
   ]
  },
  {
   "cell_type": "code",
   "execution_count": 1,
   "id": "fd1ac017-0703-4a8a-8ae2-6e676f7c2025",
   "metadata": {
    "execution": {
     "iopub.execute_input": "2021-11-29T05:55:02.944153Z",
     "iopub.status.busy": "2021-11-29T05:55:02.944153Z",
     "iopub.status.idle": "2021-11-29T05:55:04.325887Z",
     "shell.execute_reply": "2021-11-29T05:55:04.325887Z",
     "shell.execute_reply.started": "2021-11-29T05:55:02.944153Z"
    },
    "tags": []
   },
   "outputs": [],
   "source": [
    "import requests\n",
    "import pandas as pd\n",
    "import numpy as np\n",
    "import matplotlib.pyplot as plt\n",
    "import seaborn as sns\n",
    "import json\n",
    "\n",
    "import time\n",
    "from datetime import date\n",
    "\n",
    "end_year = int(date.today().strftime(\"%Y\"))-1"
   ]
  },
  {
   "cell_type": "markdown",
   "id": "3a8dbdbb-20ab-4fb5-aea4-742672645023",
   "metadata": {},
   "source": [
    "**NOTE**: BLS Series IDs are coded by a two-digit state code, which are found at [https://download.bls.gov/pub/time.series/sm/sm.state](https://download.bls.gov/pub/time.series/sm/sm.state). That link came from [this documentation](https://www.bls.gov/bls/data_finder.htm).\n",
    "\n",
    "Also, the below will restrict the list to only the 50 states and DC, excluding territories and national aggregates."
   ]
  },
  {
   "cell_type": "code",
   "execution_count": 2,
   "id": "6a9c047d-dc9b-4e7f-8c7b-f26ee2683dd4",
   "metadata": {
    "execution": {
     "iopub.execute_input": "2021-11-29T05:55:04.325887Z",
     "iopub.status.busy": "2021-11-29T05:55:04.325887Z",
     "iopub.status.idle": "2021-11-29T05:55:04.347537Z",
     "shell.execute_reply": "2021-11-29T05:55:04.347537Z",
     "shell.execute_reply.started": "2021-11-29T05:55:04.325887Z"
    },
    "tags": []
   },
   "outputs": [],
   "source": [
    "bls_state_ids = pd.read_csv('../data/reference/bls_sm.state.txt',sep=\"\\t\")\n",
    "#two-digit leading zero filling method taken from: https://stackoverflow.com/a/51837162\n"
   ]
  },
  {
   "cell_type": "code",
   "execution_count": 3,
   "id": "cce21973-1f2e-43cb-92d2-cf6a6820bc58",
   "metadata": {
    "execution": {
     "iopub.execute_input": "2021-11-29T05:55:04.347537Z",
     "iopub.status.busy": "2021-11-29T05:55:04.347537Z",
     "iopub.status.idle": "2021-11-29T05:55:04.364839Z",
     "shell.execute_reply": "2021-11-29T05:55:04.363821Z",
     "shell.execute_reply.started": "2021-11-29T05:55:04.347537Z"
    },
    "tags": []
   },
   "outputs": [],
   "source": [
    "bls_state_ids.drop(inplace=True,\n",
    "                   index=bls_state_ids[bls_state_ids['state_name'].isin(\n",
    "                       ['All States','Puerto Rico','Virgin Islands','All Metropolitan Statistical Areas'])].index)"
   ]
  },
  {
   "cell_type": "code",
   "execution_count": 4,
   "id": "d45dc767-cb81-423c-9b2e-6e9058d3dcc1",
   "metadata": {
    "execution": {
     "iopub.execute_input": "2021-11-29T05:55:04.364839Z",
     "iopub.status.busy": "2021-11-29T05:55:04.364839Z",
     "iopub.status.idle": "2021-11-29T05:55:04.389771Z",
     "shell.execute_reply": "2021-11-29T05:55:04.389771Z",
     "shell.execute_reply.started": "2021-11-29T05:55:04.364839Z"
    },
    "tags": []
   },
   "outputs": [],
   "source": [
    "bls_state_ids = {f'LASST{k:02}0000000000003':v for k,v in zip(bls_state_ids['state_code'],bls_state_ids['state_name'])}"
   ]
  },
  {
   "cell_type": "markdown",
   "id": "dd56196c-36a8-4c34-bcc0-9b682beffc6b",
   "metadata": {},
   "source": [
    "---\n",
    "\n",
    "Unfortunately, per the [BLS Public Data API docs](https://www.bls.gov/developers/api_signature_v2.htm#multiple), a multiple-series query can return data for **at most 50 series** (and we need to get 51). So we'll break the request up into two chunks, processing 26 series the first pass and appending the last 25 series in the second pass.\n",
    "\n",
    "The below function will be the API calling code. The call will need to be made multiple times due to the following restrictions:\n",
    "* Up to 50 seriesIDs can be requested per call\n",
    "    * We'll get the unemployment data in two batches: for states 0-25 and 26-50.\n",
    "* Only 20 years of data can be requested per call\n",
    "    * We'll have to start from 1979 (which coincides with the FBI data's start) and get unemployment data in 20-year increments. In 2021, at least 3 calls will need to be made per batch of state data requests."
   ]
  },
  {
   "cell_type": "code",
   "execution_count": 5,
   "id": "eedbb07e-9d38-4699-b82e-5cffe10224ee",
   "metadata": {
    "execution": {
     "iopub.execute_input": "2021-11-29T05:55:04.389771Z",
     "iopub.status.busy": "2021-11-29T05:55:04.389771Z",
     "iopub.status.idle": "2021-11-29T05:55:04.405115Z",
     "shell.execute_reply": "2021-11-29T05:55:04.405115Z",
     "shell.execute_reply.started": "2021-11-29T05:55:04.389771Z"
    },
    "tags": []
   },
   "outputs": [],
   "source": [
    "headers = {'Content-type': 'application/json'} #does not change between API calls\n",
    "\n",
    "def request_unemployment_data(year_range,series_ids):\n",
    "    data = json.dumps({\"seriesid\": series_ids,\n",
    "                   \"startyear\":year_range[0], \n",
    "                   \"endyear\":year_range[1],\n",
    "                   \"catalog\": True,\n",
    "                   \"annualaverage\": True,\n",
    "                   \"registrationkey\":\"\" ### YOUR API KEY HERE\n",
    "                  })\n",
    "    \n",
    "    #make the request\n",
    "    p = requests.post('https://api.bls.gov/publicAPI/v2/timeseries/data/', data=data, headers=headers)\n",
    "    \n",
    "    series_id_results = False\n",
    "    \n",
    "    for i, state in enumerate(p.json()['Results']['series']):\n",
    "        #print(f\"getting data for {i}, {p.json()['Results']['series'][i]['catalog']['area']} between {year_range[0]} and {year_range[1]}.\")\n",
    "        #get the unemployment data:\n",
    "        df = pd.DataFrame(state['data'])\n",
    "        #make string unemployment values into floats:\n",
    "        df['value'] = df['value'].astype('float')\n",
    "        #get averages by year:\n",
    "        df = pd.DataFrame(df.groupby('year')['value'].mean()).reset_index()\n",
    "        #add which state the series corresponds to:\n",
    "        df['state'] = p.json()['Results']['series'][i]['catalog']['area']\n",
    "        \n",
    "        if series_id_results is False:\n",
    "            series_id_results = df\n",
    "        else:\n",
    "            series_id_results = series_id_results.append(df,ignore_index=True)\n",
    "        \n",
    "        #release memory\n",
    "        del df\n",
    "    # must return a dataframe for the year range and specified series_ids:\n",
    "    return series_id_results"
   ]
  },
  {
   "cell_type": "markdown",
   "id": "d468e7b5-e6d4-4984-950a-12dde0c8d8e7",
   "metadata": {},
   "source": [
    "The cell below will run the api call for as many times as required to get state average unemployment rates from 1979 to the most recent complete year."
   ]
  },
  {
   "cell_type": "code",
   "execution_count": 6,
   "id": "bba25b4f-e3b4-4fe4-aa6e-3448e2ed2f2d",
   "metadata": {
    "execution": {
     "iopub.execute_input": "2021-11-29T05:55:04.405115Z",
     "iopub.status.busy": "2021-11-29T05:55:04.405115Z",
     "iopub.status.idle": "2021-11-29T05:55:04.420497Z",
     "shell.execute_reply": "2021-11-29T05:55:04.420497Z",
     "shell.execute_reply.started": "2021-11-29T05:55:04.405115Z"
    },
    "tags": []
   },
   "outputs": [],
   "source": [
    "def define_year_ranges(end_year,start_year=1979):\n",
    "    #how many years between 1979 and end year:\n",
    "    years = end_year - start_year\n",
    "    #how many splits needed:\n",
    "    splits = (years // 20) + (0 if years%20==0 else 1)\n",
    "    result = []\n",
    "    last_year = start_year\n",
    "    for i in range(splits):\n",
    "        new_last_year = last_year + min(19,end_year-last_year)\n",
    "        result.append((last_year,new_last_year))\n",
    "        last_year = new_last_year+1\n",
    "    return result"
   ]
  },
  {
   "cell_type": "code",
   "execution_count": 7,
   "id": "db549458-4d51-4a3f-99d3-98c519398a59",
   "metadata": {
    "execution": {
     "iopub.execute_input": "2021-11-29T05:55:04.420497Z",
     "iopub.status.busy": "2021-11-29T05:55:04.420497Z",
     "iopub.status.idle": "2021-11-29T05:55:04.437296Z",
     "shell.execute_reply": "2021-11-29T05:55:04.436287Z",
     "shell.execute_reply.started": "2021-11-29T05:55:04.420497Z"
    },
    "tags": []
   },
   "outputs": [],
   "source": [
    "series_sets = {'set1': [x for i,x in enumerate(bls_state_ids) if i<26],\n",
    "          'set2': [x for i,x in enumerate(bls_state_ids) if i>25]}"
   ]
  },
  {
   "cell_type": "code",
   "execution_count": 8,
   "id": "90a3e2f5-fe9c-4dc6-af85-f5ff243d7502",
   "metadata": {
    "execution": {
     "iopub.execute_input": "2021-11-29T05:55:04.437296Z",
     "iopub.status.busy": "2021-11-29T05:55:04.437296Z",
     "iopub.status.idle": "2021-11-29T05:55:24.527074Z",
     "shell.execute_reply": "2021-11-29T05:55:24.527074Z",
     "shell.execute_reply.started": "2021-11-29T05:55:04.437296Z"
    },
    "tags": []
   },
   "outputs": [],
   "source": [
    "state_unemployment = False\n",
    "for i, series_set in series_sets.items():\n",
    "    for date_range in define_year_ranges(2020):\n",
    "        if state_unemployment is False:\n",
    "            state_unemployment = request_unemployment_data(date_range,series_set)\n",
    "        else:\n",
    "            state_unemployment = state_unemployment.append(request_unemployment_data(date_range,series_set),\n",
    "                                                           ignore_index=True)"
   ]
  },
  {
   "cell_type": "code",
   "execution_count": 9,
   "id": "39b2de99-66b8-4f2f-a827-773174552570",
   "metadata": {
    "execution": {
     "iopub.execute_input": "2021-11-29T05:55:24.527074Z",
     "iopub.status.busy": "2021-11-29T05:55:24.527074Z",
     "iopub.status.idle": "2021-11-29T05:55:24.542530Z",
     "shell.execute_reply": "2021-11-29T05:55:24.542530Z",
     "shell.execute_reply.started": "2021-11-29T05:55:24.527074Z"
    },
    "tags": []
   },
   "outputs": [
    {
     "data": {
      "text/plain": [
       "(2142, 3)"
      ]
     },
     "execution_count": 9,
     "metadata": {},
     "output_type": "execute_result"
    }
   ],
   "source": [
    "state_unemployment.shape"
   ]
  },
  {
   "cell_type": "markdown",
   "id": "59c12db7-900c-4a6a-80d2-2f3ebef53091",
   "metadata": {},
   "source": [
    "The row count above should match the row count of rows we've obtained for crime data in [Notebook](#)."
   ]
  },
  {
   "cell_type": "code",
   "execution_count": 10,
   "id": "9d100911-4c22-4b92-bcc4-30f900766d2b",
   "metadata": {
    "execution": {
     "iopub.execute_input": "2021-11-29T05:55:24.542530Z",
     "iopub.status.busy": "2021-11-29T05:55:24.542530Z",
     "iopub.status.idle": "2021-11-29T05:55:24.570768Z",
     "shell.execute_reply": "2021-11-29T05:55:24.570768Z",
     "shell.execute_reply.started": "2021-11-29T05:55:24.542530Z"
    },
    "tags": []
   },
   "outputs": [],
   "source": [
    "state_unemployment.rename(columns={'value': 'avg_unemployment_rate'}, inplace=True)"
   ]
  },
  {
   "cell_type": "code",
   "execution_count": 11,
   "id": "2c885958-1341-47b1-8cfe-25fc3cd4ccdb",
   "metadata": {
    "execution": {
     "iopub.execute_input": "2021-11-29T05:55:24.570768Z",
     "iopub.status.busy": "2021-11-29T05:55:24.570768Z",
     "iopub.status.idle": "2021-11-29T05:55:24.600143Z",
     "shell.execute_reply": "2021-11-29T05:55:24.599099Z",
     "shell.execute_reply.started": "2021-11-29T05:55:24.570768Z"
    }
   },
   "outputs": [
    {
     "data": {
      "text/plain": [
       "Index(['year', 'avg_unemployment_rate', 'state'], dtype='object')"
      ]
     },
     "execution_count": 11,
     "metadata": {},
     "output_type": "execute_result"
    }
   ],
   "source": [
    "state_unemployment.columns"
   ]
  },
  {
   "cell_type": "code",
   "execution_count": 12,
   "id": "76e34be1-aead-4ab4-8492-b698512a9df0",
   "metadata": {
    "execution": {
     "iopub.execute_input": "2021-11-29T05:55:24.600143Z",
     "iopub.status.busy": "2021-11-29T05:55:24.600143Z",
     "iopub.status.idle": "2021-11-29T05:55:24.615665Z",
     "shell.execute_reply": "2021-11-29T05:55:24.614643Z",
     "shell.execute_reply.started": "2021-11-29T05:55:24.600143Z"
    },
    "tags": []
   },
   "outputs": [],
   "source": [
    "state_unemployment = state_unemployment[['state','year','avg_unemployment_rate']]"
   ]
  },
  {
   "cell_type": "code",
   "execution_count": 13,
   "id": "9d1971a6-4a11-49ec-9b55-e3c17a4e4f61",
   "metadata": {
    "execution": {
     "iopub.execute_input": "2021-11-29T05:55:24.616672Z",
     "iopub.status.busy": "2021-11-29T05:55:24.616672Z",
     "iopub.status.idle": "2021-11-29T05:55:24.630803Z",
     "shell.execute_reply": "2021-11-29T05:55:24.629803Z",
     "shell.execute_reply.started": "2021-11-29T05:55:24.616672Z"
    },
    "tags": []
   },
   "outputs": [],
   "source": [
    "state_unemployment = state_unemployment.sort_values(by=['state','year'])"
   ]
  },
  {
   "cell_type": "code",
   "execution_count": 14,
   "id": "ad1f89b6-364b-4624-b54b-68797360cd38",
   "metadata": {
    "execution": {
     "iopub.execute_input": "2021-11-29T05:55:24.632808Z",
     "iopub.status.busy": "2021-11-29T05:55:24.631801Z",
     "iopub.status.idle": "2021-11-29T05:55:24.661803Z",
     "shell.execute_reply": "2021-11-29T05:55:24.660798Z",
     "shell.execute_reply.started": "2021-11-29T05:55:24.632808Z"
    }
   },
   "outputs": [
    {
     "data": {
      "text/html": [
       "<div>\n",
       "<style scoped>\n",
       "    .dataframe tbody tr th:only-of-type {\n",
       "        vertical-align: middle;\n",
       "    }\n",
       "\n",
       "    .dataframe tbody tr th {\n",
       "        vertical-align: top;\n",
       "    }\n",
       "\n",
       "    .dataframe thead th {\n",
       "        text-align: right;\n",
       "    }\n",
       "</style>\n",
       "<table border=\"1\" class=\"dataframe\">\n",
       "  <thead>\n",
       "    <tr style=\"text-align: right;\">\n",
       "      <th></th>\n",
       "      <th>state</th>\n",
       "      <th>year</th>\n",
       "      <th>avg_unemployment_rate</th>\n",
       "    </tr>\n",
       "  </thead>\n",
       "  <tbody>\n",
       "    <tr>\n",
       "      <th>0</th>\n",
       "      <td>Alabama</td>\n",
       "      <td>1979</td>\n",
       "      <td>7.225000</td>\n",
       "    </tr>\n",
       "    <tr>\n",
       "      <th>1</th>\n",
       "      <td>Alabama</td>\n",
       "      <td>1980</td>\n",
       "      <td>8.816667</td>\n",
       "    </tr>\n",
       "    <tr>\n",
       "      <th>2</th>\n",
       "      <td>Alabama</td>\n",
       "      <td>1981</td>\n",
       "      <td>10.691667</td>\n",
       "    </tr>\n",
       "    <tr>\n",
       "      <th>3</th>\n",
       "      <td>Alabama</td>\n",
       "      <td>1982</td>\n",
       "      <td>13.950000</td>\n",
       "    </tr>\n",
       "    <tr>\n",
       "      <th>4</th>\n",
       "      <td>Alabama</td>\n",
       "      <td>1983</td>\n",
       "      <td>13.816667</td>\n",
       "    </tr>\n",
       "  </tbody>\n",
       "</table>\n",
       "</div>"
      ],
      "text/plain": [
       "     state  year  avg_unemployment_rate\n",
       "0  Alabama  1979               7.225000\n",
       "1  Alabama  1980               8.816667\n",
       "2  Alabama  1981              10.691667\n",
       "3  Alabama  1982              13.950000\n",
       "4  Alabama  1983              13.816667"
      ]
     },
     "execution_count": 14,
     "metadata": {},
     "output_type": "execute_result"
    }
   ],
   "source": [
    "state_unemployment.head()"
   ]
  },
  {
   "cell_type": "code",
   "execution_count": 15,
   "id": "82ac998d-432a-4dcd-9034-882123b1dc45",
   "metadata": {
    "execution": {
     "iopub.execute_input": "2021-11-29T05:55:24.664850Z",
     "iopub.status.busy": "2021-11-29T05:55:24.663827Z",
     "iopub.status.idle": "2021-11-29T05:55:24.692799Z",
     "shell.execute_reply": "2021-11-29T05:55:24.691799Z",
     "shell.execute_reply.started": "2021-11-29T05:55:24.664850Z"
    },
    "tags": []
   },
   "outputs": [],
   "source": [
    "state_unemployment.to_csv('../data/bls_state_unemployment.csv',index=False)"
   ]
  },
  {
   "cell_type": "markdown",
   "id": "c8e146f2-507e-4025-bfe4-9ecef46c7391",
   "metadata": {},
   "source": [
    "---\n",
    "\n",
    "Get **National** averages too:"
   ]
  },
  {
   "cell_type": "code",
   "execution_count": 16,
   "id": "ebab97b2-8289-4771-8997-d64c0a2a1170",
   "metadata": {
    "execution": {
     "iopub.execute_input": "2021-11-29T05:55:24.693798Z",
     "iopub.status.busy": "2021-11-29T05:55:24.693798Z",
     "iopub.status.idle": "2021-11-29T05:55:24.708799Z",
     "shell.execute_reply": "2021-11-29T05:55:24.707797Z",
     "shell.execute_reply.started": "2021-11-29T05:55:24.693798Z"
    }
   },
   "outputs": [],
   "source": [
    "us_unemployment = state_unemployment.copy()"
   ]
  },
  {
   "cell_type": "code",
   "execution_count": 17,
   "id": "4020d63c-e2f2-4322-91ea-aa6fb4092f6a",
   "metadata": {
    "execution": {
     "iopub.execute_input": "2021-11-29T05:55:24.709798Z",
     "iopub.status.busy": "2021-11-29T05:55:24.709798Z",
     "iopub.status.idle": "2021-11-29T05:55:24.723801Z",
     "shell.execute_reply": "2021-11-29T05:55:24.722798Z",
     "shell.execute_reply.started": "2021-11-29T05:55:24.709798Z"
    },
    "tags": []
   },
   "outputs": [],
   "source": [
    "us_unemployment = pd.DataFrame(us_unemployment.groupby('year')['avg_unemployment_rate'].mean()).reset_index()"
   ]
  },
  {
   "cell_type": "code",
   "execution_count": 18,
   "id": "0b5b50cb-e54d-4bf8-9fbb-06736a3df9fd",
   "metadata": {
    "execution": {
     "iopub.execute_input": "2021-11-29T05:55:24.725799Z",
     "iopub.status.busy": "2021-11-29T05:55:24.724800Z",
     "iopub.status.idle": "2021-11-29T05:55:24.753800Z",
     "shell.execute_reply": "2021-11-29T05:55:24.752801Z",
     "shell.execute_reply.started": "2021-11-29T05:55:24.725799Z"
    },
    "tags": []
   },
   "outputs": [
    {
     "data": {
      "text/html": [
       "<div>\n",
       "<style scoped>\n",
       "    .dataframe tbody tr th:only-of-type {\n",
       "        vertical-align: middle;\n",
       "    }\n",
       "\n",
       "    .dataframe tbody tr th {\n",
       "        vertical-align: top;\n",
       "    }\n",
       "\n",
       "    .dataframe thead th {\n",
       "        text-align: right;\n",
       "    }\n",
       "</style>\n",
       "<table border=\"1\" class=\"dataframe\">\n",
       "  <thead>\n",
       "    <tr style=\"text-align: right;\">\n",
       "      <th></th>\n",
       "      <th>year</th>\n",
       "      <th>avg_unemployment_rate</th>\n",
       "    </tr>\n",
       "  </thead>\n",
       "  <tbody>\n",
       "    <tr>\n",
       "      <th>0</th>\n",
       "      <td>1979</td>\n",
       "      <td>5.504412</td>\n",
       "    </tr>\n",
       "    <tr>\n",
       "      <th>1</th>\n",
       "      <td>1980</td>\n",
       "      <td>6.817974</td>\n",
       "    </tr>\n",
       "    <tr>\n",
       "      <th>2</th>\n",
       "      <td>1981</td>\n",
       "      <td>7.273203</td>\n",
       "    </tr>\n",
       "    <tr>\n",
       "      <th>3</th>\n",
       "      <td>1982</td>\n",
       "      <td>9.189379</td>\n",
       "    </tr>\n",
       "    <tr>\n",
       "      <th>4</th>\n",
       "      <td>1983</td>\n",
       "      <td>9.154739</td>\n",
       "    </tr>\n",
       "  </tbody>\n",
       "</table>\n",
       "</div>"
      ],
      "text/plain": [
       "   year  avg_unemployment_rate\n",
       "0  1979               5.504412\n",
       "1  1980               6.817974\n",
       "2  1981               7.273203\n",
       "3  1982               9.189379\n",
       "4  1983               9.154739"
      ]
     },
     "execution_count": 18,
     "metadata": {},
     "output_type": "execute_result"
    }
   ],
   "source": [
    "us_unemployment[:5]"
   ]
  },
  {
   "cell_type": "code",
   "execution_count": 19,
   "id": "63a16b67-53b8-4a11-8b31-ffbe4b0f17a6",
   "metadata": {
    "execution": {
     "iopub.execute_input": "2021-11-29T05:55:24.755798Z",
     "iopub.status.busy": "2021-11-29T05:55:24.755798Z",
     "iopub.status.idle": "2021-11-29T05:55:24.785622Z",
     "shell.execute_reply": "2021-11-29T05:55:24.784625Z",
     "shell.execute_reply.started": "2021-11-29T05:55:24.755798Z"
    }
   },
   "outputs": [],
   "source": [
    "#write to dataset:\n",
    "us_unemployment.to_csv('../data/bls_us_unemployment.csv',index=False)"
   ]
  },
  {
   "cell_type": "code",
   "execution_count": null,
   "id": "8b88078c-ca2a-4fa4-837a-1b561404e77d",
   "metadata": {},
   "outputs": [],
   "source": []
  }
 ],
 "metadata": {
  "kernelspec": {
   "display_name": "Python 3",
   "language": "python",
   "name": "python3"
  },
  "language_info": {
   "codemirror_mode": {
    "name": "ipython",
    "version": 3
   },
   "file_extension": ".py",
   "mimetype": "text/x-python",
   "name": "python",
   "nbconvert_exporter": "python",
   "pygments_lexer": "ipython3",
   "version": "3.8.8"
  }
 },
 "nbformat": 4,
 "nbformat_minor": 5
}
