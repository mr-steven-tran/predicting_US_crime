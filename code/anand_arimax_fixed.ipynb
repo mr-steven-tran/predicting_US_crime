{
 "cells": [
  {
   "cell_type": "markdown",
   "id": "acec48d9",
   "metadata": {},
   "source": [
    "# ARIMAX model analysis"
   ]
  },
  {
   "cell_type": "code",
   "execution_count": 1,
   "id": "0f6aa737",
   "metadata": {
    "execution": {
     "iopub.execute_input": "2021-12-03T05:20:55.853238Z",
     "iopub.status.busy": "2021-12-03T05:20:55.853238Z",
     "iopub.status.idle": "2021-12-03T05:20:58.037683Z",
     "shell.execute_reply": "2021-12-03T05:20:58.037683Z",
     "shell.execute_reply.started": "2021-12-03T05:20:55.853238Z"
    },
    "tags": []
   },
   "outputs": [],
   "source": [
    "import pandas as pd\n",
    "import matplotlib.pyplot as plt\n",
    "from statsmodels.tsa.arima.model import ARIMA\n",
    "from pmdarima import auto_arima\n",
    "from sklearn.metrics import mean_absolute_error, mean_squared_error, r2_score\n",
    "\n",
    "import warnings\n",
    "warnings.filterwarnings(\"ignore\")"
   ]
  },
  {
   "cell_type": "code",
   "execution_count": 2,
   "id": "efbb5a0d",
   "metadata": {
    "execution": {
     "iopub.execute_input": "2021-12-03T05:20:58.795189Z",
     "iopub.status.busy": "2021-12-03T05:20:58.795189Z",
     "iopub.status.idle": "2021-12-03T05:20:58.842119Z",
     "shell.execute_reply": "2021-12-03T05:20:58.842119Z",
     "shell.execute_reply.started": "2021-12-03T05:20:58.795189Z"
    },
    "tags": []
   },
   "outputs": [
    {
     "data": {
      "text/html": [
       "<div>\n",
       "<style scoped>\n",
       "    .dataframe tbody tr th:only-of-type {\n",
       "        vertical-align: middle;\n",
       "    }\n",
       "\n",
       "    .dataframe tbody tr th {\n",
       "        vertical-align: top;\n",
       "    }\n",
       "\n",
       "    .dataframe thead th {\n",
       "        text-align: right;\n",
       "    }\n",
       "</style>\n",
       "<table border=\"1\" class=\"dataframe\">\n",
       "  <thead>\n",
       "    <tr style=\"text-align: right;\">\n",
       "      <th></th>\n",
       "      <th>state_abbr</th>\n",
       "      <th>year</th>\n",
       "      <th>population</th>\n",
       "      <th>violent_crime</th>\n",
       "      <th>homicide</th>\n",
       "      <th>rape</th>\n",
       "      <th>robbery</th>\n",
       "      <th>aggravated_assault</th>\n",
       "      <th>property_crime</th>\n",
       "      <th>burglary</th>\n",
       "      <th>...</th>\n",
       "      <th>burglary_1000</th>\n",
       "      <th>larceny_1000</th>\n",
       "      <th>motor_vehicle_theft_1000</th>\n",
       "      <th>arson_1000</th>\n",
       "      <th>avg_unemployment_rate</th>\n",
       "      <th>avg_CPI</th>\n",
       "      <th>ag_Democrat</th>\n",
       "      <th>ag_Mixed</th>\n",
       "      <th>ag_Republican</th>\n",
       "      <th>ag_Unknown</th>\n",
       "    </tr>\n",
       "  </thead>\n",
       "  <tbody>\n",
       "    <tr>\n",
       "      <th>0</th>\n",
       "      <td>AL</td>\n",
       "      <td>1979</td>\n",
       "      <td>3769000</td>\n",
       "      <td>15578</td>\n",
       "      <td>496</td>\n",
       "      <td>1037</td>\n",
       "      <td>4127</td>\n",
       "      <td>9918</td>\n",
       "      <td>144372</td>\n",
       "      <td>48517</td>\n",
       "      <td>...</td>\n",
       "      <td>12.872645</td>\n",
       "      <td>22.231626</td>\n",
       "      <td>3.200849</td>\n",
       "      <td>0.067392</td>\n",
       "      <td>7.225000</td>\n",
       "      <td>72.583333</td>\n",
       "      <td>1</td>\n",
       "      <td>0</td>\n",
       "      <td>0</td>\n",
       "      <td>0</td>\n",
       "    </tr>\n",
       "    <tr>\n",
       "      <th>1</th>\n",
       "      <td>AL</td>\n",
       "      <td>1980</td>\n",
       "      <td>3861466</td>\n",
       "      <td>17320</td>\n",
       "      <td>509</td>\n",
       "      <td>1158</td>\n",
       "      <td>5102</td>\n",
       "      <td>10551</td>\n",
       "      <td>173191</td>\n",
       "      <td>58952</td>\n",
       "      <td>...</td>\n",
       "      <td>15.266741</td>\n",
       "      <td>26.422348</td>\n",
       "      <td>3.162012</td>\n",
       "      <td>0.287197</td>\n",
       "      <td>8.816667</td>\n",
       "      <td>82.383333</td>\n",
       "      <td>1</td>\n",
       "      <td>0</td>\n",
       "      <td>0</td>\n",
       "      <td>0</td>\n",
       "    </tr>\n",
       "    <tr>\n",
       "      <th>2</th>\n",
       "      <td>AL</td>\n",
       "      <td>1981</td>\n",
       "      <td>3916000</td>\n",
       "      <td>18423</td>\n",
       "      <td>465</td>\n",
       "      <td>1021</td>\n",
       "      <td>4952</td>\n",
       "      <td>11985</td>\n",
       "      <td>173411</td>\n",
       "      <td>56811</td>\n",
       "      <td>...</td>\n",
       "      <td>14.507406</td>\n",
       "      <td>26.933350</td>\n",
       "      <td>2.841931</td>\n",
       "      <td>0.305158</td>\n",
       "      <td>10.691667</td>\n",
       "      <td>90.933333</td>\n",
       "      <td>1</td>\n",
       "      <td>0</td>\n",
       "      <td>0</td>\n",
       "      <td>0</td>\n",
       "    </tr>\n",
       "    <tr>\n",
       "      <th>3</th>\n",
       "      <td>AL</td>\n",
       "      <td>1982</td>\n",
       "      <td>3943000</td>\n",
       "      <td>17653</td>\n",
       "      <td>417</td>\n",
       "      <td>1026</td>\n",
       "      <td>4417</td>\n",
       "      <td>11793</td>\n",
       "      <td>165048</td>\n",
       "      <td>49531</td>\n",
       "      <td>...</td>\n",
       "      <td>12.561755</td>\n",
       "      <td>26.563530</td>\n",
       "      <td>2.733198</td>\n",
       "      <td>0.273396</td>\n",
       "      <td>13.950000</td>\n",
       "      <td>96.533333</td>\n",
       "      <td>1</td>\n",
       "      <td>0</td>\n",
       "      <td>0</td>\n",
       "      <td>0</td>\n",
       "    </tr>\n",
       "    <tr>\n",
       "      <th>4</th>\n",
       "      <td>AL</td>\n",
       "      <td>1983</td>\n",
       "      <td>3959000</td>\n",
       "      <td>16471</td>\n",
       "      <td>364</td>\n",
       "      <td>931</td>\n",
       "      <td>3895</td>\n",
       "      <td>11281</td>\n",
       "      <td>145890</td>\n",
       "      <td>42485</td>\n",
       "      <td>...</td>\n",
       "      <td>10.731245</td>\n",
       "      <td>23.813842</td>\n",
       "      <td>2.305128</td>\n",
       "      <td>0.247790</td>\n",
       "      <td>13.816667</td>\n",
       "      <td>99.583333</td>\n",
       "      <td>1</td>\n",
       "      <td>0</td>\n",
       "      <td>0</td>\n",
       "      <td>0</td>\n",
       "    </tr>\n",
       "  </tbody>\n",
       "</table>\n",
       "<p>5 rows × 29 columns</p>\n",
       "</div>"
      ],
      "text/plain": [
       "  state_abbr  year  population  violent_crime  homicide  rape  robbery  \\\n",
       "0         AL  1979     3769000          15578       496  1037     4127   \n",
       "1         AL  1980     3861466          17320       509  1158     5102   \n",
       "2         AL  1981     3916000          18423       465  1021     4952   \n",
       "3         AL  1982     3943000          17653       417  1026     4417   \n",
       "4         AL  1983     3959000          16471       364   931     3895   \n",
       "\n",
       "   aggravated_assault  property_crime  burglary  ...  burglary_1000  \\\n",
       "0                9918          144372     48517  ...      12.872645   \n",
       "1               10551          173191     58952  ...      15.266741   \n",
       "2               11985          173411     56811  ...      14.507406   \n",
       "3               11793          165048     49531  ...      12.561755   \n",
       "4               11281          145890     42485  ...      10.731245   \n",
       "\n",
       "   larceny_1000  motor_vehicle_theft_1000  arson_1000  avg_unemployment_rate  \\\n",
       "0     22.231626                  3.200849    0.067392               7.225000   \n",
       "1     26.422348                  3.162012    0.287197               8.816667   \n",
       "2     26.933350                  2.841931    0.305158              10.691667   \n",
       "3     26.563530                  2.733198    0.273396              13.950000   \n",
       "4     23.813842                  2.305128    0.247790              13.816667   \n",
       "\n",
       "     avg_CPI  ag_Democrat  ag_Mixed  ag_Republican  ag_Unknown  \n",
       "0  72.583333            1         0              0           0  \n",
       "1  82.383333            1         0              0           0  \n",
       "2  90.933333            1         0              0           0  \n",
       "3  96.533333            1         0              0           0  \n",
       "4  99.583333            1         0              0           0  \n",
       "\n",
       "[5 rows x 29 columns]"
      ]
     },
     "execution_count": 2,
     "metadata": {},
     "output_type": "execute_result"
    }
   ],
   "source": [
    "preds_and_target = pd.read_csv('data/model_inputs/predictors_and_targets.csv')\n",
    "preds_and_target.head()"
   ]
  },
  {
   "cell_type": "code",
   "execution_count": 3,
   "id": "3a97f2de",
   "metadata": {
    "execution": {
     "iopub.execute_input": "2021-12-03T05:20:59.682144Z",
     "iopub.status.busy": "2021-12-03T05:20:59.682144Z",
     "iopub.status.idle": "2021-12-03T05:20:59.697421Z",
     "shell.execute_reply": "2021-12-03T05:20:59.697421Z",
     "shell.execute_reply.started": "2021-12-03T05:20:59.682144Z"
    }
   },
   "outputs": [
    {
     "data": {
      "text/plain": [
       "array(['AL', 'AK', 'AZ', 'AR', 'CA', 'CO', 'CT', 'DE', 'FL', 'GA', 'HI',\n",
       "       'ID', 'IL', 'IN', 'IA', 'KS', 'KY', 'LA', 'ME', 'MD', 'MA', 'MI',\n",
       "       'MN', 'MS', 'MO', 'MT', 'NE', 'NV', 'NH', 'NJ', 'NM', 'NY', 'NC',\n",
       "       'ND', 'OH', 'OK', 'OR', 'PA', 'RI', 'SC', 'SD', 'TN', 'TX', 'UT',\n",
       "       'VT', 'VA', 'WA', 'WV', 'WI', 'WY', 'DC'], dtype=object)"
      ]
     },
     "execution_count": 3,
     "metadata": {},
     "output_type": "execute_result"
    }
   ],
   "source": [
    "state_abbrs = pd.unique(preds_and_target['state_abbr'])\n",
    "state_abbrs"
   ]
  },
  {
   "cell_type": "markdown",
   "id": "02f07f4f",
   "metadata": {},
   "source": [
    "## Determining the best p, d, q"
   ]
  },
  {
   "cell_type": "code",
   "execution_count": 4,
   "id": "eaf47987",
   "metadata": {
    "execution": {
     "iopub.execute_input": "2021-12-03T05:21:03.006109Z",
     "iopub.status.busy": "2021-12-03T05:21:03.006109Z",
     "iopub.status.idle": "2021-12-03T05:24:16.394393Z",
     "shell.execute_reply": "2021-12-03T05:24:16.394393Z",
     "shell.execute_reply.started": "2021-12-03T05:21:03.006109Z"
    }
   },
   "outputs": [],
   "source": [
    "arima_violent = {}\n",
    "arima_property = {}\n",
    "\n",
    "for abbr in state_abbrs:\n",
    "    # Create a new dataframe for each state\n",
    "    df = preds_and_target.copy()\n",
    "    df =df[df['state_abbr'] == abbr]\n",
    "    df['year'] = pd.to_datetime(df['year'], format='%Y')\n",
    "    df.set_index('year',inplace=True)\n",
    "    \n",
    "    # Predictor variables\n",
    "    X = df[['population', 'avg_unemployment_rate', 'avg_CPI', 'ag_Democrat', 'ag_Mixed', 'ag_Republican']]\n",
    "    \n",
    "    # First target variable\n",
    "    y1 = df['violent_crime_1000']\n",
    "    arima1 = auto_arima(\n",
    "        y1,\n",
    "        X,\n",
    "        start_p = 0,\n",
    "        start_q = 0,\n",
    "        d = 2, # Most data is stationary at 2 differences\n",
    "        max_d = 2,\n",
    "        start_P = 0,\n",
    "        start_Q = 0,\n",
    "        D = 2,\n",
    "        max_D = 2,\n",
    "        seasonal = False,\n",
    "        suppress_warnings = True,\n",
    "        trace = False,\n",
    "        error_action = 'ignore'\n",
    "    )\n",
    "    \n",
    "    arima_violent[abbr] = arima1\n",
    "    \n",
    "    # Second target variable\n",
    "    y2 = df['property_crime_1000']\n",
    "    arima2 = auto_arima(\n",
    "        y2,\n",
    "        X,\n",
    "        start_p = 0,\n",
    "        start_q = 0,\n",
    "        d = 2, # Most data is stationary at 2 differences\n",
    "        max_d = 2,\n",
    "        start_P = 0,\n",
    "        start_Q = 0,\n",
    "        D = 2,\n",
    "        max_D = 2,\n",
    "        seasonal = False,\n",
    "        suppress_warnings = True,\n",
    "        trace = False,\n",
    "        error_action = 'ignore'\n",
    "    )\n",
    "    \n",
    "    arima_property[abbr] = arima2"
   ]
  },
  {
   "cell_type": "markdown",
   "id": "602105d9",
   "metadata": {},
   "source": [
    "## ARIMAX analysis"
   ]
  },
  {
   "cell_type": "code",
   "execution_count": 13,
   "id": "72e153b6",
   "metadata": {
    "execution": {
     "iopub.execute_input": "2021-12-03T05:27:33.503403Z",
     "iopub.status.busy": "2021-12-03T05:27:33.503403Z",
     "iopub.status.idle": "2021-12-03T05:27:41.479761Z",
     "shell.execute_reply": "2021-12-03T05:27:41.478738Z",
     "shell.execute_reply.started": "2021-12-03T05:27:33.503403Z"
    }
   },
   "outputs": [],
   "source": [
    "violent_mae_total = 0\n",
    "violent_r2_total = 0\n",
    "violent_rmse_total = 0\n",
    "\n",
    "for abbr in state_abbrs:\n",
    "    df = preds_and_target.copy()\n",
    "    df = df[df['state_abbr'] == abbr]\n",
    "    df['year'] = pd.to_datetime(df['year'], format='%Y')\n",
    "    df.set_index('year',inplace=True)\n",
    "\n",
    "    X = df[['population', 'avg_unemployment_rate', 'avg_CPI', 'ag_Democrat', 'ag_Mixed', 'ag_Republican']]\n",
    "    current_arima = ARIMA(endog = df['violent_crime_1000'], \n",
    "                          exog = X,\n",
    "                          order=arima_violent[abbr].order)\n",
    "    fitted_arima = current_arima.fit()\n",
    "    predictions = fitted_arima.predict(start = 1, dynamic = False)\n",
    "    \n",
    "    violent_mae_total += mean_absolute_error(df['violent_crime_1000'][1:], predictions)\n",
    "    violent_r2_total += r2_score(df['violent_crime_1000'][1:], predictions)\n",
    "    violent_rmse_total += mean_squared_error(df['violent_crime_1000'][1:], predictions)**0.5"
   ]
  },
  {
   "cell_type": "code",
   "execution_count": 14,
   "id": "1e8e50e4",
   "metadata": {
    "execution": {
     "iopub.execute_input": "2021-12-03T05:28:03.973652Z",
     "iopub.status.busy": "2021-12-03T05:28:03.973652Z",
     "iopub.status.idle": "2021-12-03T05:28:03.989314Z",
     "shell.execute_reply": "2021-12-03T05:28:03.989314Z",
     "shell.execute_reply.started": "2021-12-03T05:28:03.973652Z"
    }
   },
   "outputs": [
    {
     "data": {
      "text/plain": [
       "0.36867118654025127"
      ]
     },
     "execution_count": 14,
     "metadata": {},
     "output_type": "execute_result"
    }
   ],
   "source": [
    "avg_violent_mae = violent_mae_total/51\n",
    "avg_violent_mae"
   ]
  },
  {
   "cell_type": "code",
   "execution_count": 15,
   "id": "f4ddd8f9",
   "metadata": {
    "execution": {
     "iopub.execute_input": "2021-12-03T05:28:04.843429Z",
     "iopub.status.busy": "2021-12-03T05:28:04.843429Z",
     "iopub.status.idle": "2021-12-03T05:28:04.859054Z",
     "shell.execute_reply": "2021-12-03T05:28:04.859054Z",
     "shell.execute_reply.started": "2021-12-03T05:28:04.843429Z"
    }
   },
   "outputs": [
    {
     "data": {
      "text/plain": [
       "0.7947434853115708"
      ]
     },
     "execution_count": 15,
     "metadata": {},
     "output_type": "execute_result"
    }
   ],
   "source": [
    "avg_violent_rmse = violent_rmse_total/51\n",
    "avg_violent_rmse"
   ]
  },
  {
   "cell_type": "markdown",
   "id": "07bdc055",
   "metadata": {},
   "source": [
    "Our ARIMA models for each state are, on average, off by 0.36 violent crimes per 1000 population using mean absolute error and 0.79 violent crimes per 1000 population using root mean squared error."
   ]
  },
  {
   "cell_type": "code",
   "execution_count": 8,
   "id": "721e814a",
   "metadata": {
    "execution": {
     "iopub.execute_input": "2021-12-03T05:28:07.017087Z",
     "iopub.status.busy": "2021-12-03T05:28:07.017087Z",
     "iopub.status.idle": "2021-12-03T05:28:07.032722Z",
     "shell.execute_reply": "2021-12-03T05:28:07.032722Z",
     "shell.execute_reply.started": "2021-12-03T05:28:07.017087Z"
    }
   },
   "outputs": [
    {
     "data": {
      "text/plain": [
       "-0.5313733393689813"
      ]
     },
     "execution_count": 8,
     "metadata": {},
     "output_type": "execute_result"
    }
   ],
   "source": [
    "avg_violent_r2 = violent_r2_total/51\n",
    "avg_violent_r2"
   ]
  },
  {
   "cell_type": "markdown",
   "id": "c748fb34",
   "metadata": {},
   "source": [
    "Despite the low MAE and RMSE, the presence of a negative R-squared indicates that using an ARIMA model is a poor fit for the violent crime data."
   ]
  },
  {
   "cell_type": "code",
   "execution_count": 9,
   "id": "aab1e967",
   "metadata": {
    "execution": {
     "iopub.execute_input": "2021-12-03T05:28:53.279019Z",
     "iopub.status.busy": "2021-12-03T05:28:53.279019Z",
     "iopub.status.idle": "2021-12-03T05:28:59.969325Z",
     "shell.execute_reply": "2021-12-03T05:28:59.969325Z",
     "shell.execute_reply.started": "2021-12-03T05:28:53.279019Z"
    },
    "tags": []
   },
   "outputs": [],
   "source": [
    "property_mae_total = 0\n",
    "property_r2_total = 0\n",
    "property_rmse_total = 0\n",
    "\n",
    "for abbr in state_abbrs:\n",
    "    df = preds_and_target.copy()\n",
    "    df = df[df['state_abbr'] == abbr]\n",
    "    df['year'] = pd.to_datetime(df['year'], format='%Y')\n",
    "    df.set_index('year',inplace=True)\n",
    "\n",
    "    X = df[['population', 'avg_unemployment_rate', 'avg_CPI', 'ag_Democrat', 'ag_Mixed', 'ag_Republican']]\n",
    "    current_arima = ARIMA(endog = df['property_crime_1000'], \n",
    "                          exog = X,\n",
    "                          order=arima_property[abbr].order)\n",
    "    fitted_arima = current_arima.fit()\n",
    "    predictions = fitted_arima.predict(start = 1, dynamic = False)\n",
    "    property_mae_total += mean_absolute_error(df['property_crime_1000'][1:], predictions)\n",
    "    property_r2_total += r2_score(df['property_crime_1000'][1:], predictions)\n",
    "    property_rmse_total += mean_squared_error(df['property_crime_1000'][1:], predictions)**0.5"
   ]
  },
  {
   "cell_type": "code",
   "execution_count": 10,
   "id": "cc118451",
   "metadata": {
    "execution": {
     "iopub.execute_input": "2021-12-03T05:29:01.743952Z",
     "iopub.status.busy": "2021-12-03T05:29:01.743952Z",
     "iopub.status.idle": "2021-12-03T05:29:01.759588Z",
     "shell.execute_reply": "2021-12-03T05:29:01.759588Z",
     "shell.execute_reply.started": "2021-12-03T05:29:01.743952Z"
    }
   },
   "outputs": [
    {
     "data": {
      "text/plain": [
       "2.2508470195804366"
      ]
     },
     "execution_count": 10,
     "metadata": {},
     "output_type": "execute_result"
    }
   ],
   "source": [
    "avg_property_mae = property_mae_total/51\n",
    "avg_property_mae"
   ]
  },
  {
   "cell_type": "code",
   "execution_count": 11,
   "id": "589c17ca",
   "metadata": {
    "execution": {
     "iopub.execute_input": "2021-12-03T05:29:02.244566Z",
     "iopub.status.busy": "2021-12-03T05:29:02.244566Z",
     "iopub.status.idle": "2021-12-03T05:29:02.260207Z",
     "shell.execute_reply": "2021-12-03T05:29:02.260207Z",
     "shell.execute_reply.started": "2021-12-03T05:29:02.244566Z"
    }
   },
   "outputs": [
    {
     "data": {
      "text/plain": [
       "4.790785057962381"
      ]
     },
     "execution_count": 11,
     "metadata": {},
     "output_type": "execute_result"
    }
   ],
   "source": [
    "avg_property_rmse = property_rmse_total/51\n",
    "avg_property_rmse"
   ]
  },
  {
   "cell_type": "markdown",
   "id": "02461c0c",
   "metadata": {},
   "source": [
    "Our ARIMA models for each state are, on average, off by 2.24 property crimes per 1000 population using mean absolute error and 4.77 property crimes per 1000 population using root mean squared error."
   ]
  },
  {
   "cell_type": "code",
   "execution_count": 12,
   "id": "e6e5d027",
   "metadata": {
    "execution": {
     "iopub.execute_input": "2021-12-03T05:29:04.426694Z",
     "iopub.status.busy": "2021-12-03T05:29:04.426694Z",
     "iopub.status.idle": "2021-12-03T05:29:04.442356Z",
     "shell.execute_reply": "2021-12-03T05:29:04.442356Z",
     "shell.execute_reply.started": "2021-12-03T05:29:04.426694Z"
    }
   },
   "outputs": [
    {
     "data": {
      "text/plain": [
       "0.5424504398646747"
      ]
     },
     "execution_count": 12,
     "metadata": {},
     "output_type": "execute_result"
    }
   ],
   "source": [
    "avg_property_r2 = property_r2_total/51\n",
    "avg_property_r2"
   ]
  },
  {
   "cell_type": "markdown",
   "id": "6df28f24",
   "metadata": {},
   "source": [
    "On average, our ARIMA models for each state explain 54.4% of the variation in property crime over time."
   ]
  }
 ],
 "metadata": {
  "kernelspec": {
   "display_name": "Python 3",
   "language": "python",
   "name": "python3"
  },
  "language_info": {
   "codemirror_mode": {
    "name": "ipython",
    "version": 3
   },
   "file_extension": ".py",
   "mimetype": "text/x-python",
   "name": "python",
   "nbconvert_exporter": "python",
   "pygments_lexer": "ipython3",
   "version": "3.8.8"
  }
 },
 "nbformat": 4,
 "nbformat_minor": 5
}
